{
  "cells": [
    {
      "cell_type": "markdown",
      "metadata": {
        "id": "sP6WMxOV1BAO"
      },
      "source": [
        "# Machine Learning Systems Assignment 2\n",
        "\n",
        "<a target=\"_blank\" href=\"https://colab.research.google.com/github/mlsyscourse/assignment2/blob/main/mlsys_hw2.ipynb\">\n",
        "  <img src=\"https://colab.research.google.com/assets/colab-badge.svg\" alt=\"Open In Colab\"/>\n",
        "</a>\n",
        "\n",
        "**Assignment due: Feb 26, 2025, 11:59 pm, Eastern Time**.\n",
        "\n",
        "Tensor program optimization is a very important part in machine learning compilation.\n",
        "It enables operators in machine learning (e.g., matrix multiplication, convolution, reduction, etc.)\n",
        "to run efficiently on various modern hardware.\n",
        "In this assignment, you will use a tensor program optimizing interface in [TVM](https://tvm.apache.org)\n",
        "to schedule and automatically tune typical operators.\n",
        "\n",
        "* **Be prepared** -- in this assignment you may need to learn many new terminologies and concepts.\n",
        "* You should work on this assignment **individually** -- it is not a team assignment.\n",
        "* This assignment **requires** NVIDIA GPU with CUDA environment. You can do the assignment on Google Colab (by clicking the badge above) or any other GPU server that you have access to. **Important note: we will test your submission with an NVIDIA T4 GPU, which is free available on Google Colab. So if you do the assignment on other environments, we recommend you to test it on Colab before submission.**\n",
        "* This assignment is pure Python. No C++ is needed in this assignment.\n",
        "* Please check out the end of this notebook for the assignment submission requirement.\n",
        "* Please do not share your solution on publicly available websites (e.g., GitHub).\n",
        "* **About testing and grading.** The assignment will be automatically graded. You can submit multiple times, and the time stamp of that submission will be used in determining any late penalties. We also encourage you to create your own test cases, which helps you confirm the correctness of your code.\n"
      ]
    },
    {
      "cell_type": "markdown",
      "metadata": {
        "id": "oqD1Y5B91BAY"
      },
      "source": [
        "## Preparation\n",
        "\n",
        "### Using Google Colab\n",
        "\n",
        "If you are using Google Colab environment, please make a copy of this notebook file by selecting \"Save a copy in Drive\" from the \"File\" menu, and then run the code block below to set up workspace. After cloning, you will see the cloned repository in the \"Files\" bar on the left."
      ]
    },
    {
      "cell_type": "code",
      "execution_count": 3,
      "metadata": {
        "colab": {
          "base_uri": "https://localhost:8080/"
        },
        "id": "JG8BDx6q1BAa",
        "outputId": "009efa86-3f29-4aa8-ab53-b304dce3f04d"
      },
      "outputs": [
        {
          "output_type": "stream",
          "name": "stdout",
          "text": [
            "Mounted at /content/drive\n",
            "/content/drive/MyDrive\n",
            "/content/drive/MyDrive/15442\n",
            "fatal: destination path 'assignment2' already exists and is not an empty directory.\n",
            "/content/drive/MyDrive/15442/assignment2\n"
          ]
        }
      ],
      "source": [
        "# Code to set up the assignment\n",
        "from google.colab import drive\n",
        "drive.mount('/content/drive')\n",
        "%cd /content/drive/MyDrive/\n",
        "!mkdir -p 15442\n",
        "%cd /content/drive/MyDrive/15442\n",
        "!git clone https://github.com/mlsyscourse/assignment2.git\n",
        "%cd /content/drive/MyDrive/15442/assignment2"
      ]
    },
    {
      "cell_type": "markdown",
      "metadata": {
        "id": "WBMRzrEv1BAc"
      },
      "source": [
        "Then run the following cell to install TVM dependency.\n",
        "\n",
        "**Note.** The PyPI package installed below only has CPU support.\n",
        "It is fine to use this CPU package when you implement the\n",
        "first five tasks of part 1.\n",
        "We will have instructions on how to install the GPU package\n",
        "later on."
      ]
    },
    {
      "cell_type": "code",
      "execution_count": 7,
      "metadata": {
        "colab": {
          "base_uri": "https://localhost:8080/"
        },
        "id": "p0GJN6EO1BAd",
        "outputId": "451fb732-80da-4c81-b4b7-d709d328ebf1"
      },
      "outputs": [
        {
          "output_type": "stream",
          "name": "stdout",
          "text": [
            "Looking in links: https://mlc.ai/wheels\n",
            "Requirement already satisfied: mlc-ai-cpu in /usr/local/lib/python3.11/dist-packages (0.19.0)\n",
            "Requirement already satisfied: attrs in /usr/local/lib/python3.11/dist-packages (from mlc-ai-cpu) (25.1.0)\n",
            "Requirement already satisfied: cloudpickle in /usr/local/lib/python3.11/dist-packages (from mlc-ai-cpu) (3.1.1)\n",
            "Requirement already satisfied: decorator in /usr/local/lib/python3.11/dist-packages (from mlc-ai-cpu) (4.4.2)\n",
            "Requirement already satisfied: ml-dtypes in /usr/local/lib/python3.11/dist-packages (from mlc-ai-cpu) (0.4.1)\n",
            "Requirement already satisfied: numpy in /usr/local/lib/python3.11/dist-packages (from mlc-ai-cpu) (1.26.4)\n",
            "Requirement already satisfied: packaging in /usr/local/lib/python3.11/dist-packages (from mlc-ai-cpu) (24.2)\n",
            "Requirement already satisfied: psutil in /usr/local/lib/python3.11/dist-packages (from mlc-ai-cpu) (5.9.5)\n",
            "Requirement already satisfied: scipy in /usr/local/lib/python3.11/dist-packages (from mlc-ai-cpu) (1.13.1)\n",
            "Requirement already satisfied: tornado in /usr/local/lib/python3.11/dist-packages (from mlc-ai-cpu) (6.4.2)\n",
            "Requirement already satisfied: typing-extensions in /usr/local/lib/python3.11/dist-packages (from mlc-ai-cpu) (4.12.2)\n"
          ]
        }
      ],
      "source": [
        "!python3 -m pip install mlc-ai-cpu -f https://mlc.ai/wheels"
      ]
    },
    {
      "cell_type": "markdown",
      "metadata": {
        "id": "YQMAQRZv1BAe"
      },
      "source": [
        "We can validate that the dependency is successfully installed by running the following."
      ]
    },
    {
      "cell_type": "code",
      "execution_count": 8,
      "metadata": {
        "colab": {
          "base_uri": "https://localhost:8080/"
        },
        "id": "jy6qlZzT1BAf",
        "outputId": "620b62b6-ec86-4f56-df67-1df94226903c"
      },
      "outputs": [
        {
          "output_type": "execute_result",
          "data": {
            "text/plain": [
              "['/usr/local/lib/python3.11/dist-packages/tvm']"
            ]
          },
          "metadata": {},
          "execution_count": 8
        }
      ],
      "source": [
        "import tvm\n",
        "tvm.__path__"
      ]
    },
    {
      "cell_type": "markdown",
      "metadata": {
        "id": "XrEUvijn1BAi"
      },
      "source": [
        "### Using local environment\n",
        "\n",
        "If you are using local/server environment (requiring NVIDIA GPU and CUDA ≥ 11.7), please clone this repository.\n",
        "\n",
        "```shell\n",
        "git clone https://github.com/mlsyscourse/assignment2.git\n",
        "cd assignment2\n",
        "export PYTHONPATH=$PWD:$PYTHONPATH\n",
        "```\n",
        "\n",
        "We recommend you to create a conda environment and install the dependency package in the environment.\n",
        "```shell\n",
        "conda create --name 15442 python=3.11\n",
        "conda activate 15442\n",
        "python3 -m pip install --force-reinstall mlc-ai-cu123 -f https://mlc.ai/wheels\n",
        "```"
      ]
    },
    {
      "cell_type": "markdown",
      "metadata": {
        "id": "BVqT40zS1BAj"
      },
      "source": [
        "Please also select the Python interpreter in this conda environment and use it to run this notebook.\n",
        "We can validate that the dependency is successfully installed by running the following."
      ]
    },
    {
      "cell_type": "code",
      "execution_count": null,
      "metadata": {
        "id": "8OCff3Er1BAl",
        "outputId": "0ef63035-8486-402c-b112-78adf3f80017"
      },
      "outputs": [
        {
          "data": {
            "text/plain": [
              "['/path/to/conda/envs/15442/lib/python3.11/site-packages/tvm']\n"
            ]
          },
          "execution_count": 1,
          "metadata": {},
          "output_type": "execute_result"
        }
      ],
      "source": [
        "import tvm\n",
        "tvm.__path__"
      ]
    },
    {
      "cell_type": "markdown",
      "metadata": {
        "id": "8popVBck1BAl"
      },
      "source": [
        "## Part 1. Optimize Matrix Multiplication (80 pt)\n",
        "\n",
        "In part 1, you will manually optimize a fused \"GeMM + ReLU + add\" operator with TVM and run it\n",
        "on the NVIDIA GPU in your environment.\n",
        "The \"GeMM + ReLU + add\" pattern is common in machine learning models when activation\n",
        "and residual-add operations are involved.\n",
        "Formally, for given 2-dim tensors $A$, $B$, and $C$, we want to compute the following $D$:\n",
        "\n",
        "$$\n",
        "D = \\mathrm{ReLU} (A B) + C.\n",
        "$$"
      ]
    },
    {
      "cell_type": "markdown",
      "metadata": {
        "id": "fLXIzlaR1BAm"
      },
      "source": [
        "We define this operator using [TensorIR](https://arxiv.org/pdf/2207.04296.pdf),\n",
        "the tensor program level intermediate representation (IR) in TVM, as follows.\n",
        "You can also find this definition in `gemm_relu_add.py`."
      ]
    },
    {
      "cell_type": "markdown",
      "metadata": {
        "id": "e2SIaOix1BAm"
      },
      "source": [
        "```python\n",
        "from tvm import tir\n",
        "from tvm.script import tir as T\n",
        "\n",
        "M = 2048\n",
        "N = 2048\n",
        "K = 2048\n",
        "\n",
        "\n",
        "@T.prim_func\n",
        "def gemm_relu_add(\n",
        "    A: T.Buffer((M, K), \"float32\"),\n",
        "    B: T.Buffer((K, N), \"float32\"),\n",
        "    C: T.Buffer((M, N), \"float32\"),\n",
        "    D: T.Buffer((M, N), \"float32\"),\n",
        ") -> None:\n",
        "    matmul = T.alloc_buffer((M, N), \"float32\", scope=\"global\")\n",
        "    relu = T.alloc_buffer((M, N), \"float32\", scope=\"global\")\n",
        "    # Compute GeMM\n",
        "    for i, j, k in T.grid(M, N, K):\n",
        "        with T.block(\"gemm\"):\n",
        "            vi = T.axis.spatial(M, i)\n",
        "            vj = T.axis.spatial(N, j)\n",
        "            vk = T.axis.reduce(K, k)\n",
        "            with T.init():\n",
        "                matmul[vi, vj] = T.float32(0)\n",
        "            matmul[vi, vj] += A[vi, vk] * B[vk, vj]\n",
        "    # Compute ReLU\n",
        "    for i, j in T.grid(M, N):\n",
        "        with T.block(\"relu\"):\n",
        "            vi = T.axis.spatial(M, i)\n",
        "            vj = T.axis.spatial(N, j)\n",
        "            relu[vi, vj] = T.max(matmul[vi, vj], T.float32(0))\n",
        "    # Compute add\n",
        "    for i, j in T.grid(M, N):\n",
        "        with T.block(\"add\"):\n",
        "            vi = T.axis.spatial(M, i)\n",
        "            vj = T.axis.spatial(N, j)\n",
        "            D[vi, vj] = relu[vi, vj] + C[vi, vj]\n",
        "\n",
        "\n",
        "sch = tir.Schedule(gemm_relu_add)\n",
        "```"
      ]
    },
    {
      "cell_type": "markdown",
      "metadata": {
        "id": "85ybGRGh1BAo"
      },
      "source": [
        "Let's go through this piece of code and look into its components.\n",
        "\n",
        "* The function takes the four tensors `A`, `B`, `C` and `D` as inputs with the corresponding shape and dtype.\n",
        "You may notice that the tensor `D`, which we want to compute, is passed in as an argument, rather than\n",
        "a function return value.\n",
        "This is what we call the \"destination-passing style,\" where we allocate the destination tensor\n",
        "before calling this function, and pass in the destination tensor as an argument.\n",
        "Destination-passing style is widely adopted by low-level operator libraries (e.g.,\n",
        "[cuBLAS](https://docs.nvidia.com/cuda/cublas/index.html)) and the tensor program level\n",
        "abstractions in machine learning compilers.\n",
        "* The first two lines of the function body define the tensors where intermediate results from\n",
        "GeMM and ReLU are stores. Their memory scope is global at this moment.\n",
        "* Next, there are the three sequential for-loop blocks defining the computation.\n",
        "  * The first one defines the GeMM computation. For a given `vi` and `vj`, the loop body\n",
        "  reads from `A` and `B`, sums up the values along `vk`, and stores the summation result into\n",
        "  the intermediate tensor `matmul`, with `T.float32(0)` being the initial value of the summation.\n",
        "  * The second one defines the ReLU computation, which element-wisely takes the maximum\n",
        "  of `matmul` and zero.\n",
        "  * The third one describes the element-wise addition of the ReLU result and the input tensor `C`.\n",
        "* After defining the function, we create a `tir.Schedule` instance with regard to this function.\n",
        "`tir.Schedule` is the core tool in this assignment you will use to optimize this function.\n",
        "`tir.Schedule` provides the a set of function transformations (which we call \"schedule primitives\")\n",
        "that help accelerate the function execution on hardware.\n",
        "We will introduce these schedule primitives later."
      ]
    },
    {
      "cell_type": "markdown",
      "metadata": {
        "id": "W6luejRu1BAo"
      },
      "source": [
        "Your goal in this part is to optimize this GeMM + ReLU + add workload so that it can efficiently run on GPU.\n",
        "Usually, optimizing such a workload of matrix multiplication with epilogues (e.g., ReLU and add here)\n",
        "for GPU, five major steps are required:\n",
        "\n",
        "1. shared memory tiling,\n",
        "2. register tiling,\n",
        "3. cooperative fetching,\n",
        "4. write cache.\n",
        "5. epilogue fusion.\n",
        "\n",
        "Before you start, here is a note on grading.\n",
        "When grading your submission in this part, we evaluate your optimization from two aspects.\n",
        "* The first and most basic one is the **numerical correctness**.\n",
        "This being said, after optimizing the workload, your function should produce the\n",
        "same numerical results as the original workload.\n",
        "More concretely, in this assignment, it means that the function after your optimization\n",
        "should still compute GeMM + ReLU + addition.\n",
        "We provide the tests for you to check the numerical correctness of your optimization.\n",
        "But you may not be able to run the test until you have implemented all optimizations.\n",
        "* The other aspect is whether you properly implemented the optimizations.\n",
        "Unfortunately, it is hard to automatically check this,\n",
        "and **there is no test** for you to test it in Python.\n",
        "Your submission will be **manually** checked to see if each task is properly implemented.\n",
        "On the other hand, we provide the optimized function after **finishing all five tasks** in `reference.py` for your reference.\n",
        "So you can see what a final function may look like,\n",
        "and you can also refer to it after you implementing each task.\n",
        "*Please note that you do not have to get the exactly same function as the reference one.*\n"
      ]
    },
    {
      "cell_type": "markdown",
      "metadata": {
        "id": "EBnPOPLH1BAp"
      },
      "source": [
        "Now, let's get started."
      ]
    },
    {
      "cell_type": "markdown",
      "metadata": {
        "id": "gaXlxJxk1BAp"
      },
      "source": [
        "### Task 1. Shared memory tiling (20 pt)\n",
        "\n",
        "Our optimization is centered around the GeMM part.\n",
        "This is because though we have three stages (GeMM, ReLU and add) in this workload,\n",
        "GeMM has the the heaviest computation and the most memory accesses.\n",
        "Once we have optimized the GeMM, the rest parts can be optimized accordingly,\n",
        "based on how the GeMM is optimized.\n",
        "\n",
        "You have learned about the concept of **thread blocks** in GPU architectures from the lectures.\n",
        "To optimize a GeMM workload, people usually partition the destination matrix (`matmul` for our case)\n",
        "into multiple tiles along both the row and column dimensions, and assign one thread block\n",
        "for the computation of each tile.\n",
        "\n",
        "For example, in the figure below, a thread block computes a `(tile_x, tile_y)` tile.\n",
        "That is to say, this particular thread block will iterate over a `(tile_x, K)` region of `A`\n",
        "and a `(K, tile_y)` region of `B`, compute the matrix multiplication of these two regions,\n",
        "and write the results into the `(tile_x, tile_y)` tile.\n",
        "We can use Python notation to formally describe the tiling:\n",
        "for a given thread block, assuming the tile that this thread block computes\n",
        "starts from `offset_x` on the `M` dimension and `offset_y` on the `N` dimension,\n",
        "then the thread block computes the following:\n",
        "```python\n",
        "matmul[offset_x : offset_x + tile_x, offset_y : offset_y + tile_y] = (\n",
        "    A[offset_x : offset_x + tile_x, :] @ B[:, offset_y : offset_y + tile_y]\n",
        ")\n",
        "```\n",
        "\n",
        "<img src=\"https://raw.githubusercontent.com/mlsyscourse/assignment2/main/figure/shared-memory-tiling.jpg\" alt=\"figure/shared-memory-tiling.jpg\" width=\"100%\">"
      ]
    },
    {
      "cell_type": "markdown",
      "metadata": {
        "id": "QmxcV8RT1BAq"
      },
      "source": [
        "The next step is about reducing the memory access pressure of the GeMM operator.\n",
        "This is done via leveraging **shared memory** available in GPU, which you also learned about from lectures:\n",
        "rather than directly reading from `A` and `B` (which reside in global memory)\n",
        "at the time of computing multiplication, each thread block first loads the `A` region\n",
        "and `B` region it needs from global memory to shared memory.\n",
        "\n",
        "Just like CPU cache, while shared memory can offer much faster access speed,\n",
        "it has relatively smaller size than global memory.\n",
        "Usually, the size of shared memory available in a thread block is no more than 48KB.\n",
        "In our case, given each float32 element has four bytes,\n",
        "the `A` region and `B` region that a thread block needs\n",
        "have size `(tile_x * K * 4) + (tile_y * K * 4)` bytes.\n",
        "which is far more than the available shared memory size a thread block can use.\n",
        "To address this issue, you also need split the long stripe of `A` and `B` into\n",
        "multiple chunks along the `K` dimension.\n",
        "By doing this, now you are able to go through `A` chunks and `B` chunks one at a time simultaneously,\n",
        "and load a single `A` tile and `B` chunk into shared memory, which fits the available\n",
        "shared memory size.\n",
        "This can be formally written as\n",
        "\n",
        "```python\n",
        "matmul[offset_x : offset_x + tile_x, offset_y : offset_y + tile_y] = sum(\n",
        "    A[offset_x : offset_x + tile_x, k : k + tile_k]\n",
        "    @ B[k : k + tile_k, offset_y : offset_y + tile_y]\n",
        "    for k in range(0, n, tile_k)\n",
        ")\n",
        "```\n"
      ]
    },
    {
      "cell_type": "markdown",
      "metadata": {
        "id": "XyvR4fmA1BAq"
      },
      "source": [
        "We can analyze how much global memory accesses we reduce by leveraging shared memory:\n",
        "\n",
        "* There are $M \\times K$ elements in $A$ and $N \\times K$ elements in $B$.\n",
        "When not using shared memory, each element of $A$ is read for $N$ times,\n",
        "and each element of $B$ is read for $M$ times.\n",
        "So number of accesses to $A$ and $B$ in global memory are both $MNK$.\n",
        "* With shared memory tiling, the number of times each element of $A$ is read becomes $\\frac{N}{\\mathrm{tile}_y}$,\n",
        "and the number of times each element of $B$ is read becomes $\\frac{M}{\\mathrm{tile}_x}$.\n",
        "And the total number of accesses to $A$ and $B$ are divided by $\\mathrm{tile}_y$ and $\\mathrm{tile}_x$ respectively.\n"
      ]
    },
    {
      "cell_type": "markdown",
      "metadata": {
        "id": "1BpH9Jsb1BAq"
      },
      "source": [
        "You need to implement the shared memory tiling in the `shared_memory_tiling` function in `gemm_relu_add.py`.\n",
        "Below are the schedule primitives you will use in this task.\n",
        "We provide [another Jupyter notebook](https://github.com/mlsyscourse/assignment2/blob/main/schedule_example.ipynb) that walks you through an example\n",
        "of using some of these schedule primitives for your reference.\n",
        "Meanwhile, you can click the links below to check out their documentations,\n",
        "which contain a basic example on how to use the primitive.\n",
        "We also provide instructions in your TODO area in `gemm_relu_add.py`.\n",
        "\n",
        "- `split` [(docs)](https://tvm.apache.org/docs/reference/api/python/tir/schedule.html#tvm.tir.schedule.Schedule.split)\n",
        "  - It splits one loop into multiple loops that collectively iterate the iteration space of the original loop.\n",
        "  We use `split` for tiling.\n",
        "- `reorder` [(docs)](https://tvm.apache.org/docs/reference/api/python/tir/schedule.html#tvm.tir.schedule.Schedule.reorder)\n",
        "  - It reorders the specified contiguous loops into a new order.\n",
        "  We apply `reorder` for loops after splitting for tiling.\n",
        "- `bind` [(docs)](https://tvm.apache.org/docs/reference/api/python/tir/schedule.html#tvm.tir.schedule.Schedule.bind)\n",
        "  - It binds a loop to `blockIdx.x/y/z` or `threadIdx.x/y/z` on GPU,\n",
        "  so that we can specify the area to compute of a thread block or a single thread.\n",
        "- `cache_read` [(docs)](https://tvm.apache.org/docs/reference/api/python/tir/schedule.html#tvm.tir.schedule.Schedule.cache_read)\n",
        "  - It generates a cache stage for the specified region in the specified memory scope.\n",
        "  We use `cache_read` to generate the read stages from global memory to shared memory.\n",
        "- `compute_at` [(docs)](https://tvm.apache.org/docs/reference/api/python/tir/schedule.html#tvm.tir.schedule.Schedule.compute_at)\n",
        "  - It moves a computation (e.g., the shared memory read stage) to the location under the specified loop.\n",
        "  We use `compute_at` to move the shared memory read stages to the right location.\n",
        "\n",
        "You can run `gemm_relu_add.py` to see how the function looks like after your optimization.\n",
        "Note: you can insert `sch.show()` at any position to print out the function,\n",
        "so that you can visually see how the function looks like."
      ]
    },
    {
      "cell_type": "code",
      "execution_count": 4,
      "metadata": {
        "colab": {
          "base_uri": "https://localhost:8080/"
        },
        "id": "0jG__hJn1BAr",
        "outputId": "7e542ee1-4e83-42c8-81e9-a0e7af009957"
      },
      "outputs": [
        {
          "output_type": "stream",
          "name": "stdout",
          "text": [
            "\u001b[90;03m# from tvm.script import ir as I\u001b[39;00m\n",
            "\u001b[90;03m# from tvm.script import tir as T\u001b[39;00m\n",
            "\n",
            "\u001b[95;03m@I\u001b[39;00m\u001b[35;01m.\u001b[39;00mir_module\n",
            "\u001b[32;01mclass\u001b[39;00m \u001b[34;01mModule\u001b[39;00m:\n",
            "    \u001b[95;03m@T\u001b[39;00m\u001b[35;01m.\u001b[39;00mprim_func\n",
            "    \u001b[32;01mdef\u001b[39;00m \u001b[34;01mmain\u001b[39;00m(A: T\u001b[35;01m.\u001b[39;00mBuffer((\u001b[92m2048\u001b[39m, \u001b[92m2048\u001b[39m), \u001b[33m\"\u001b[39m\u001b[33mfloat32\u001b[39m\u001b[33m\"\u001b[39m), B: T\u001b[35;01m.\u001b[39;00mBuffer((\u001b[92m2048\u001b[39m, \u001b[92m2048\u001b[39m), \u001b[33m\"\u001b[39m\u001b[33mfloat32\u001b[39m\u001b[33m\"\u001b[39m), C: T\u001b[35;01m.\u001b[39;00mBuffer((\u001b[92m2048\u001b[39m, \u001b[92m2048\u001b[39m), \u001b[33m\"\u001b[39m\u001b[33mfloat32\u001b[39m\u001b[33m\"\u001b[39m), D: T\u001b[35;01m.\u001b[39;00mBuffer((\u001b[92m2048\u001b[39m, \u001b[92m2048\u001b[39m), \u001b[33m\"\u001b[39m\u001b[33mfloat32\u001b[39m\u001b[33m\"\u001b[39m)):\n",
            "        T\u001b[35;01m.\u001b[39;00mfunc_attr({\u001b[33m\"\u001b[39m\u001b[33mglobal_symbol\u001b[39m\u001b[33m\"\u001b[39m: \u001b[33m\"\u001b[39m\u001b[33mgemm_relu_add\u001b[39m\u001b[33m\"\u001b[39m})\n",
            "        \u001b[90;03m# with T.block(\"root\"):\u001b[39;00m\n",
            "        matmul \u001b[35;01m=\u001b[39;00m T\u001b[35;01m.\u001b[39;00malloc_buffer((\u001b[92m2048\u001b[39m, \u001b[92m2048\u001b[39m))\n",
            "        relu \u001b[35;01m=\u001b[39;00m T\u001b[35;01m.\u001b[39;00malloc_buffer((\u001b[92m2048\u001b[39m, \u001b[92m2048\u001b[39m))\n",
            "        A_shared \u001b[35;01m=\u001b[39;00m T\u001b[35;01m.\u001b[39;00malloc_buffer((\u001b[92m2048\u001b[39m, \u001b[92m2048\u001b[39m), scope\u001b[35;01m=\u001b[39;00m\u001b[33m\"\u001b[39m\u001b[33mshared\u001b[39m\u001b[33m\"\u001b[39m)\n",
            "        B_shared \u001b[35;01m=\u001b[39;00m T\u001b[35;01m.\u001b[39;00malloc_buffer((\u001b[92m2048\u001b[39m, \u001b[92m2048\u001b[39m), scope\u001b[35;01m=\u001b[39;00m\u001b[33m\"\u001b[39m\u001b[33mshared\u001b[39m\u001b[33m\"\u001b[39m)\n",
            "        A_shared_local \u001b[35;01m=\u001b[39;00m T\u001b[35;01m.\u001b[39;00malloc_buffer((\u001b[92m2048\u001b[39m, \u001b[92m2048\u001b[39m), scope\u001b[35;01m=\u001b[39;00m\u001b[33m\"\u001b[39m\u001b[33mlocal\u001b[39m\u001b[33m\"\u001b[39m)\n",
            "        B_shared_local \u001b[35;01m=\u001b[39;00m T\u001b[35;01m.\u001b[39;00malloc_buffer((\u001b[92m2048\u001b[39m, \u001b[92m2048\u001b[39m), scope\u001b[35;01m=\u001b[39;00m\u001b[33m\"\u001b[39m\u001b[33mlocal\u001b[39m\u001b[33m\"\u001b[39m)\n",
            "        \u001b[32;01mfor\u001b[39;00m i_0 \u001b[32;01min\u001b[39;00m T\u001b[35;01m.\u001b[39;00mthread_binding(\u001b[92m32\u001b[39m, thread\u001b[35;01m=\u001b[39;00m\u001b[33m\"\u001b[39m\u001b[33mblockIdx.x\u001b[39m\u001b[33m\"\u001b[39m):\n",
            "            \u001b[32;01mfor\u001b[39;00m j_0 \u001b[32;01min\u001b[39;00m T\u001b[35;01m.\u001b[39;00mthread_binding(\u001b[92m32\u001b[39m, thread\u001b[35;01m=\u001b[39;00m\u001b[33m\"\u001b[39m\u001b[33mblockIdx.y\u001b[39m\u001b[33m\"\u001b[39m):\n",
            "                \u001b[32;01mfor\u001b[39;00m k_0 \u001b[32;01min\u001b[39;00m range(\u001b[92m32\u001b[39m):\n",
            "                    \u001b[32;01mfor\u001b[39;00m ax0_ax1_fused_0 \u001b[32;01min\u001b[39;00m range(\u001b[92m16\u001b[39m):\n",
            "                        \u001b[32;01mfor\u001b[39;00m ax0_ax1_fused_1 \u001b[32;01min\u001b[39;00m T\u001b[35;01m.\u001b[39;00mthread_binding(\u001b[92m16\u001b[39m, thread\u001b[35;01m=\u001b[39;00m\u001b[33m\"\u001b[39m\u001b[33mthreadIdx.y\u001b[39m\u001b[33m\"\u001b[39m):\n",
            "                            \u001b[32;01mfor\u001b[39;00m ax0_ax1_fused_2 \u001b[32;01min\u001b[39;00m T\u001b[35;01m.\u001b[39;00mthread_binding(\u001b[92m16\u001b[39m, thread\u001b[35;01m=\u001b[39;00m\u001b[33m\"\u001b[39m\u001b[33mthreadIdx.x\u001b[39m\u001b[33m\"\u001b[39m):\n",
            "                                \u001b[32;01mwith\u001b[39;00m T\u001b[35;01m.\u001b[39;00mblock(\u001b[33m\"\u001b[39m\u001b[33mA_shared\u001b[39m\u001b[33m\"\u001b[39m):\n",
            "                                    v0 \u001b[35;01m=\u001b[39;00m T\u001b[35;01m.\u001b[39;00maxis\u001b[35;01m.\u001b[39;00mspatial(\u001b[92m2048\u001b[39m, i_0 \u001b[35;01m*\u001b[39;00m \u001b[92m64\u001b[39m \u001b[35;01m+\u001b[39;00m (ax0_ax1_fused_0 \u001b[35;01m*\u001b[39;00m \u001b[92m256\u001b[39m \u001b[35;01m+\u001b[39;00m ax0_ax1_fused_1 \u001b[35;01m*\u001b[39;00m \u001b[92m16\u001b[39m \u001b[35;01m+\u001b[39;00m ax0_ax1_fused_2) \u001b[35;01m/\u001b[39;00m\u001b[35;01m/\u001b[39;00m \u001b[92m64\u001b[39m)\n",
            "                                    v1 \u001b[35;01m=\u001b[39;00m T\u001b[35;01m.\u001b[39;00maxis\u001b[35;01m.\u001b[39;00mspatial(\u001b[92m2048\u001b[39m, k_0 \u001b[35;01m*\u001b[39;00m \u001b[92m64\u001b[39m \u001b[35;01m+\u001b[39;00m (ax0_ax1_fused_0 \u001b[35;01m*\u001b[39;00m \u001b[92m256\u001b[39m \u001b[35;01m+\u001b[39;00m ax0_ax1_fused_1 \u001b[35;01m*\u001b[39;00m \u001b[92m16\u001b[39m \u001b[35;01m+\u001b[39;00m ax0_ax1_fused_2) \u001b[35;01m%\u001b[39;00m \u001b[92m64\u001b[39m)\n",
            "                                    T\u001b[35;01m.\u001b[39;00mreads(A[v0, v1])\n",
            "                                    T\u001b[35;01m.\u001b[39;00mwrites(A_shared[v0, v1])\n",
            "                                    A_shared[v0, v1] \u001b[35;01m=\u001b[39;00m A[v0, v1]\n",
            "                    \u001b[32;01mfor\u001b[39;00m ax0_ax1_fused_0 \u001b[32;01min\u001b[39;00m range(\u001b[92m16\u001b[39m):\n",
            "                        \u001b[32;01mfor\u001b[39;00m ax0_ax1_fused_1 \u001b[32;01min\u001b[39;00m T\u001b[35;01m.\u001b[39;00mthread_binding(\u001b[92m16\u001b[39m, thread\u001b[35;01m=\u001b[39;00m\u001b[33m\"\u001b[39m\u001b[33mthreadIdx.y\u001b[39m\u001b[33m\"\u001b[39m):\n",
            "                            \u001b[32;01mfor\u001b[39;00m ax0_ax1_fused_2 \u001b[32;01min\u001b[39;00m T\u001b[35;01m.\u001b[39;00mthread_binding(\u001b[92m16\u001b[39m, thread\u001b[35;01m=\u001b[39;00m\u001b[33m\"\u001b[39m\u001b[33mthreadIdx.x\u001b[39m\u001b[33m\"\u001b[39m):\n",
            "                                \u001b[32;01mwith\u001b[39;00m T\u001b[35;01m.\u001b[39;00mblock(\u001b[33m\"\u001b[39m\u001b[33mB_shared\u001b[39m\u001b[33m\"\u001b[39m):\n",
            "                                    v0 \u001b[35;01m=\u001b[39;00m T\u001b[35;01m.\u001b[39;00maxis\u001b[35;01m.\u001b[39;00mspatial(\u001b[92m2048\u001b[39m, k_0 \u001b[35;01m*\u001b[39;00m \u001b[92m64\u001b[39m \u001b[35;01m+\u001b[39;00m (ax0_ax1_fused_0 \u001b[35;01m*\u001b[39;00m \u001b[92m256\u001b[39m \u001b[35;01m+\u001b[39;00m ax0_ax1_fused_1 \u001b[35;01m*\u001b[39;00m \u001b[92m16\u001b[39m \u001b[35;01m+\u001b[39;00m ax0_ax1_fused_2) \u001b[35;01m/\u001b[39;00m\u001b[35;01m/\u001b[39;00m \u001b[92m64\u001b[39m)\n",
            "                                    v1 \u001b[35;01m=\u001b[39;00m T\u001b[35;01m.\u001b[39;00maxis\u001b[35;01m.\u001b[39;00mspatial(\u001b[92m2048\u001b[39m, j_0 \u001b[35;01m*\u001b[39;00m \u001b[92m64\u001b[39m \u001b[35;01m+\u001b[39;00m (ax0_ax1_fused_0 \u001b[35;01m*\u001b[39;00m \u001b[92m256\u001b[39m \u001b[35;01m+\u001b[39;00m ax0_ax1_fused_1 \u001b[35;01m*\u001b[39;00m \u001b[92m16\u001b[39m \u001b[35;01m+\u001b[39;00m ax0_ax1_fused_2) \u001b[35;01m%\u001b[39;00m \u001b[92m64\u001b[39m)\n",
            "                                    T\u001b[35;01m.\u001b[39;00mreads(B[v0, v1])\n",
            "                                    T\u001b[35;01m.\u001b[39;00mwrites(B_shared[v0, v1])\n",
            "                                    B_shared[v0, v1] \u001b[35;01m=\u001b[39;00m B[v0, v1]\n",
            "                    \u001b[32;01mfor\u001b[39;00m i_1_0 \u001b[32;01min\u001b[39;00m T\u001b[35;01m.\u001b[39;00mthread_binding(\u001b[92m16\u001b[39m, thread\u001b[35;01m=\u001b[39;00m\u001b[33m\"\u001b[39m\u001b[33mthreadIdx.x\u001b[39m\u001b[33m\"\u001b[39m):\n",
            "                        \u001b[32;01mfor\u001b[39;00m j_1_0 \u001b[32;01min\u001b[39;00m T\u001b[35;01m.\u001b[39;00mthread_binding(\u001b[92m16\u001b[39m, thread\u001b[35;01m=\u001b[39;00m\u001b[33m\"\u001b[39m\u001b[33mthreadIdx.y\u001b[39m\u001b[33m\"\u001b[39m):\n",
            "                            \u001b[32;01mfor\u001b[39;00m k_1_0 \u001b[32;01min\u001b[39;00m range(\u001b[92m64\u001b[39m):\n",
            "                                \u001b[32;01mfor\u001b[39;00m ax0 \u001b[32;01min\u001b[39;00m range(\u001b[92m4\u001b[39m):\n",
            "                                    \u001b[32;01mwith\u001b[39;00m T\u001b[35;01m.\u001b[39;00mblock(\u001b[33m\"\u001b[39m\u001b[33mA_shared_local\u001b[39m\u001b[33m\"\u001b[39m):\n",
            "                                        v0 \u001b[35;01m=\u001b[39;00m T\u001b[35;01m.\u001b[39;00maxis\u001b[35;01m.\u001b[39;00mspatial(\u001b[92m2048\u001b[39m, i_0 \u001b[35;01m*\u001b[39;00m \u001b[92m64\u001b[39m \u001b[35;01m+\u001b[39;00m i_1_0 \u001b[35;01m*\u001b[39;00m \u001b[92m4\u001b[39m \u001b[35;01m+\u001b[39;00m ax0)\n",
            "                                        v1 \u001b[35;01m=\u001b[39;00m T\u001b[35;01m.\u001b[39;00maxis\u001b[35;01m.\u001b[39;00mspatial(\u001b[92m2048\u001b[39m, k_0 \u001b[35;01m*\u001b[39;00m \u001b[92m64\u001b[39m \u001b[35;01m+\u001b[39;00m k_1_0)\n",
            "                                        T\u001b[35;01m.\u001b[39;00mreads(A_shared[v0, v1])\n",
            "                                        T\u001b[35;01m.\u001b[39;00mwrites(A_shared_local[v0, v1])\n",
            "                                        A_shared_local[v0, v1] \u001b[35;01m=\u001b[39;00m A_shared[v0, v1]\n",
            "                                \u001b[32;01mfor\u001b[39;00m ax0 \u001b[32;01min\u001b[39;00m range(\u001b[92m4\u001b[39m):\n",
            "                                    \u001b[32;01mwith\u001b[39;00m T\u001b[35;01m.\u001b[39;00mblock(\u001b[33m\"\u001b[39m\u001b[33mB_shared_local\u001b[39m\u001b[33m\"\u001b[39m):\n",
            "                                        v0 \u001b[35;01m=\u001b[39;00m T\u001b[35;01m.\u001b[39;00maxis\u001b[35;01m.\u001b[39;00mspatial(\u001b[92m2048\u001b[39m, k_0 \u001b[35;01m*\u001b[39;00m \u001b[92m64\u001b[39m \u001b[35;01m+\u001b[39;00m k_1_0)\n",
            "                                        v1 \u001b[35;01m=\u001b[39;00m T\u001b[35;01m.\u001b[39;00maxis\u001b[35;01m.\u001b[39;00mspatial(\u001b[92m2048\u001b[39m, j_0 \u001b[35;01m*\u001b[39;00m \u001b[92m64\u001b[39m \u001b[35;01m+\u001b[39;00m j_1_0 \u001b[35;01m*\u001b[39;00m \u001b[92m4\u001b[39m \u001b[35;01m+\u001b[39;00m ax0)\n",
            "                                        T\u001b[35;01m.\u001b[39;00mreads(B_shared[v0, v1])\n",
            "                                        T\u001b[35;01m.\u001b[39;00mwrites(B_shared_local[v0, v1])\n",
            "                                        B_shared_local[v0, v1] \u001b[35;01m=\u001b[39;00m B_shared[v0, v1]\n",
            "                                \u001b[32;01mfor\u001b[39;00m i_1_1, j_1_1, k_1_1 \u001b[32;01min\u001b[39;00m T\u001b[35;01m.\u001b[39;00mgrid(\u001b[92m4\u001b[39m, \u001b[92m4\u001b[39m, \u001b[92m1\u001b[39m):\n",
            "                                    \u001b[32;01mwith\u001b[39;00m T\u001b[35;01m.\u001b[39;00mblock(\u001b[33m\"\u001b[39m\u001b[33mgemm\u001b[39m\u001b[33m\"\u001b[39m):\n",
            "                                        vi \u001b[35;01m=\u001b[39;00m T\u001b[35;01m.\u001b[39;00maxis\u001b[35;01m.\u001b[39;00mspatial(\u001b[92m2048\u001b[39m, i_0 \u001b[35;01m*\u001b[39;00m \u001b[92m64\u001b[39m \u001b[35;01m+\u001b[39;00m i_1_0 \u001b[35;01m*\u001b[39;00m \u001b[92m4\u001b[39m \u001b[35;01m+\u001b[39;00m i_1_1)\n",
            "                                        vj \u001b[35;01m=\u001b[39;00m T\u001b[35;01m.\u001b[39;00maxis\u001b[35;01m.\u001b[39;00mspatial(\u001b[92m2048\u001b[39m, j_0 \u001b[35;01m*\u001b[39;00m \u001b[92m64\u001b[39m \u001b[35;01m+\u001b[39;00m j_1_0 \u001b[35;01m*\u001b[39;00m \u001b[92m4\u001b[39m \u001b[35;01m+\u001b[39;00m j_1_1)\n",
            "                                        vk \u001b[35;01m=\u001b[39;00m T\u001b[35;01m.\u001b[39;00maxis\u001b[35;01m.\u001b[39;00mreduce(\u001b[92m2048\u001b[39m, k_0 \u001b[35;01m*\u001b[39;00m \u001b[92m64\u001b[39m \u001b[35;01m+\u001b[39;00m k_1_0 \u001b[35;01m+\u001b[39;00m k_1_1)\n",
            "                                        T\u001b[35;01m.\u001b[39;00mreads(A_shared_local[vi, vk], B_shared_local[vk, vj])\n",
            "                                        T\u001b[35;01m.\u001b[39;00mwrites(matmul[vi, vj])\n",
            "                                        \u001b[32;01mwith\u001b[39;00m T\u001b[35;01m.\u001b[39;00minit():\n",
            "                                            matmul[vi, vj] \u001b[35;01m=\u001b[39;00m T\u001b[35;01m.\u001b[39;00mfloat32(\u001b[92m0.0\u001b[39m)\n",
            "                                        matmul[vi, vj] \u001b[35;01m=\u001b[39;00m matmul[vi, vj] \u001b[35;01m+\u001b[39;00m A_shared_local[vi, vk] \u001b[35;01m*\u001b[39;00m B_shared_local[vk, vj]\n",
            "        \u001b[32;01mfor\u001b[39;00m i, j \u001b[32;01min\u001b[39;00m T\u001b[35;01m.\u001b[39;00mgrid(\u001b[92m2048\u001b[39m, \u001b[92m2048\u001b[39m):\n",
            "            \u001b[32;01mwith\u001b[39;00m T\u001b[35;01m.\u001b[39;00mblock(\u001b[33m\"\u001b[39m\u001b[33mrelu\u001b[39m\u001b[33m\"\u001b[39m):\n",
            "                vi, vj \u001b[35;01m=\u001b[39;00m T\u001b[35;01m.\u001b[39;00maxis\u001b[35;01m.\u001b[39;00mremap(\u001b[33m\"\u001b[39m\u001b[33mSS\u001b[39m\u001b[33m\"\u001b[39m, [i, j])\n",
            "                T\u001b[35;01m.\u001b[39;00mreads(matmul[vi, vj])\n",
            "                T\u001b[35;01m.\u001b[39;00mwrites(relu[vi, vj])\n",
            "                relu[vi, vj] \u001b[35;01m=\u001b[39;00m T\u001b[35;01m.\u001b[39;00mmax(matmul[vi, vj], T\u001b[35;01m.\u001b[39;00mfloat32(\u001b[92m0.0\u001b[39m))\n",
            "        \u001b[32;01mfor\u001b[39;00m i, j \u001b[32;01min\u001b[39;00m T\u001b[35;01m.\u001b[39;00mgrid(\u001b[92m2048\u001b[39m, \u001b[92m2048\u001b[39m):\n",
            "            \u001b[32;01mwith\u001b[39;00m T\u001b[35;01m.\u001b[39;00mblock(\u001b[33m\"\u001b[39m\u001b[33madd\u001b[39m\u001b[33m\"\u001b[39m):\n",
            "                vi, vj \u001b[35;01m=\u001b[39;00m T\u001b[35;01m.\u001b[39;00maxis\u001b[35;01m.\u001b[39;00mremap(\u001b[33m\"\u001b[39m\u001b[33mSS\u001b[39m\u001b[33m\"\u001b[39m, [i, j])\n",
            "                T\u001b[35;01m.\u001b[39;00mreads(relu[vi, vj], C[vi, vj])\n",
            "                T\u001b[35;01m.\u001b[39;00mwrites(D[vi, vj])\n",
            "                D[vi, vj] \u001b[35;01m=\u001b[39;00m relu[vi, vj] \u001b[35;01m+\u001b[39;00m C[vi, vj]\n",
            "\n",
            "\u001b[90;03m# from tvm import tir\u001b[39;00m\n",
            "\u001b[32;01mdef\u001b[39;00m \u001b[34;01mapply_trace\u001b[39;00m(sch: tir\u001b[35;01m.\u001b[39;00mSchedule) \u001b[35;01m-\u001b[39;00m\u001b[35;01m>\u001b[39;00m \u001b[32;01mNone\u001b[39;00m:\n",
            "  b0 \u001b[35;01m=\u001b[39;00m sch\u001b[35;01m.\u001b[39;00mget_block(name\u001b[35;01m=\u001b[39;00m\u001b[33m\"\u001b[39m\u001b[33mgemm\u001b[39m\u001b[33m\"\u001b[39m, func_name\u001b[35;01m=\u001b[39;00m\u001b[33m\"\u001b[39m\u001b[33mmain\u001b[39m\u001b[33m\"\u001b[39m)\n",
            "  l1, l2, l3 \u001b[35;01m=\u001b[39;00m sch\u001b[35;01m.\u001b[39;00mget_loops(block\u001b[35;01m=\u001b[39;00mb0)\n",
            "  l4, l5 \u001b[35;01m=\u001b[39;00m sch\u001b[35;01m.\u001b[39;00msplit(loop\u001b[35;01m=\u001b[39;00ml1, factors\u001b[35;01m=\u001b[39;00m[\u001b[32;01mNone\u001b[39;00m, \u001b[92m64\u001b[39m], preserve_unit_iters\u001b[35;01m=\u001b[39;00m\u001b[32;01mTrue\u001b[39;00m, disable_predication\u001b[35;01m=\u001b[39;00m\u001b[32;01mFalse\u001b[39;00m)\n",
            "  l6, l7 \u001b[35;01m=\u001b[39;00m sch\u001b[35;01m.\u001b[39;00msplit(loop\u001b[35;01m=\u001b[39;00ml2, factors\u001b[35;01m=\u001b[39;00m[\u001b[32;01mNone\u001b[39;00m, \u001b[92m64\u001b[39m], preserve_unit_iters\u001b[35;01m=\u001b[39;00m\u001b[32;01mTrue\u001b[39;00m, disable_predication\u001b[35;01m=\u001b[39;00m\u001b[32;01mFalse\u001b[39;00m)\n",
            "  l8, l9 \u001b[35;01m=\u001b[39;00m sch\u001b[35;01m.\u001b[39;00msplit(loop\u001b[35;01m=\u001b[39;00ml3, factors\u001b[35;01m=\u001b[39;00m[\u001b[32;01mNone\u001b[39;00m, \u001b[92m64\u001b[39m], preserve_unit_iters\u001b[35;01m=\u001b[39;00m\u001b[32;01mTrue\u001b[39;00m, disable_predication\u001b[35;01m=\u001b[39;00m\u001b[32;01mFalse\u001b[39;00m)\n",
            "  sch\u001b[35;01m.\u001b[39;00mreorder(l4, l6, l8, l5, l7, l9)\n",
            "  sch\u001b[35;01m.\u001b[39;00mbind(loop\u001b[35;01m=\u001b[39;00ml4, thread_axis\u001b[35;01m=\u001b[39;00m\u001b[33m\"\u001b[39m\u001b[33mblockIdx.x\u001b[39m\u001b[33m\"\u001b[39m)\n",
            "  sch\u001b[35;01m.\u001b[39;00mbind(loop\u001b[35;01m=\u001b[39;00ml6, thread_axis\u001b[35;01m=\u001b[39;00m\u001b[33m\"\u001b[39m\u001b[33mblockIdx.y\u001b[39m\u001b[33m\"\u001b[39m)\n",
            "  b10 \u001b[35;01m=\u001b[39;00m sch\u001b[35;01m.\u001b[39;00mcache_read(block\u001b[35;01m=\u001b[39;00mb0, read_buffer_index\u001b[35;01m=\u001b[39;00m\u001b[92m0\u001b[39m, storage_scope\u001b[35;01m=\u001b[39;00m\u001b[33m\"\u001b[39m\u001b[33mshared\u001b[39m\u001b[33m\"\u001b[39m)\n",
            "  sch\u001b[35;01m.\u001b[39;00mcompute_at(block\u001b[35;01m=\u001b[39;00mb10, loop\u001b[35;01m=\u001b[39;00ml8, preserve_unit_loops\u001b[35;01m=\u001b[39;00m\u001b[32;01mFalse\u001b[39;00m, index\u001b[35;01m=\u001b[39;00m\u001b[35;01m-\u001b[39;00m\u001b[92m1\u001b[39m)\n",
            "  b11 \u001b[35;01m=\u001b[39;00m sch\u001b[35;01m.\u001b[39;00mcache_read(block\u001b[35;01m=\u001b[39;00mb0, read_buffer_index\u001b[35;01m=\u001b[39;00m\u001b[92m1\u001b[39m, storage_scope\u001b[35;01m=\u001b[39;00m\u001b[33m\"\u001b[39m\u001b[33mshared\u001b[39m\u001b[33m\"\u001b[39m)\n",
            "  sch\u001b[35;01m.\u001b[39;00mcompute_at(block\u001b[35;01m=\u001b[39;00mb11, loop\u001b[35;01m=\u001b[39;00ml8, preserve_unit_loops\u001b[35;01m=\u001b[39;00m\u001b[32;01mFalse\u001b[39;00m, index\u001b[35;01m=\u001b[39;00m\u001b[35;01m-\u001b[39;00m\u001b[92m1\u001b[39m)\n",
            "  b12 \u001b[35;01m=\u001b[39;00m sch\u001b[35;01m.\u001b[39;00mget_block(name\u001b[35;01m=\u001b[39;00m\u001b[33m\"\u001b[39m\u001b[33mgemm\u001b[39m\u001b[33m\"\u001b[39m, func_name\u001b[35;01m=\u001b[39;00m\u001b[33m\"\u001b[39m\u001b[33mmain\u001b[39m\u001b[33m\"\u001b[39m)\n",
            "  l13, l14, l15, l16, l17, l18 \u001b[35;01m=\u001b[39;00m sch\u001b[35;01m.\u001b[39;00mget_loops(block\u001b[35;01m=\u001b[39;00mb12)\n",
            "  l19, l20 \u001b[35;01m=\u001b[39;00m sch\u001b[35;01m.\u001b[39;00msplit(loop\u001b[35;01m=\u001b[39;00ml16, factors\u001b[35;01m=\u001b[39;00m[\u001b[32;01mNone\u001b[39;00m, \u001b[92m4\u001b[39m], preserve_unit_iters\u001b[35;01m=\u001b[39;00m\u001b[32;01mTrue\u001b[39;00m, disable_predication\u001b[35;01m=\u001b[39;00m\u001b[32;01mFalse\u001b[39;00m)\n",
            "  l21, l22 \u001b[35;01m=\u001b[39;00m sch\u001b[35;01m.\u001b[39;00msplit(loop\u001b[35;01m=\u001b[39;00ml17, factors\u001b[35;01m=\u001b[39;00m[\u001b[32;01mNone\u001b[39;00m, \u001b[92m4\u001b[39m], preserve_unit_iters\u001b[35;01m=\u001b[39;00m\u001b[32;01mTrue\u001b[39;00m, disable_predication\u001b[35;01m=\u001b[39;00m\u001b[32;01mFalse\u001b[39;00m)\n",
            "  l23, l24 \u001b[35;01m=\u001b[39;00m sch\u001b[35;01m.\u001b[39;00msplit(loop\u001b[35;01m=\u001b[39;00ml18, factors\u001b[35;01m=\u001b[39;00m[\u001b[32;01mNone\u001b[39;00m, \u001b[92m1\u001b[39m], preserve_unit_iters\u001b[35;01m=\u001b[39;00m\u001b[32;01mTrue\u001b[39;00m, disable_predication\u001b[35;01m=\u001b[39;00m\u001b[32;01mFalse\u001b[39;00m)\n",
            "  sch\u001b[35;01m.\u001b[39;00mreorder(l19, l21, l23, l20, l22, l24)\n",
            "  sch\u001b[35;01m.\u001b[39;00mbind(loop\u001b[35;01m=\u001b[39;00ml19, thread_axis\u001b[35;01m=\u001b[39;00m\u001b[33m\"\u001b[39m\u001b[33mthreadIdx.x\u001b[39m\u001b[33m\"\u001b[39m)\n",
            "  sch\u001b[35;01m.\u001b[39;00mbind(loop\u001b[35;01m=\u001b[39;00ml21, thread_axis\u001b[35;01m=\u001b[39;00m\u001b[33m\"\u001b[39m\u001b[33mthreadIdx.y\u001b[39m\u001b[33m\"\u001b[39m)\n",
            "  b25 \u001b[35;01m=\u001b[39;00m sch\u001b[35;01m.\u001b[39;00mcache_read(block\u001b[35;01m=\u001b[39;00mb12, read_buffer_index\u001b[35;01m=\u001b[39;00m\u001b[92m0\u001b[39m, storage_scope\u001b[35;01m=\u001b[39;00m\u001b[33m\"\u001b[39m\u001b[33mlocal\u001b[39m\u001b[33m\"\u001b[39m)\n",
            "  sch\u001b[35;01m.\u001b[39;00mcompute_at(block\u001b[35;01m=\u001b[39;00mb25, loop\u001b[35;01m=\u001b[39;00ml23, preserve_unit_loops\u001b[35;01m=\u001b[39;00m\u001b[32;01mFalse\u001b[39;00m, index\u001b[35;01m=\u001b[39;00m\u001b[35;01m-\u001b[39;00m\u001b[92m1\u001b[39m)\n",
            "  b26 \u001b[35;01m=\u001b[39;00m sch\u001b[35;01m.\u001b[39;00mcache_read(block\u001b[35;01m=\u001b[39;00mb12, read_buffer_index\u001b[35;01m=\u001b[39;00m\u001b[92m1\u001b[39m, storage_scope\u001b[35;01m=\u001b[39;00m\u001b[33m\"\u001b[39m\u001b[33mlocal\u001b[39m\u001b[33m\"\u001b[39m)\n",
            "  sch\u001b[35;01m.\u001b[39;00mcompute_at(block\u001b[35;01m=\u001b[39;00mb26, loop\u001b[35;01m=\u001b[39;00ml23, preserve_unit_loops\u001b[35;01m=\u001b[39;00m\u001b[32;01mFalse\u001b[39;00m, index\u001b[35;01m=\u001b[39;00m\u001b[35;01m-\u001b[39;00m\u001b[92m1\u001b[39m)\n",
            "  l27, l28, l29, l30, l31 \u001b[35;01m=\u001b[39;00m sch\u001b[35;01m.\u001b[39;00mget_loops(block\u001b[35;01m=\u001b[39;00mb10)\n",
            "  l32 \u001b[35;01m=\u001b[39;00m sch\u001b[35;01m.\u001b[39;00mfuse(l30, l31, preserve_unit_iters\u001b[35;01m=\u001b[39;00m\u001b[32;01mTrue\u001b[39;00m)\n",
            "  l33, l34, l35 \u001b[35;01m=\u001b[39;00m sch\u001b[35;01m.\u001b[39;00msplit(loop\u001b[35;01m=\u001b[39;00ml32, factors\u001b[35;01m=\u001b[39;00m[\u001b[32;01mNone\u001b[39;00m, \u001b[92m16\u001b[39m, \u001b[92m16\u001b[39m], preserve_unit_iters\u001b[35;01m=\u001b[39;00m\u001b[32;01mTrue\u001b[39;00m, disable_predication\u001b[35;01m=\u001b[39;00m\u001b[32;01mFalse\u001b[39;00m)\n",
            "  sch\u001b[35;01m.\u001b[39;00mbind(loop\u001b[35;01m=\u001b[39;00ml34, thread_axis\u001b[35;01m=\u001b[39;00m\u001b[33m\"\u001b[39m\u001b[33mthreadIdx.y\u001b[39m\u001b[33m\"\u001b[39m)\n",
            "  sch\u001b[35;01m.\u001b[39;00mbind(loop\u001b[35;01m=\u001b[39;00ml35, thread_axis\u001b[35;01m=\u001b[39;00m\u001b[33m\"\u001b[39m\u001b[33mthreadIdx.x\u001b[39m\u001b[33m\"\u001b[39m)\n",
            "  l36, l37, l38, l39, l40 \u001b[35;01m=\u001b[39;00m sch\u001b[35;01m.\u001b[39;00mget_loops(block\u001b[35;01m=\u001b[39;00mb11)\n",
            "  l41 \u001b[35;01m=\u001b[39;00m sch\u001b[35;01m.\u001b[39;00mfuse(l39, l40, preserve_unit_iters\u001b[35;01m=\u001b[39;00m\u001b[32;01mTrue\u001b[39;00m)\n",
            "  l42, l43, l44 \u001b[35;01m=\u001b[39;00m sch\u001b[35;01m.\u001b[39;00msplit(loop\u001b[35;01m=\u001b[39;00ml41, factors\u001b[35;01m=\u001b[39;00m[\u001b[32;01mNone\u001b[39;00m, \u001b[92m16\u001b[39m, \u001b[92m16\u001b[39m], preserve_unit_iters\u001b[35;01m=\u001b[39;00m\u001b[32;01mTrue\u001b[39;00m, disable_predication\u001b[35;01m=\u001b[39;00m\u001b[32;01mFalse\u001b[39;00m)\n",
            "  sch\u001b[35;01m.\u001b[39;00mbind(loop\u001b[35;01m=\u001b[39;00ml43, thread_axis\u001b[35;01m=\u001b[39;00m\u001b[33m\"\u001b[39m\u001b[33mthreadIdx.y\u001b[39m\u001b[33m\"\u001b[39m)\n",
            "  sch\u001b[35;01m.\u001b[39;00mbind(loop\u001b[35;01m=\u001b[39;00ml44, thread_axis\u001b[35;01m=\u001b[39;00m\u001b[33m\"\u001b[39m\u001b[33mthreadIdx.x\u001b[39m\u001b[33m\"\u001b[39m)\n",
            "\n"
          ]
        }
      ],
      "source": [
        "!python3 gemm_relu_add.py"
      ]
    },
    {
      "cell_type": "markdown",
      "metadata": {
        "id": "-btRzEqR1BAr"
      },
      "source": [
        "### Task 2. Register tiling (20 pt)\n",
        "\n",
        "In the previous subsection, we focus on handling the `matmul` region that **a thread block collectively computes**.\n",
        "In this subsection, we dive deeper to figure out the `matmul` region that **a single thread computes**.\n",
        "\n",
        "The idea is pretty much similar to the shared memory tiling.\n",
        "We can also let a single thread compute a tile in `matmul`.\n",
        "For example, we assign each thread in a thread block to compute a tile of size `(thread_tile_x, thread_tile_y)`.\n",
        "And moreover, rather than directly load `A` and `B` from shared memory when computing the tile,\n",
        "we again first load `A` and `B` from shared memory to **local registers**.\n",
        "Registers are local memory in a running CUDA thread that is running,\n",
        "and can be accessed in much shorter time than shared memory.\n",
        "Similarly, we also need to do thread-level tiling along the `K` dimension,\n",
        "because each thread has very limited number of available registers.\n",
        "And our goal is to make sure the data that we want to load from `A` and `B` in each thread-level tile can fit into the registers.\n",
        "With register tiling, we use $(\\mathrm{thread\\_tile}_x + \\mathrm{thread\\_tile}_y) \\times \\mathrm{thread\\_tile}_k$\n",
        "registers for reading data from the shared memory of `A` and `B` in total.\n",
        "\n",
        "\n",
        "<img src=\"https://raw.githubusercontent.com/mlsyscourse/assignment2/main/figure/register-tiling.jpg\" alt=\"figure/register-tiling.jpg\" width=\"50%\">\n"
      ]
    },
    {
      "cell_type": "markdown",
      "metadata": {
        "id": "AJL_Rhff1BAs"
      },
      "source": [
        "\n",
        "It worths noting that, by fixing the thread tile size, we equivalently fixed the number\n",
        "of threads in each thread block:\n",
        "a thread block computes a tile of `(tile_x, tile_y)`, and a single thread computes a tile of\n",
        "`(thread_tile_x, thread_tile_y)`.\n",
        "So in a thread block, `blockDim.x` is `tile_x / thread_tile_x`, `blockDim.y` is `tile_y / thread_tile_y`,\n",
        "and the total number of threads in a thread block is `(tile_x / thread_tile_x) * (tile_y / thread_tile_y)`.\n"
      ]
    },
    {
      "cell_type": "markdown",
      "metadata": {
        "id": "QnKy8Cv11BAs"
      },
      "source": [
        "You need to implement the register tiling in the `register_tiling` function in `gemm_relu_add.py`.\n",
        "As mentioned above, your implementation of register tiling should follow the same pattern and steps\n",
        "as your implementation of shared memory tiling.\n",
        "So make sure you understand each step of the shared memory tiling before starting this task.\n",
        "The schedule primitives you will use in this task is the same as task 1.\n",
        "And please note that for register tiling, you should use `\"local\"` (which means local registers)\n",
        "as the scope of `cache_read`, rather than `\"shared\"` which you used in task 1."
      ]
    },
    {
      "cell_type": "code",
      "execution_count": 12,
      "metadata": {
        "colab": {
          "base_uri": "https://localhost:8080/"
        },
        "id": "TGcQCTIP1BAs",
        "outputId": "330cebec-be6f-43ec-a5b1-4f6cbdcfef67"
      },
      "outputs": [
        {
          "output_type": "stream",
          "name": "stdout",
          "text": [
            "\u001b[90;03m# from tvm.script import ir as I\u001b[39;00m\n",
            "\u001b[90;03m# from tvm.script import tir as T\u001b[39;00m\n",
            "\n",
            "\u001b[95;03m@I\u001b[39;00m\u001b[35;01m.\u001b[39;00mir_module\n",
            "\u001b[32;01mclass\u001b[39;00m \u001b[34;01mModule\u001b[39;00m:\n",
            "    \u001b[95;03m@T\u001b[39;00m\u001b[35;01m.\u001b[39;00mprim_func\n",
            "    \u001b[32;01mdef\u001b[39;00m \u001b[34;01mmain\u001b[39;00m(A: T\u001b[35;01m.\u001b[39;00mBuffer((\u001b[92m2048\u001b[39m, \u001b[92m2048\u001b[39m), \u001b[33m\"\u001b[39m\u001b[33mfloat32\u001b[39m\u001b[33m\"\u001b[39m), B: T\u001b[35;01m.\u001b[39;00mBuffer((\u001b[92m2048\u001b[39m, \u001b[92m2048\u001b[39m), \u001b[33m\"\u001b[39m\u001b[33mfloat32\u001b[39m\u001b[33m\"\u001b[39m), C: T\u001b[35;01m.\u001b[39;00mBuffer((\u001b[92m2048\u001b[39m, \u001b[92m2048\u001b[39m), \u001b[33m\"\u001b[39m\u001b[33mfloat32\u001b[39m\u001b[33m\"\u001b[39m), D: T\u001b[35;01m.\u001b[39;00mBuffer((\u001b[92m2048\u001b[39m, \u001b[92m2048\u001b[39m), \u001b[33m\"\u001b[39m\u001b[33mfloat32\u001b[39m\u001b[33m\"\u001b[39m)):\n",
            "        T\u001b[35;01m.\u001b[39;00mfunc_attr({\u001b[33m\"\u001b[39m\u001b[33mglobal_symbol\u001b[39m\u001b[33m\"\u001b[39m: \u001b[33m\"\u001b[39m\u001b[33mgemm_relu_add\u001b[39m\u001b[33m\"\u001b[39m})\n",
            "        \u001b[90;03m# with T.block(\"root\"):\u001b[39;00m\n",
            "        matmul \u001b[35;01m=\u001b[39;00m T\u001b[35;01m.\u001b[39;00malloc_buffer((\u001b[92m2048\u001b[39m, \u001b[92m2048\u001b[39m))\n",
            "        relu \u001b[35;01m=\u001b[39;00m T\u001b[35;01m.\u001b[39;00malloc_buffer((\u001b[92m2048\u001b[39m, \u001b[92m2048\u001b[39m))\n",
            "        A_shared \u001b[35;01m=\u001b[39;00m T\u001b[35;01m.\u001b[39;00malloc_buffer((\u001b[92m2048\u001b[39m, \u001b[92m2048\u001b[39m), scope\u001b[35;01m=\u001b[39;00m\u001b[33m\"\u001b[39m\u001b[33mshared\u001b[39m\u001b[33m\"\u001b[39m)\n",
            "        B_shared \u001b[35;01m=\u001b[39;00m T\u001b[35;01m.\u001b[39;00malloc_buffer((\u001b[92m2048\u001b[39m, \u001b[92m2048\u001b[39m), scope\u001b[35;01m=\u001b[39;00m\u001b[33m\"\u001b[39m\u001b[33mshared\u001b[39m\u001b[33m\"\u001b[39m)\n",
            "        \u001b[32;01mfor\u001b[39;00m i_0 \u001b[32;01min\u001b[39;00m T\u001b[35;01m.\u001b[39;00mthread_binding(\u001b[92m32\u001b[39m, thread\u001b[35;01m=\u001b[39;00m\u001b[33m\"\u001b[39m\u001b[33mblockIdx.x\u001b[39m\u001b[33m\"\u001b[39m):\n",
            "            \u001b[32;01mfor\u001b[39;00m j_0 \u001b[32;01min\u001b[39;00m T\u001b[35;01m.\u001b[39;00mthread_binding(\u001b[92m32\u001b[39m, thread\u001b[35;01m=\u001b[39;00m\u001b[33m\"\u001b[39m\u001b[33mblockIdx.y\u001b[39m\u001b[33m\"\u001b[39m):\n",
            "                \u001b[32;01mfor\u001b[39;00m k_0 \u001b[32;01min\u001b[39;00m range(\u001b[92m32\u001b[39m):\n",
            "                    \u001b[32;01mfor\u001b[39;00m ax0, ax1 \u001b[32;01min\u001b[39;00m T\u001b[35;01m.\u001b[39;00mgrid(\u001b[92m64\u001b[39m, \u001b[92m64\u001b[39m):\n",
            "                        \u001b[32;01mwith\u001b[39;00m T\u001b[35;01m.\u001b[39;00mblock(\u001b[33m\"\u001b[39m\u001b[33mA_shared\u001b[39m\u001b[33m\"\u001b[39m):\n",
            "                            v0 \u001b[35;01m=\u001b[39;00m T\u001b[35;01m.\u001b[39;00maxis\u001b[35;01m.\u001b[39;00mspatial(\u001b[92m2048\u001b[39m, i_0 \u001b[35;01m*\u001b[39;00m \u001b[92m64\u001b[39m \u001b[35;01m+\u001b[39;00m ax0)\n",
            "                            v1 \u001b[35;01m=\u001b[39;00m T\u001b[35;01m.\u001b[39;00maxis\u001b[35;01m.\u001b[39;00mspatial(\u001b[92m2048\u001b[39m, k_0 \u001b[35;01m*\u001b[39;00m \u001b[92m64\u001b[39m \u001b[35;01m+\u001b[39;00m ax1)\n",
            "                            T\u001b[35;01m.\u001b[39;00mreads(A[v0, v1])\n",
            "                            T\u001b[35;01m.\u001b[39;00mwrites(A_shared[v0, v1])\n",
            "                            A_shared[v0, v1] \u001b[35;01m=\u001b[39;00m A[v0, v1]\n",
            "                    \u001b[32;01mfor\u001b[39;00m ax0, ax1 \u001b[32;01min\u001b[39;00m T\u001b[35;01m.\u001b[39;00mgrid(\u001b[92m64\u001b[39m, \u001b[92m64\u001b[39m):\n",
            "                        \u001b[32;01mwith\u001b[39;00m T\u001b[35;01m.\u001b[39;00mblock(\u001b[33m\"\u001b[39m\u001b[33mB_shared\u001b[39m\u001b[33m\"\u001b[39m):\n",
            "                            v0 \u001b[35;01m=\u001b[39;00m T\u001b[35;01m.\u001b[39;00maxis\u001b[35;01m.\u001b[39;00mspatial(\u001b[92m2048\u001b[39m, k_0 \u001b[35;01m*\u001b[39;00m \u001b[92m64\u001b[39m \u001b[35;01m+\u001b[39;00m ax0)\n",
            "                            v1 \u001b[35;01m=\u001b[39;00m T\u001b[35;01m.\u001b[39;00maxis\u001b[35;01m.\u001b[39;00mspatial(\u001b[92m2048\u001b[39m, j_0 \u001b[35;01m*\u001b[39;00m \u001b[92m64\u001b[39m \u001b[35;01m+\u001b[39;00m ax1)\n",
            "                            T\u001b[35;01m.\u001b[39;00mreads(B[v0, v1])\n",
            "                            T\u001b[35;01m.\u001b[39;00mwrites(B_shared[v0, v1])\n",
            "                            B_shared[v0, v1] \u001b[35;01m=\u001b[39;00m B[v0, v1]\n",
            "                    \u001b[32;01mfor\u001b[39;00m i_1, j_1, k_1 \u001b[32;01min\u001b[39;00m T\u001b[35;01m.\u001b[39;00mgrid(\u001b[92m64\u001b[39m, \u001b[92m64\u001b[39m, \u001b[92m64\u001b[39m):\n",
            "                        \u001b[32;01mwith\u001b[39;00m T\u001b[35;01m.\u001b[39;00mblock(\u001b[33m\"\u001b[39m\u001b[33mgemm\u001b[39m\u001b[33m\"\u001b[39m):\n",
            "                            vi \u001b[35;01m=\u001b[39;00m T\u001b[35;01m.\u001b[39;00maxis\u001b[35;01m.\u001b[39;00mspatial(\u001b[92m2048\u001b[39m, i_0 \u001b[35;01m*\u001b[39;00m \u001b[92m64\u001b[39m \u001b[35;01m+\u001b[39;00m i_1)\n",
            "                            vj \u001b[35;01m=\u001b[39;00m T\u001b[35;01m.\u001b[39;00maxis\u001b[35;01m.\u001b[39;00mspatial(\u001b[92m2048\u001b[39m, j_0 \u001b[35;01m*\u001b[39;00m \u001b[92m64\u001b[39m \u001b[35;01m+\u001b[39;00m j_1)\n",
            "                            vk \u001b[35;01m=\u001b[39;00m T\u001b[35;01m.\u001b[39;00maxis\u001b[35;01m.\u001b[39;00mreduce(\u001b[92m2048\u001b[39m, k_0 \u001b[35;01m*\u001b[39;00m \u001b[92m64\u001b[39m \u001b[35;01m+\u001b[39;00m k_1)\n",
            "                            T\u001b[35;01m.\u001b[39;00mreads(A_shared[vi, vk], B_shared[vk, vj])\n",
            "                            T\u001b[35;01m.\u001b[39;00mwrites(matmul[vi, vj])\n",
            "                            \u001b[32;01mwith\u001b[39;00m T\u001b[35;01m.\u001b[39;00minit():\n",
            "                                matmul[vi, vj] \u001b[35;01m=\u001b[39;00m T\u001b[35;01m.\u001b[39;00mfloat32(\u001b[92m0.0\u001b[39m)\n",
            "                            matmul[vi, vj] \u001b[35;01m=\u001b[39;00m matmul[vi, vj] \u001b[35;01m+\u001b[39;00m A_shared[vi, vk] \u001b[35;01m*\u001b[39;00m B_shared[vk, vj]\n",
            "        \u001b[32;01mfor\u001b[39;00m i, j \u001b[32;01min\u001b[39;00m T\u001b[35;01m.\u001b[39;00mgrid(\u001b[92m2048\u001b[39m, \u001b[92m2048\u001b[39m):\n",
            "            \u001b[32;01mwith\u001b[39;00m T\u001b[35;01m.\u001b[39;00mblock(\u001b[33m\"\u001b[39m\u001b[33mrelu\u001b[39m\u001b[33m\"\u001b[39m):\n",
            "                vi, vj \u001b[35;01m=\u001b[39;00m T\u001b[35;01m.\u001b[39;00maxis\u001b[35;01m.\u001b[39;00mremap(\u001b[33m\"\u001b[39m\u001b[33mSS\u001b[39m\u001b[33m\"\u001b[39m, [i, j])\n",
            "                T\u001b[35;01m.\u001b[39;00mreads(matmul[vi, vj])\n",
            "                T\u001b[35;01m.\u001b[39;00mwrites(relu[vi, vj])\n",
            "                relu[vi, vj] \u001b[35;01m=\u001b[39;00m T\u001b[35;01m.\u001b[39;00mmax(matmul[vi, vj], T\u001b[35;01m.\u001b[39;00mfloat32(\u001b[92m0.0\u001b[39m))\n",
            "        \u001b[32;01mfor\u001b[39;00m i, j \u001b[32;01min\u001b[39;00m T\u001b[35;01m.\u001b[39;00mgrid(\u001b[92m2048\u001b[39m, \u001b[92m2048\u001b[39m):\n",
            "            \u001b[32;01mwith\u001b[39;00m T\u001b[35;01m.\u001b[39;00mblock(\u001b[33m\"\u001b[39m\u001b[33madd\u001b[39m\u001b[33m\"\u001b[39m):\n",
            "                vi, vj \u001b[35;01m=\u001b[39;00m T\u001b[35;01m.\u001b[39;00maxis\u001b[35;01m.\u001b[39;00mremap(\u001b[33m\"\u001b[39m\u001b[33mSS\u001b[39m\u001b[33m\"\u001b[39m, [i, j])\n",
            "                T\u001b[35;01m.\u001b[39;00mreads(relu[vi, vj], C[vi, vj])\n",
            "                T\u001b[35;01m.\u001b[39;00mwrites(D[vi, vj])\n",
            "                D[vi, vj] \u001b[35;01m=\u001b[39;00m relu[vi, vj] \u001b[35;01m+\u001b[39;00m C[vi, vj]\n",
            "\n",
            "\u001b[90;03m# from tvm import tir\u001b[39;00m\n",
            "\u001b[32;01mdef\u001b[39;00m \u001b[34;01mapply_trace\u001b[39;00m(sch: tir\u001b[35;01m.\u001b[39;00mSchedule) \u001b[35;01m-\u001b[39;00m\u001b[35;01m>\u001b[39;00m \u001b[32;01mNone\u001b[39;00m:\n",
            "  b0 \u001b[35;01m=\u001b[39;00m sch\u001b[35;01m.\u001b[39;00mget_block(name\u001b[35;01m=\u001b[39;00m\u001b[33m\"\u001b[39m\u001b[33mgemm\u001b[39m\u001b[33m\"\u001b[39m, func_name\u001b[35;01m=\u001b[39;00m\u001b[33m\"\u001b[39m\u001b[33mmain\u001b[39m\u001b[33m\"\u001b[39m)\n",
            "  l1, l2, l3 \u001b[35;01m=\u001b[39;00m sch\u001b[35;01m.\u001b[39;00mget_loops(block\u001b[35;01m=\u001b[39;00mb0)\n",
            "  l4, l5 \u001b[35;01m=\u001b[39;00m sch\u001b[35;01m.\u001b[39;00msplit(loop\u001b[35;01m=\u001b[39;00ml1, factors\u001b[35;01m=\u001b[39;00m[\u001b[32;01mNone\u001b[39;00m, \u001b[92m64\u001b[39m], preserve_unit_iters\u001b[35;01m=\u001b[39;00m\u001b[32;01mTrue\u001b[39;00m, disable_predication\u001b[35;01m=\u001b[39;00m\u001b[32;01mFalse\u001b[39;00m)\n",
            "  l6, l7 \u001b[35;01m=\u001b[39;00m sch\u001b[35;01m.\u001b[39;00msplit(loop\u001b[35;01m=\u001b[39;00ml2, factors\u001b[35;01m=\u001b[39;00m[\u001b[32;01mNone\u001b[39;00m, \u001b[92m64\u001b[39m], preserve_unit_iters\u001b[35;01m=\u001b[39;00m\u001b[32;01mTrue\u001b[39;00m, disable_predication\u001b[35;01m=\u001b[39;00m\u001b[32;01mFalse\u001b[39;00m)\n",
            "  l8, l9 \u001b[35;01m=\u001b[39;00m sch\u001b[35;01m.\u001b[39;00msplit(loop\u001b[35;01m=\u001b[39;00ml3, factors\u001b[35;01m=\u001b[39;00m[\u001b[32;01mNone\u001b[39;00m, \u001b[92m64\u001b[39m], preserve_unit_iters\u001b[35;01m=\u001b[39;00m\u001b[32;01mTrue\u001b[39;00m, disable_predication\u001b[35;01m=\u001b[39;00m\u001b[32;01mFalse\u001b[39;00m)\n",
            "  sch\u001b[35;01m.\u001b[39;00mreorder(l4, l6, l8, l5, l7, l9)\n",
            "  sch\u001b[35;01m.\u001b[39;00mbind(loop\u001b[35;01m=\u001b[39;00ml4, thread_axis\u001b[35;01m=\u001b[39;00m\u001b[33m\"\u001b[39m\u001b[33mblockIdx.x\u001b[39m\u001b[33m\"\u001b[39m)\n",
            "  sch\u001b[35;01m.\u001b[39;00mbind(loop\u001b[35;01m=\u001b[39;00ml6, thread_axis\u001b[35;01m=\u001b[39;00m\u001b[33m\"\u001b[39m\u001b[33mblockIdx.y\u001b[39m\u001b[33m\"\u001b[39m)\n",
            "  b10 \u001b[35;01m=\u001b[39;00m sch\u001b[35;01m.\u001b[39;00mcache_read(block\u001b[35;01m=\u001b[39;00mb0, read_buffer_index\u001b[35;01m=\u001b[39;00m\u001b[92m0\u001b[39m, storage_scope\u001b[35;01m=\u001b[39;00m\u001b[33m\"\u001b[39m\u001b[33mshared\u001b[39m\u001b[33m\"\u001b[39m)\n",
            "  sch\u001b[35;01m.\u001b[39;00mcompute_at(block\u001b[35;01m=\u001b[39;00mb10, loop\u001b[35;01m=\u001b[39;00ml8, preserve_unit_loops\u001b[35;01m=\u001b[39;00m\u001b[32;01mFalse\u001b[39;00m, index\u001b[35;01m=\u001b[39;00m\u001b[35;01m-\u001b[39;00m\u001b[92m1\u001b[39m)\n",
            "  b11 \u001b[35;01m=\u001b[39;00m sch\u001b[35;01m.\u001b[39;00mcache_read(block\u001b[35;01m=\u001b[39;00mb0, read_buffer_index\u001b[35;01m=\u001b[39;00m\u001b[92m1\u001b[39m, storage_scope\u001b[35;01m=\u001b[39;00m\u001b[33m\"\u001b[39m\u001b[33mshared\u001b[39m\u001b[33m\"\u001b[39m)\n",
            "  sch\u001b[35;01m.\u001b[39;00mcompute_at(block\u001b[35;01m=\u001b[39;00mb11, loop\u001b[35;01m=\u001b[39;00ml8, preserve_unit_loops\u001b[35;01m=\u001b[39;00m\u001b[32;01mFalse\u001b[39;00m, index\u001b[35;01m=\u001b[39;00m\u001b[35;01m-\u001b[39;00m\u001b[92m1\u001b[39m)\n",
            "\n",
            "\u001b[90;03m# from tvm.script import ir as I\u001b[39;00m\n",
            "\u001b[90;03m# from tvm.script import tir as T\u001b[39;00m\n",
            "\n",
            "\u001b[95;03m@I\u001b[39;00m\u001b[35;01m.\u001b[39;00mir_module\n",
            "\u001b[32;01mclass\u001b[39;00m \u001b[34;01mModule\u001b[39;00m:\n",
            "    \u001b[95;03m@T\u001b[39;00m\u001b[35;01m.\u001b[39;00mprim_func\n",
            "    \u001b[32;01mdef\u001b[39;00m \u001b[34;01mmain\u001b[39;00m(A: T\u001b[35;01m.\u001b[39;00mBuffer((\u001b[92m2048\u001b[39m, \u001b[92m2048\u001b[39m), \u001b[33m\"\u001b[39m\u001b[33mfloat32\u001b[39m\u001b[33m\"\u001b[39m), B: T\u001b[35;01m.\u001b[39;00mBuffer((\u001b[92m2048\u001b[39m, \u001b[92m2048\u001b[39m), \u001b[33m\"\u001b[39m\u001b[33mfloat32\u001b[39m\u001b[33m\"\u001b[39m), C: T\u001b[35;01m.\u001b[39;00mBuffer((\u001b[92m2048\u001b[39m, \u001b[92m2048\u001b[39m), \u001b[33m\"\u001b[39m\u001b[33mfloat32\u001b[39m\u001b[33m\"\u001b[39m), D: T\u001b[35;01m.\u001b[39;00mBuffer((\u001b[92m2048\u001b[39m, \u001b[92m2048\u001b[39m), \u001b[33m\"\u001b[39m\u001b[33mfloat32\u001b[39m\u001b[33m\"\u001b[39m)):\n",
            "        T\u001b[35;01m.\u001b[39;00mfunc_attr({\u001b[33m\"\u001b[39m\u001b[33mglobal_symbol\u001b[39m\u001b[33m\"\u001b[39m: \u001b[33m\"\u001b[39m\u001b[33mgemm_relu_add\u001b[39m\u001b[33m\"\u001b[39m})\n",
            "        \u001b[90;03m# with T.block(\"root\"):\u001b[39;00m\n",
            "        matmul \u001b[35;01m=\u001b[39;00m T\u001b[35;01m.\u001b[39;00malloc_buffer((\u001b[92m2048\u001b[39m, \u001b[92m2048\u001b[39m))\n",
            "        relu \u001b[35;01m=\u001b[39;00m T\u001b[35;01m.\u001b[39;00malloc_buffer((\u001b[92m2048\u001b[39m, \u001b[92m2048\u001b[39m))\n",
            "        A_shared \u001b[35;01m=\u001b[39;00m T\u001b[35;01m.\u001b[39;00malloc_buffer((\u001b[92m2048\u001b[39m, \u001b[92m2048\u001b[39m), scope\u001b[35;01m=\u001b[39;00m\u001b[33m\"\u001b[39m\u001b[33mshared\u001b[39m\u001b[33m\"\u001b[39m)\n",
            "        B_shared \u001b[35;01m=\u001b[39;00m T\u001b[35;01m.\u001b[39;00malloc_buffer((\u001b[92m2048\u001b[39m, \u001b[92m2048\u001b[39m), scope\u001b[35;01m=\u001b[39;00m\u001b[33m\"\u001b[39m\u001b[33mshared\u001b[39m\u001b[33m\"\u001b[39m)\n",
            "        A_shared_local \u001b[35;01m=\u001b[39;00m T\u001b[35;01m.\u001b[39;00malloc_buffer((\u001b[92m2048\u001b[39m, \u001b[92m2048\u001b[39m), scope\u001b[35;01m=\u001b[39;00m\u001b[33m\"\u001b[39m\u001b[33mlocal\u001b[39m\u001b[33m\"\u001b[39m)\n",
            "        B_shared_local \u001b[35;01m=\u001b[39;00m T\u001b[35;01m.\u001b[39;00malloc_buffer((\u001b[92m2048\u001b[39m, \u001b[92m2048\u001b[39m), scope\u001b[35;01m=\u001b[39;00m\u001b[33m\"\u001b[39m\u001b[33mlocal\u001b[39m\u001b[33m\"\u001b[39m)\n",
            "        \u001b[32;01mfor\u001b[39;00m i_0 \u001b[32;01min\u001b[39;00m T\u001b[35;01m.\u001b[39;00mthread_binding(\u001b[92m32\u001b[39m, thread\u001b[35;01m=\u001b[39;00m\u001b[33m\"\u001b[39m\u001b[33mblockIdx.x\u001b[39m\u001b[33m\"\u001b[39m):\n",
            "            \u001b[32;01mfor\u001b[39;00m j_0 \u001b[32;01min\u001b[39;00m T\u001b[35;01m.\u001b[39;00mthread_binding(\u001b[92m32\u001b[39m, thread\u001b[35;01m=\u001b[39;00m\u001b[33m\"\u001b[39m\u001b[33mblockIdx.y\u001b[39m\u001b[33m\"\u001b[39m):\n",
            "                \u001b[32;01mfor\u001b[39;00m k_0 \u001b[32;01min\u001b[39;00m range(\u001b[92m32\u001b[39m):\n",
            "                    \u001b[32;01mfor\u001b[39;00m ax0_ax1_fused_0 \u001b[32;01min\u001b[39;00m range(\u001b[92m16\u001b[39m):\n",
            "                        \u001b[32;01mfor\u001b[39;00m ax0_ax1_fused_1 \u001b[32;01min\u001b[39;00m T\u001b[35;01m.\u001b[39;00mthread_binding(\u001b[92m16\u001b[39m, thread\u001b[35;01m=\u001b[39;00m\u001b[33m\"\u001b[39m\u001b[33mthreadIdx.y\u001b[39m\u001b[33m\"\u001b[39m):\n",
            "                            \u001b[32;01mfor\u001b[39;00m ax0_ax1_fused_2 \u001b[32;01min\u001b[39;00m T\u001b[35;01m.\u001b[39;00mthread_binding(\u001b[92m16\u001b[39m, thread\u001b[35;01m=\u001b[39;00m\u001b[33m\"\u001b[39m\u001b[33mthreadIdx.x\u001b[39m\u001b[33m\"\u001b[39m):\n",
            "                                \u001b[32;01mwith\u001b[39;00m T\u001b[35;01m.\u001b[39;00mblock(\u001b[33m\"\u001b[39m\u001b[33mA_shared\u001b[39m\u001b[33m\"\u001b[39m):\n",
            "                                    v0 \u001b[35;01m=\u001b[39;00m T\u001b[35;01m.\u001b[39;00maxis\u001b[35;01m.\u001b[39;00mspatial(\u001b[92m2048\u001b[39m, i_0 \u001b[35;01m*\u001b[39;00m \u001b[92m64\u001b[39m \u001b[35;01m+\u001b[39;00m (ax0_ax1_fused_0 \u001b[35;01m*\u001b[39;00m \u001b[92m256\u001b[39m \u001b[35;01m+\u001b[39;00m ax0_ax1_fused_1 \u001b[35;01m*\u001b[39;00m \u001b[92m16\u001b[39m \u001b[35;01m+\u001b[39;00m ax0_ax1_fused_2) \u001b[35;01m/\u001b[39;00m\u001b[35;01m/\u001b[39;00m \u001b[92m64\u001b[39m)\n",
            "                                    v1 \u001b[35;01m=\u001b[39;00m T\u001b[35;01m.\u001b[39;00maxis\u001b[35;01m.\u001b[39;00mspatial(\u001b[92m2048\u001b[39m, k_0 \u001b[35;01m*\u001b[39;00m \u001b[92m64\u001b[39m \u001b[35;01m+\u001b[39;00m (ax0_ax1_fused_0 \u001b[35;01m*\u001b[39;00m \u001b[92m256\u001b[39m \u001b[35;01m+\u001b[39;00m ax0_ax1_fused_1 \u001b[35;01m*\u001b[39;00m \u001b[92m16\u001b[39m \u001b[35;01m+\u001b[39;00m ax0_ax1_fused_2) \u001b[35;01m%\u001b[39;00m \u001b[92m64\u001b[39m)\n",
            "                                    T\u001b[35;01m.\u001b[39;00mreads(A[v0, v1])\n",
            "                                    T\u001b[35;01m.\u001b[39;00mwrites(A_shared[v0, v1])\n",
            "                                    A_shared[v0, v1] \u001b[35;01m=\u001b[39;00m A[v0, v1]\n",
            "                    \u001b[32;01mfor\u001b[39;00m ax0_ax1_fused_0 \u001b[32;01min\u001b[39;00m range(\u001b[92m16\u001b[39m):\n",
            "                        \u001b[32;01mfor\u001b[39;00m ax0_ax1_fused_1 \u001b[32;01min\u001b[39;00m T\u001b[35;01m.\u001b[39;00mthread_binding(\u001b[92m16\u001b[39m, thread\u001b[35;01m=\u001b[39;00m\u001b[33m\"\u001b[39m\u001b[33mthreadIdx.y\u001b[39m\u001b[33m\"\u001b[39m):\n",
            "                            \u001b[32;01mfor\u001b[39;00m ax0_ax1_fused_2 \u001b[32;01min\u001b[39;00m T\u001b[35;01m.\u001b[39;00mthread_binding(\u001b[92m16\u001b[39m, thread\u001b[35;01m=\u001b[39;00m\u001b[33m\"\u001b[39m\u001b[33mthreadIdx.x\u001b[39m\u001b[33m\"\u001b[39m):\n",
            "                                \u001b[32;01mwith\u001b[39;00m T\u001b[35;01m.\u001b[39;00mblock(\u001b[33m\"\u001b[39m\u001b[33mB_shared\u001b[39m\u001b[33m\"\u001b[39m):\n",
            "                                    v0 \u001b[35;01m=\u001b[39;00m T\u001b[35;01m.\u001b[39;00maxis\u001b[35;01m.\u001b[39;00mspatial(\u001b[92m2048\u001b[39m, k_0 \u001b[35;01m*\u001b[39;00m \u001b[92m64\u001b[39m \u001b[35;01m+\u001b[39;00m (ax0_ax1_fused_0 \u001b[35;01m*\u001b[39;00m \u001b[92m256\u001b[39m \u001b[35;01m+\u001b[39;00m ax0_ax1_fused_1 \u001b[35;01m*\u001b[39;00m \u001b[92m16\u001b[39m \u001b[35;01m+\u001b[39;00m ax0_ax1_fused_2) \u001b[35;01m/\u001b[39;00m\u001b[35;01m/\u001b[39;00m \u001b[92m64\u001b[39m)\n",
            "                                    v1 \u001b[35;01m=\u001b[39;00m T\u001b[35;01m.\u001b[39;00maxis\u001b[35;01m.\u001b[39;00mspatial(\u001b[92m2048\u001b[39m, j_0 \u001b[35;01m*\u001b[39;00m \u001b[92m64\u001b[39m \u001b[35;01m+\u001b[39;00m (ax0_ax1_fused_0 \u001b[35;01m*\u001b[39;00m \u001b[92m256\u001b[39m \u001b[35;01m+\u001b[39;00m ax0_ax1_fused_1 \u001b[35;01m*\u001b[39;00m \u001b[92m16\u001b[39m \u001b[35;01m+\u001b[39;00m ax0_ax1_fused_2) \u001b[35;01m%\u001b[39;00m \u001b[92m64\u001b[39m)\n",
            "                                    T\u001b[35;01m.\u001b[39;00mreads(B[v0, v1])\n",
            "                                    T\u001b[35;01m.\u001b[39;00mwrites(B_shared[v0, v1])\n",
            "                                    B_shared[v0, v1] \u001b[35;01m=\u001b[39;00m B[v0, v1]\n",
            "                    \u001b[32;01mfor\u001b[39;00m i_1_0 \u001b[32;01min\u001b[39;00m T\u001b[35;01m.\u001b[39;00mthread_binding(\u001b[92m16\u001b[39m, thread\u001b[35;01m=\u001b[39;00m\u001b[33m\"\u001b[39m\u001b[33mthreadIdx.x\u001b[39m\u001b[33m\"\u001b[39m):\n",
            "                        \u001b[32;01mfor\u001b[39;00m j_1_0 \u001b[32;01min\u001b[39;00m T\u001b[35;01m.\u001b[39;00mthread_binding(\u001b[92m16\u001b[39m, thread\u001b[35;01m=\u001b[39;00m\u001b[33m\"\u001b[39m\u001b[33mthreadIdx.y\u001b[39m\u001b[33m\"\u001b[39m):\n",
            "                            \u001b[32;01mfor\u001b[39;00m k_1_0 \u001b[32;01min\u001b[39;00m range(\u001b[92m64\u001b[39m):\n",
            "                                \u001b[32;01mfor\u001b[39;00m ax0 \u001b[32;01min\u001b[39;00m range(\u001b[92m4\u001b[39m):\n",
            "                                    \u001b[32;01mwith\u001b[39;00m T\u001b[35;01m.\u001b[39;00mblock(\u001b[33m\"\u001b[39m\u001b[33mA_shared_local\u001b[39m\u001b[33m\"\u001b[39m):\n",
            "                                        v0 \u001b[35;01m=\u001b[39;00m T\u001b[35;01m.\u001b[39;00maxis\u001b[35;01m.\u001b[39;00mspatial(\u001b[92m2048\u001b[39m, i_0 \u001b[35;01m*\u001b[39;00m \u001b[92m64\u001b[39m \u001b[35;01m+\u001b[39;00m i_1_0 \u001b[35;01m*\u001b[39;00m \u001b[92m4\u001b[39m \u001b[35;01m+\u001b[39;00m ax0)\n",
            "                                        v1 \u001b[35;01m=\u001b[39;00m T\u001b[35;01m.\u001b[39;00maxis\u001b[35;01m.\u001b[39;00mspatial(\u001b[92m2048\u001b[39m, k_0 \u001b[35;01m*\u001b[39;00m \u001b[92m64\u001b[39m \u001b[35;01m+\u001b[39;00m k_1_0)\n",
            "                                        T\u001b[35;01m.\u001b[39;00mreads(A_shared[v0, v1])\n",
            "                                        T\u001b[35;01m.\u001b[39;00mwrites(A_shared_local[v0, v1])\n",
            "                                        A_shared_local[v0, v1] \u001b[35;01m=\u001b[39;00m A_shared[v0, v1]\n",
            "                                \u001b[32;01mfor\u001b[39;00m ax0 \u001b[32;01min\u001b[39;00m range(\u001b[92m4\u001b[39m):\n",
            "                                    \u001b[32;01mwith\u001b[39;00m T\u001b[35;01m.\u001b[39;00mblock(\u001b[33m\"\u001b[39m\u001b[33mB_shared_local\u001b[39m\u001b[33m\"\u001b[39m):\n",
            "                                        v0 \u001b[35;01m=\u001b[39;00m T\u001b[35;01m.\u001b[39;00maxis\u001b[35;01m.\u001b[39;00mspatial(\u001b[92m2048\u001b[39m, k_0 \u001b[35;01m*\u001b[39;00m \u001b[92m64\u001b[39m \u001b[35;01m+\u001b[39;00m k_1_0)\n",
            "                                        v1 \u001b[35;01m=\u001b[39;00m T\u001b[35;01m.\u001b[39;00maxis\u001b[35;01m.\u001b[39;00mspatial(\u001b[92m2048\u001b[39m, j_0 \u001b[35;01m*\u001b[39;00m \u001b[92m64\u001b[39m \u001b[35;01m+\u001b[39;00m j_1_0 \u001b[35;01m*\u001b[39;00m \u001b[92m4\u001b[39m \u001b[35;01m+\u001b[39;00m ax0)\n",
            "                                        T\u001b[35;01m.\u001b[39;00mreads(B_shared[v0, v1])\n",
            "                                        T\u001b[35;01m.\u001b[39;00mwrites(B_shared_local[v0, v1])\n",
            "                                        B_shared_local[v0, v1] \u001b[35;01m=\u001b[39;00m B_shared[v0, v1]\n",
            "                                \u001b[32;01mfor\u001b[39;00m i_1_1, j_1_1, k_1_1 \u001b[32;01min\u001b[39;00m T\u001b[35;01m.\u001b[39;00mgrid(\u001b[92m4\u001b[39m, \u001b[92m4\u001b[39m, \u001b[92m1\u001b[39m):\n",
            "                                    \u001b[32;01mwith\u001b[39;00m T\u001b[35;01m.\u001b[39;00mblock(\u001b[33m\"\u001b[39m\u001b[33mgemm\u001b[39m\u001b[33m\"\u001b[39m):\n",
            "                                        vi \u001b[35;01m=\u001b[39;00m T\u001b[35;01m.\u001b[39;00maxis\u001b[35;01m.\u001b[39;00mspatial(\u001b[92m2048\u001b[39m, i_0 \u001b[35;01m*\u001b[39;00m \u001b[92m64\u001b[39m \u001b[35;01m+\u001b[39;00m i_1_0 \u001b[35;01m*\u001b[39;00m \u001b[92m4\u001b[39m \u001b[35;01m+\u001b[39;00m i_1_1)\n",
            "                                        vj \u001b[35;01m=\u001b[39;00m T\u001b[35;01m.\u001b[39;00maxis\u001b[35;01m.\u001b[39;00mspatial(\u001b[92m2048\u001b[39m, j_0 \u001b[35;01m*\u001b[39;00m \u001b[92m64\u001b[39m \u001b[35;01m+\u001b[39;00m j_1_0 \u001b[35;01m*\u001b[39;00m \u001b[92m4\u001b[39m \u001b[35;01m+\u001b[39;00m j_1_1)\n",
            "                                        vk \u001b[35;01m=\u001b[39;00m T\u001b[35;01m.\u001b[39;00maxis\u001b[35;01m.\u001b[39;00mreduce(\u001b[92m2048\u001b[39m, k_0 \u001b[35;01m*\u001b[39;00m \u001b[92m64\u001b[39m \u001b[35;01m+\u001b[39;00m k_1_0 \u001b[35;01m+\u001b[39;00m k_1_1)\n",
            "                                        T\u001b[35;01m.\u001b[39;00mreads(A_shared_local[vi, vk], B_shared_local[vk, vj])\n",
            "                                        T\u001b[35;01m.\u001b[39;00mwrites(matmul[vi, vj])\n",
            "                                        \u001b[32;01mwith\u001b[39;00m T\u001b[35;01m.\u001b[39;00minit():\n",
            "                                            matmul[vi, vj] \u001b[35;01m=\u001b[39;00m T\u001b[35;01m.\u001b[39;00mfloat32(\u001b[92m0.0\u001b[39m)\n",
            "                                        matmul[vi, vj] \u001b[35;01m=\u001b[39;00m matmul[vi, vj] \u001b[35;01m+\u001b[39;00m A_shared_local[vi, vk] \u001b[35;01m*\u001b[39;00m B_shared_local[vk, vj]\n",
            "        \u001b[32;01mfor\u001b[39;00m i, j \u001b[32;01min\u001b[39;00m T\u001b[35;01m.\u001b[39;00mgrid(\u001b[92m2048\u001b[39m, \u001b[92m2048\u001b[39m):\n",
            "            \u001b[32;01mwith\u001b[39;00m T\u001b[35;01m.\u001b[39;00mblock(\u001b[33m\"\u001b[39m\u001b[33mrelu\u001b[39m\u001b[33m\"\u001b[39m):\n",
            "                vi, vj \u001b[35;01m=\u001b[39;00m T\u001b[35;01m.\u001b[39;00maxis\u001b[35;01m.\u001b[39;00mremap(\u001b[33m\"\u001b[39m\u001b[33mSS\u001b[39m\u001b[33m\"\u001b[39m, [i, j])\n",
            "                T\u001b[35;01m.\u001b[39;00mreads(matmul[vi, vj])\n",
            "                T\u001b[35;01m.\u001b[39;00mwrites(relu[vi, vj])\n",
            "                relu[vi, vj] \u001b[35;01m=\u001b[39;00m T\u001b[35;01m.\u001b[39;00mmax(matmul[vi, vj], T\u001b[35;01m.\u001b[39;00mfloat32(\u001b[92m0.0\u001b[39m))\n",
            "        \u001b[32;01mfor\u001b[39;00m i, j \u001b[32;01min\u001b[39;00m T\u001b[35;01m.\u001b[39;00mgrid(\u001b[92m2048\u001b[39m, \u001b[92m2048\u001b[39m):\n",
            "            \u001b[32;01mwith\u001b[39;00m T\u001b[35;01m.\u001b[39;00mblock(\u001b[33m\"\u001b[39m\u001b[33madd\u001b[39m\u001b[33m\"\u001b[39m):\n",
            "                vi, vj \u001b[35;01m=\u001b[39;00m T\u001b[35;01m.\u001b[39;00maxis\u001b[35;01m.\u001b[39;00mremap(\u001b[33m\"\u001b[39m\u001b[33mSS\u001b[39m\u001b[33m\"\u001b[39m, [i, j])\n",
            "                T\u001b[35;01m.\u001b[39;00mreads(relu[vi, vj], C[vi, vj])\n",
            "                T\u001b[35;01m.\u001b[39;00mwrites(D[vi, vj])\n",
            "                D[vi, vj] \u001b[35;01m=\u001b[39;00m relu[vi, vj] \u001b[35;01m+\u001b[39;00m C[vi, vj]\n",
            "\n",
            "\u001b[90;03m# from tvm import tir\u001b[39;00m\n",
            "\u001b[32;01mdef\u001b[39;00m \u001b[34;01mapply_trace\u001b[39;00m(sch: tir\u001b[35;01m.\u001b[39;00mSchedule) \u001b[35;01m-\u001b[39;00m\u001b[35;01m>\u001b[39;00m \u001b[32;01mNone\u001b[39;00m:\n",
            "  b0 \u001b[35;01m=\u001b[39;00m sch\u001b[35;01m.\u001b[39;00mget_block(name\u001b[35;01m=\u001b[39;00m\u001b[33m\"\u001b[39m\u001b[33mgemm\u001b[39m\u001b[33m\"\u001b[39m, func_name\u001b[35;01m=\u001b[39;00m\u001b[33m\"\u001b[39m\u001b[33mmain\u001b[39m\u001b[33m\"\u001b[39m)\n",
            "  l1, l2, l3 \u001b[35;01m=\u001b[39;00m sch\u001b[35;01m.\u001b[39;00mget_loops(block\u001b[35;01m=\u001b[39;00mb0)\n",
            "  l4, l5 \u001b[35;01m=\u001b[39;00m sch\u001b[35;01m.\u001b[39;00msplit(loop\u001b[35;01m=\u001b[39;00ml1, factors\u001b[35;01m=\u001b[39;00m[\u001b[32;01mNone\u001b[39;00m, \u001b[92m64\u001b[39m], preserve_unit_iters\u001b[35;01m=\u001b[39;00m\u001b[32;01mTrue\u001b[39;00m, disable_predication\u001b[35;01m=\u001b[39;00m\u001b[32;01mFalse\u001b[39;00m)\n",
            "  l6, l7 \u001b[35;01m=\u001b[39;00m sch\u001b[35;01m.\u001b[39;00msplit(loop\u001b[35;01m=\u001b[39;00ml2, factors\u001b[35;01m=\u001b[39;00m[\u001b[32;01mNone\u001b[39;00m, \u001b[92m64\u001b[39m], preserve_unit_iters\u001b[35;01m=\u001b[39;00m\u001b[32;01mTrue\u001b[39;00m, disable_predication\u001b[35;01m=\u001b[39;00m\u001b[32;01mFalse\u001b[39;00m)\n",
            "  l8, l9 \u001b[35;01m=\u001b[39;00m sch\u001b[35;01m.\u001b[39;00msplit(loop\u001b[35;01m=\u001b[39;00ml3, factors\u001b[35;01m=\u001b[39;00m[\u001b[32;01mNone\u001b[39;00m, \u001b[92m64\u001b[39m], preserve_unit_iters\u001b[35;01m=\u001b[39;00m\u001b[32;01mTrue\u001b[39;00m, disable_predication\u001b[35;01m=\u001b[39;00m\u001b[32;01mFalse\u001b[39;00m)\n",
            "  sch\u001b[35;01m.\u001b[39;00mreorder(l4, l6, l8, l5, l7, l9)\n",
            "  sch\u001b[35;01m.\u001b[39;00mbind(loop\u001b[35;01m=\u001b[39;00ml4, thread_axis\u001b[35;01m=\u001b[39;00m\u001b[33m\"\u001b[39m\u001b[33mblockIdx.x\u001b[39m\u001b[33m\"\u001b[39m)\n",
            "  sch\u001b[35;01m.\u001b[39;00mbind(loop\u001b[35;01m=\u001b[39;00ml6, thread_axis\u001b[35;01m=\u001b[39;00m\u001b[33m\"\u001b[39m\u001b[33mblockIdx.y\u001b[39m\u001b[33m\"\u001b[39m)\n",
            "  b10 \u001b[35;01m=\u001b[39;00m sch\u001b[35;01m.\u001b[39;00mcache_read(block\u001b[35;01m=\u001b[39;00mb0, read_buffer_index\u001b[35;01m=\u001b[39;00m\u001b[92m0\u001b[39m, storage_scope\u001b[35;01m=\u001b[39;00m\u001b[33m\"\u001b[39m\u001b[33mshared\u001b[39m\u001b[33m\"\u001b[39m)\n",
            "  sch\u001b[35;01m.\u001b[39;00mcompute_at(block\u001b[35;01m=\u001b[39;00mb10, loop\u001b[35;01m=\u001b[39;00ml8, preserve_unit_loops\u001b[35;01m=\u001b[39;00m\u001b[32;01mFalse\u001b[39;00m, index\u001b[35;01m=\u001b[39;00m\u001b[35;01m-\u001b[39;00m\u001b[92m1\u001b[39m)\n",
            "  b11 \u001b[35;01m=\u001b[39;00m sch\u001b[35;01m.\u001b[39;00mcache_read(block\u001b[35;01m=\u001b[39;00mb0, read_buffer_index\u001b[35;01m=\u001b[39;00m\u001b[92m1\u001b[39m, storage_scope\u001b[35;01m=\u001b[39;00m\u001b[33m\"\u001b[39m\u001b[33mshared\u001b[39m\u001b[33m\"\u001b[39m)\n",
            "  sch\u001b[35;01m.\u001b[39;00mcompute_at(block\u001b[35;01m=\u001b[39;00mb11, loop\u001b[35;01m=\u001b[39;00ml8, preserve_unit_loops\u001b[35;01m=\u001b[39;00m\u001b[32;01mFalse\u001b[39;00m, index\u001b[35;01m=\u001b[39;00m\u001b[35;01m-\u001b[39;00m\u001b[92m1\u001b[39m)\n",
            "  b12 \u001b[35;01m=\u001b[39;00m sch\u001b[35;01m.\u001b[39;00mget_block(name\u001b[35;01m=\u001b[39;00m\u001b[33m\"\u001b[39m\u001b[33mgemm\u001b[39m\u001b[33m\"\u001b[39m, func_name\u001b[35;01m=\u001b[39;00m\u001b[33m\"\u001b[39m\u001b[33mmain\u001b[39m\u001b[33m\"\u001b[39m)\n",
            "  l13, l14, l15, l16, l17, l18 \u001b[35;01m=\u001b[39;00m sch\u001b[35;01m.\u001b[39;00mget_loops(block\u001b[35;01m=\u001b[39;00mb12)\n",
            "  l19, l20 \u001b[35;01m=\u001b[39;00m sch\u001b[35;01m.\u001b[39;00msplit(loop\u001b[35;01m=\u001b[39;00ml16, factors\u001b[35;01m=\u001b[39;00m[\u001b[32;01mNone\u001b[39;00m, \u001b[92m4\u001b[39m], preserve_unit_iters\u001b[35;01m=\u001b[39;00m\u001b[32;01mTrue\u001b[39;00m, disable_predication\u001b[35;01m=\u001b[39;00m\u001b[32;01mFalse\u001b[39;00m)\n",
            "  l21, l22 \u001b[35;01m=\u001b[39;00m sch\u001b[35;01m.\u001b[39;00msplit(loop\u001b[35;01m=\u001b[39;00ml17, factors\u001b[35;01m=\u001b[39;00m[\u001b[32;01mNone\u001b[39;00m, \u001b[92m4\u001b[39m], preserve_unit_iters\u001b[35;01m=\u001b[39;00m\u001b[32;01mTrue\u001b[39;00m, disable_predication\u001b[35;01m=\u001b[39;00m\u001b[32;01mFalse\u001b[39;00m)\n",
            "  l23, l24 \u001b[35;01m=\u001b[39;00m sch\u001b[35;01m.\u001b[39;00msplit(loop\u001b[35;01m=\u001b[39;00ml18, factors\u001b[35;01m=\u001b[39;00m[\u001b[32;01mNone\u001b[39;00m, \u001b[92m1\u001b[39m], preserve_unit_iters\u001b[35;01m=\u001b[39;00m\u001b[32;01mTrue\u001b[39;00m, disable_predication\u001b[35;01m=\u001b[39;00m\u001b[32;01mFalse\u001b[39;00m)\n",
            "  sch\u001b[35;01m.\u001b[39;00mreorder(l19, l21, l23, l20, l22, l24)\n",
            "  sch\u001b[35;01m.\u001b[39;00mbind(loop\u001b[35;01m=\u001b[39;00ml19, thread_axis\u001b[35;01m=\u001b[39;00m\u001b[33m\"\u001b[39m\u001b[33mthreadIdx.x\u001b[39m\u001b[33m\"\u001b[39m)\n",
            "  sch\u001b[35;01m.\u001b[39;00mbind(loop\u001b[35;01m=\u001b[39;00ml21, thread_axis\u001b[35;01m=\u001b[39;00m\u001b[33m\"\u001b[39m\u001b[33mthreadIdx.y\u001b[39m\u001b[33m\"\u001b[39m)\n",
            "  b25 \u001b[35;01m=\u001b[39;00m sch\u001b[35;01m.\u001b[39;00mcache_read(block\u001b[35;01m=\u001b[39;00mb12, read_buffer_index\u001b[35;01m=\u001b[39;00m\u001b[92m0\u001b[39m, storage_scope\u001b[35;01m=\u001b[39;00m\u001b[33m\"\u001b[39m\u001b[33mlocal\u001b[39m\u001b[33m\"\u001b[39m)\n",
            "  sch\u001b[35;01m.\u001b[39;00mcompute_at(block\u001b[35;01m=\u001b[39;00mb25, loop\u001b[35;01m=\u001b[39;00ml23, preserve_unit_loops\u001b[35;01m=\u001b[39;00m\u001b[32;01mFalse\u001b[39;00m, index\u001b[35;01m=\u001b[39;00m\u001b[35;01m-\u001b[39;00m\u001b[92m1\u001b[39m)\n",
            "  b26 \u001b[35;01m=\u001b[39;00m sch\u001b[35;01m.\u001b[39;00mcache_read(block\u001b[35;01m=\u001b[39;00mb12, read_buffer_index\u001b[35;01m=\u001b[39;00m\u001b[92m1\u001b[39m, storage_scope\u001b[35;01m=\u001b[39;00m\u001b[33m\"\u001b[39m\u001b[33mlocal\u001b[39m\u001b[33m\"\u001b[39m)\n",
            "  sch\u001b[35;01m.\u001b[39;00mcompute_at(block\u001b[35;01m=\u001b[39;00mb26, loop\u001b[35;01m=\u001b[39;00ml23, preserve_unit_loops\u001b[35;01m=\u001b[39;00m\u001b[32;01mFalse\u001b[39;00m, index\u001b[35;01m=\u001b[39;00m\u001b[35;01m-\u001b[39;00m\u001b[92m1\u001b[39m)\n",
            "  l27, l28, l29, l30, l31 \u001b[35;01m=\u001b[39;00m sch\u001b[35;01m.\u001b[39;00mget_loops(block\u001b[35;01m=\u001b[39;00mb10)\n",
            "  l32 \u001b[35;01m=\u001b[39;00m sch\u001b[35;01m.\u001b[39;00mfuse(l30, l31, preserve_unit_iters\u001b[35;01m=\u001b[39;00m\u001b[32;01mTrue\u001b[39;00m)\n",
            "  l33, l34, l35 \u001b[35;01m=\u001b[39;00m sch\u001b[35;01m.\u001b[39;00msplit(loop\u001b[35;01m=\u001b[39;00ml32, factors\u001b[35;01m=\u001b[39;00m[\u001b[32;01mNone\u001b[39;00m, \u001b[92m16\u001b[39m, \u001b[92m16\u001b[39m], preserve_unit_iters\u001b[35;01m=\u001b[39;00m\u001b[32;01mTrue\u001b[39;00m, disable_predication\u001b[35;01m=\u001b[39;00m\u001b[32;01mFalse\u001b[39;00m)\n",
            "  sch\u001b[35;01m.\u001b[39;00mbind(loop\u001b[35;01m=\u001b[39;00ml34, thread_axis\u001b[35;01m=\u001b[39;00m\u001b[33m\"\u001b[39m\u001b[33mthreadIdx.y\u001b[39m\u001b[33m\"\u001b[39m)\n",
            "  sch\u001b[35;01m.\u001b[39;00mbind(loop\u001b[35;01m=\u001b[39;00ml35, thread_axis\u001b[35;01m=\u001b[39;00m\u001b[33m\"\u001b[39m\u001b[33mthreadIdx.x\u001b[39m\u001b[33m\"\u001b[39m)\n",
            "  l36, l37, l38, l39, l40 \u001b[35;01m=\u001b[39;00m sch\u001b[35;01m.\u001b[39;00mget_loops(block\u001b[35;01m=\u001b[39;00mb11)\n",
            "  l41 \u001b[35;01m=\u001b[39;00m sch\u001b[35;01m.\u001b[39;00mfuse(l39, l40, preserve_unit_iters\u001b[35;01m=\u001b[39;00m\u001b[32;01mTrue\u001b[39;00m)\n",
            "  l42, l43, l44 \u001b[35;01m=\u001b[39;00m sch\u001b[35;01m.\u001b[39;00msplit(loop\u001b[35;01m=\u001b[39;00ml41, factors\u001b[35;01m=\u001b[39;00m[\u001b[32;01mNone\u001b[39;00m, \u001b[92m16\u001b[39m, \u001b[92m16\u001b[39m], preserve_unit_iters\u001b[35;01m=\u001b[39;00m\u001b[32;01mTrue\u001b[39;00m, disable_predication\u001b[35;01m=\u001b[39;00m\u001b[32;01mFalse\u001b[39;00m)\n",
            "  sch\u001b[35;01m.\u001b[39;00mbind(loop\u001b[35;01m=\u001b[39;00ml43, thread_axis\u001b[35;01m=\u001b[39;00m\u001b[33m\"\u001b[39m\u001b[33mthreadIdx.y\u001b[39m\u001b[33m\"\u001b[39m)\n",
            "  sch\u001b[35;01m.\u001b[39;00mbind(loop\u001b[35;01m=\u001b[39;00ml44, thread_axis\u001b[35;01m=\u001b[39;00m\u001b[33m\"\u001b[39m\u001b[33mthreadIdx.x\u001b[39m\u001b[33m\"\u001b[39m)\n",
            "\n"
          ]
        }
      ],
      "source": [
        "!python3 gemm_relu_add.py"
      ]
    },
    {
      "cell_type": "markdown",
      "metadata": {
        "id": "2jNRVNQb1BAs"
      },
      "source": [
        "### Task 3. Cooperative fetching (20 pt)\n",
        "\n",
        "Throughout the shared memory tiling and register tiling,\n",
        "we have assigned each thread a `matmul` region to compute.\n",
        "This concludes our arrangement of the GeMM computation.\n",
        "Nevertheless, we still have a few more optimization steps till the end.\n",
        "The first one is **cooperative fetching**, where we optimize the memory load\n",
        "from global memory to shared memory for both `A` and `B`.\n",
        "\n",
        "Remember in the \"shared memory tiling\" subsection, we created stages for\n",
        "a thread block to read data from `A` and `B` into their respective shared memory.\n",
        "However, you may notice that how the the data is read remains unspecified.\n",
        "Specifically, we have known which `A`/`B` region a thread block should read,\n",
        "but **do not specify which `A`/`B` elements a single thread should read**.\n",
        "If we do not specify this, by default *every* thread in a thread block will\n",
        "read the entire `A`/`B` regions that this thread block is responsible for and\n",
        "write the values into shared memory correspondingly.\n",
        "Since the shared memory of a thread block is accessible to all threads,\n",
        "this default behavior, as a result, leads to duplicate global memory reads\n",
        "and shared memory writes, and fails to reduce the number of global memory accesses.\n",
        "\n",
        "This motivates us to implement cooperative fetching.\n",
        "Cooperative fetching means all the threads in a thread block\n",
        "collectively (\"*cooperative*\") load values from global memory to shared memory (\"*fetching*\").\n",
        "To make sure each element in the tile is read only once (by some thread),\n",
        "we can divide the number of elements in the shared memory tile evenly by\n",
        "the number of threads, yielding the number of elements each thread loads.\n",
        "Then, we let all the threads in the thread block to load values in memory order.\n",
        "\n",
        "For our example, we can calculate that each thread in a thread block needs to\n",
        "load `thread_tile_x * thread_tile_y * tile_k / tile_y` elements from `A`,\n",
        "and likewise, `thread_tile_x * thread_tile_y * tile_k / tile_x` elements from `B`.\n",
        "If we denote the number of total threads (`(tile_x / thread_tile_x) * (tile_y / thread_tile_y)`) as\n",
        "`num_threads`, then when loading an `A` tile to shared memory, in the first round all the threads\n",
        "load the first continuous `num_threads` elements, in the second round they load\n",
        "the next continuous `num_threads` elements, and keep loading for\n",
        "`thread_tile_x * thread_tile_y * tile_k / tile_y` times.\n",
        "This applies to the shared memory load of `B` in the same way.\n",
        "\n",
        "[The other Jupyter notebook](https://github.com/mlsyscourse/assignment2/blob/main/schedule_example.ipynb) contains a simple example of\n",
        "cooperative fetching that you might find helpful for understanding,\n",
        "if you have not went through it."
      ]
    },
    {
      "cell_type": "markdown",
      "metadata": {
        "id": "pGceqz8O1BAs"
      },
      "source": [
        "You need to implement the cooperative fetching in the `cooperative_fetching` function in `gemm_relu_add.py`.\n",
        "As you can see in the code, since the cooperative fetching for `A` and `B` are the same,\n",
        "we can write a common schedule function and apply it to the shared memory read stages\n",
        "of both `A` and `B`.\n",
        "The new schedule primitive you will use in this task is\n",
        "`fuse` [(docs)](https://tvm.apache.org/docs/reference/api/python/tir/schedule.html#tvm.tir.schedule.Schedule.fuse),\n",
        "which, on the contrary to `split`, fuses multiple loops into a single loop."
      ]
    },
    {
      "cell_type": "code",
      "execution_count": 30,
      "metadata": {
        "colab": {
          "base_uri": "https://localhost:8080/"
        },
        "id": "TJTEriTB1BAt",
        "outputId": "462c2ca1-fe18-49e4-ea93-20d061bdb5eb"
      },
      "outputs": [
        {
          "output_type": "stream",
          "name": "stdout",
          "text": [
            "\u001b[90;03m# from tvm.script import ir as I\u001b[39;00m\n",
            "\u001b[90;03m# from tvm.script import tir as T\u001b[39;00m\n",
            "\n",
            "\u001b[95;03m@I\u001b[39;00m\u001b[35;01m.\u001b[39;00mir_module\n",
            "\u001b[32;01mclass\u001b[39;00m \u001b[34;01mModule\u001b[39;00m:\n",
            "    \u001b[95;03m@T\u001b[39;00m\u001b[35;01m.\u001b[39;00mprim_func\n",
            "    \u001b[32;01mdef\u001b[39;00m \u001b[34;01mmain\u001b[39;00m(A: T\u001b[35;01m.\u001b[39;00mBuffer((\u001b[92m2048\u001b[39m, \u001b[92m2048\u001b[39m), \u001b[33m\"\u001b[39m\u001b[33mfloat32\u001b[39m\u001b[33m\"\u001b[39m), B: T\u001b[35;01m.\u001b[39;00mBuffer((\u001b[92m2048\u001b[39m, \u001b[92m2048\u001b[39m), \u001b[33m\"\u001b[39m\u001b[33mfloat32\u001b[39m\u001b[33m\"\u001b[39m), C: T\u001b[35;01m.\u001b[39;00mBuffer((\u001b[92m2048\u001b[39m, \u001b[92m2048\u001b[39m), \u001b[33m\"\u001b[39m\u001b[33mfloat32\u001b[39m\u001b[33m\"\u001b[39m), D: T\u001b[35;01m.\u001b[39;00mBuffer((\u001b[92m2048\u001b[39m, \u001b[92m2048\u001b[39m), \u001b[33m\"\u001b[39m\u001b[33mfloat32\u001b[39m\u001b[33m\"\u001b[39m)):\n",
            "        T\u001b[35;01m.\u001b[39;00mfunc_attr({\u001b[33m\"\u001b[39m\u001b[33mglobal_symbol\u001b[39m\u001b[33m\"\u001b[39m: \u001b[33m\"\u001b[39m\u001b[33mgemm_relu_add\u001b[39m\u001b[33m\"\u001b[39m})\n",
            "        \u001b[90;03m# with T.block(\"root\"):\u001b[39;00m\n",
            "        matmul \u001b[35;01m=\u001b[39;00m T\u001b[35;01m.\u001b[39;00malloc_buffer((\u001b[92m2048\u001b[39m, \u001b[92m2048\u001b[39m))\n",
            "        relu \u001b[35;01m=\u001b[39;00m T\u001b[35;01m.\u001b[39;00malloc_buffer((\u001b[92m2048\u001b[39m, \u001b[92m2048\u001b[39m))\n",
            "        A_shared \u001b[35;01m=\u001b[39;00m T\u001b[35;01m.\u001b[39;00malloc_buffer((\u001b[92m2048\u001b[39m, \u001b[92m2048\u001b[39m), scope\u001b[35;01m=\u001b[39;00m\u001b[33m\"\u001b[39m\u001b[33mshared\u001b[39m\u001b[33m\"\u001b[39m)\n",
            "        B_shared \u001b[35;01m=\u001b[39;00m T\u001b[35;01m.\u001b[39;00malloc_buffer((\u001b[92m2048\u001b[39m, \u001b[92m2048\u001b[39m), scope\u001b[35;01m=\u001b[39;00m\u001b[33m\"\u001b[39m\u001b[33mshared\u001b[39m\u001b[33m\"\u001b[39m)\n",
            "        A_shared_local \u001b[35;01m=\u001b[39;00m T\u001b[35;01m.\u001b[39;00malloc_buffer((\u001b[92m2048\u001b[39m, \u001b[92m2048\u001b[39m), scope\u001b[35;01m=\u001b[39;00m\u001b[33m\"\u001b[39m\u001b[33mlocal\u001b[39m\u001b[33m\"\u001b[39m)\n",
            "        B_shared_local \u001b[35;01m=\u001b[39;00m T\u001b[35;01m.\u001b[39;00malloc_buffer((\u001b[92m2048\u001b[39m, \u001b[92m2048\u001b[39m), scope\u001b[35;01m=\u001b[39;00m\u001b[33m\"\u001b[39m\u001b[33mlocal\u001b[39m\u001b[33m\"\u001b[39m)\n",
            "        matmul_local \u001b[35;01m=\u001b[39;00m T\u001b[35;01m.\u001b[39;00malloc_buffer((\u001b[92m2048\u001b[39m, \u001b[92m2048\u001b[39m), scope\u001b[35;01m=\u001b[39;00m\u001b[33m\"\u001b[39m\u001b[33mlocal\u001b[39m\u001b[33m\"\u001b[39m)\n",
            "        \u001b[32;01mfor\u001b[39;00m i_0 \u001b[32;01min\u001b[39;00m T\u001b[35;01m.\u001b[39;00mthread_binding(\u001b[92m32\u001b[39m, thread\u001b[35;01m=\u001b[39;00m\u001b[33m\"\u001b[39m\u001b[33mblockIdx.x\u001b[39m\u001b[33m\"\u001b[39m):\n",
            "            \u001b[32;01mfor\u001b[39;00m j_0 \u001b[32;01min\u001b[39;00m T\u001b[35;01m.\u001b[39;00mthread_binding(\u001b[92m32\u001b[39m, thread\u001b[35;01m=\u001b[39;00m\u001b[33m\"\u001b[39m\u001b[33mblockIdx.y\u001b[39m\u001b[33m\"\u001b[39m):\n",
            "                \u001b[32;01mfor\u001b[39;00m k_0 \u001b[32;01min\u001b[39;00m range(\u001b[92m32\u001b[39m):\n",
            "                    \u001b[32;01mfor\u001b[39;00m ax0_ax1_fused_0 \u001b[32;01min\u001b[39;00m range(\u001b[92m16\u001b[39m):\n",
            "                        \u001b[32;01mfor\u001b[39;00m ax0_ax1_fused_1 \u001b[32;01min\u001b[39;00m T\u001b[35;01m.\u001b[39;00mthread_binding(\u001b[92m16\u001b[39m, thread\u001b[35;01m=\u001b[39;00m\u001b[33m\"\u001b[39m\u001b[33mthreadIdx.y\u001b[39m\u001b[33m\"\u001b[39m):\n",
            "                            \u001b[32;01mfor\u001b[39;00m ax0_ax1_fused_2 \u001b[32;01min\u001b[39;00m T\u001b[35;01m.\u001b[39;00mthread_binding(\u001b[92m16\u001b[39m, thread\u001b[35;01m=\u001b[39;00m\u001b[33m\"\u001b[39m\u001b[33mthreadIdx.x\u001b[39m\u001b[33m\"\u001b[39m):\n",
            "                                \u001b[32;01mwith\u001b[39;00m T\u001b[35;01m.\u001b[39;00mblock(\u001b[33m\"\u001b[39m\u001b[33mA_shared\u001b[39m\u001b[33m\"\u001b[39m):\n",
            "                                    v0 \u001b[35;01m=\u001b[39;00m T\u001b[35;01m.\u001b[39;00maxis\u001b[35;01m.\u001b[39;00mspatial(\u001b[92m2048\u001b[39m, i_0 \u001b[35;01m*\u001b[39;00m \u001b[92m64\u001b[39m \u001b[35;01m+\u001b[39;00m (ax0_ax1_fused_0 \u001b[35;01m*\u001b[39;00m \u001b[92m256\u001b[39m \u001b[35;01m+\u001b[39;00m ax0_ax1_fused_1 \u001b[35;01m*\u001b[39;00m \u001b[92m16\u001b[39m \u001b[35;01m+\u001b[39;00m ax0_ax1_fused_2) \u001b[35;01m/\u001b[39;00m\u001b[35;01m/\u001b[39;00m \u001b[92m64\u001b[39m)\n",
            "                                    v1 \u001b[35;01m=\u001b[39;00m T\u001b[35;01m.\u001b[39;00maxis\u001b[35;01m.\u001b[39;00mspatial(\u001b[92m2048\u001b[39m, k_0 \u001b[35;01m*\u001b[39;00m \u001b[92m64\u001b[39m \u001b[35;01m+\u001b[39;00m (ax0_ax1_fused_0 \u001b[35;01m*\u001b[39;00m \u001b[92m256\u001b[39m \u001b[35;01m+\u001b[39;00m ax0_ax1_fused_1 \u001b[35;01m*\u001b[39;00m \u001b[92m16\u001b[39m \u001b[35;01m+\u001b[39;00m ax0_ax1_fused_2) \u001b[35;01m%\u001b[39;00m \u001b[92m64\u001b[39m)\n",
            "                                    T\u001b[35;01m.\u001b[39;00mreads(A[v0, v1])\n",
            "                                    T\u001b[35;01m.\u001b[39;00mwrites(A_shared[v0, v1])\n",
            "                                    A_shared[v0, v1] \u001b[35;01m=\u001b[39;00m A[v0, v1]\n",
            "                    \u001b[32;01mfor\u001b[39;00m ax0_ax1_fused_0 \u001b[32;01min\u001b[39;00m range(\u001b[92m16\u001b[39m):\n",
            "                        \u001b[32;01mfor\u001b[39;00m ax0_ax1_fused_1 \u001b[32;01min\u001b[39;00m T\u001b[35;01m.\u001b[39;00mthread_binding(\u001b[92m16\u001b[39m, thread\u001b[35;01m=\u001b[39;00m\u001b[33m\"\u001b[39m\u001b[33mthreadIdx.y\u001b[39m\u001b[33m\"\u001b[39m):\n",
            "                            \u001b[32;01mfor\u001b[39;00m ax0_ax1_fused_2 \u001b[32;01min\u001b[39;00m T\u001b[35;01m.\u001b[39;00mthread_binding(\u001b[92m16\u001b[39m, thread\u001b[35;01m=\u001b[39;00m\u001b[33m\"\u001b[39m\u001b[33mthreadIdx.x\u001b[39m\u001b[33m\"\u001b[39m):\n",
            "                                \u001b[32;01mwith\u001b[39;00m T\u001b[35;01m.\u001b[39;00mblock(\u001b[33m\"\u001b[39m\u001b[33mB_shared\u001b[39m\u001b[33m\"\u001b[39m):\n",
            "                                    v0 \u001b[35;01m=\u001b[39;00m T\u001b[35;01m.\u001b[39;00maxis\u001b[35;01m.\u001b[39;00mspatial(\u001b[92m2048\u001b[39m, k_0 \u001b[35;01m*\u001b[39;00m \u001b[92m64\u001b[39m \u001b[35;01m+\u001b[39;00m (ax0_ax1_fused_0 \u001b[35;01m*\u001b[39;00m \u001b[92m256\u001b[39m \u001b[35;01m+\u001b[39;00m ax0_ax1_fused_1 \u001b[35;01m*\u001b[39;00m \u001b[92m16\u001b[39m \u001b[35;01m+\u001b[39;00m ax0_ax1_fused_2) \u001b[35;01m/\u001b[39;00m\u001b[35;01m/\u001b[39;00m \u001b[92m64\u001b[39m)\n",
            "                                    v1 \u001b[35;01m=\u001b[39;00m T\u001b[35;01m.\u001b[39;00maxis\u001b[35;01m.\u001b[39;00mspatial(\u001b[92m2048\u001b[39m, j_0 \u001b[35;01m*\u001b[39;00m \u001b[92m64\u001b[39m \u001b[35;01m+\u001b[39;00m (ax0_ax1_fused_0 \u001b[35;01m*\u001b[39;00m \u001b[92m256\u001b[39m \u001b[35;01m+\u001b[39;00m ax0_ax1_fused_1 \u001b[35;01m*\u001b[39;00m \u001b[92m16\u001b[39m \u001b[35;01m+\u001b[39;00m ax0_ax1_fused_2) \u001b[35;01m%\u001b[39;00m \u001b[92m64\u001b[39m)\n",
            "                                    T\u001b[35;01m.\u001b[39;00mreads(B[v0, v1])\n",
            "                                    T\u001b[35;01m.\u001b[39;00mwrites(B_shared[v0, v1])\n",
            "                                    B_shared[v0, v1] \u001b[35;01m=\u001b[39;00m B[v0, v1]\n",
            "                    \u001b[32;01mfor\u001b[39;00m i_1_0 \u001b[32;01min\u001b[39;00m T\u001b[35;01m.\u001b[39;00mthread_binding(\u001b[92m16\u001b[39m, thread\u001b[35;01m=\u001b[39;00m\u001b[33m\"\u001b[39m\u001b[33mthreadIdx.x\u001b[39m\u001b[33m\"\u001b[39m):\n",
            "                        \u001b[32;01mfor\u001b[39;00m j_1_0 \u001b[32;01min\u001b[39;00m T\u001b[35;01m.\u001b[39;00mthread_binding(\u001b[92m16\u001b[39m, thread\u001b[35;01m=\u001b[39;00m\u001b[33m\"\u001b[39m\u001b[33mthreadIdx.y\u001b[39m\u001b[33m\"\u001b[39m):\n",
            "                            \u001b[32;01mfor\u001b[39;00m k_1_0 \u001b[32;01min\u001b[39;00m range(\u001b[92m64\u001b[39m):\n",
            "                                \u001b[32;01mfor\u001b[39;00m ax0 \u001b[32;01min\u001b[39;00m range(\u001b[92m4\u001b[39m):\n",
            "                                    \u001b[32;01mwith\u001b[39;00m T\u001b[35;01m.\u001b[39;00mblock(\u001b[33m\"\u001b[39m\u001b[33mA_shared_local\u001b[39m\u001b[33m\"\u001b[39m):\n",
            "                                        v0 \u001b[35;01m=\u001b[39;00m T\u001b[35;01m.\u001b[39;00maxis\u001b[35;01m.\u001b[39;00mspatial(\u001b[92m2048\u001b[39m, i_0 \u001b[35;01m*\u001b[39;00m \u001b[92m64\u001b[39m \u001b[35;01m+\u001b[39;00m i_1_0 \u001b[35;01m*\u001b[39;00m \u001b[92m4\u001b[39m \u001b[35;01m+\u001b[39;00m ax0)\n",
            "                                        v1 \u001b[35;01m=\u001b[39;00m T\u001b[35;01m.\u001b[39;00maxis\u001b[35;01m.\u001b[39;00mspatial(\u001b[92m2048\u001b[39m, k_0 \u001b[35;01m*\u001b[39;00m \u001b[92m64\u001b[39m \u001b[35;01m+\u001b[39;00m k_1_0)\n",
            "                                        T\u001b[35;01m.\u001b[39;00mreads(A_shared[v0, v1])\n",
            "                                        T\u001b[35;01m.\u001b[39;00mwrites(A_shared_local[v0, v1])\n",
            "                                        A_shared_local[v0, v1] \u001b[35;01m=\u001b[39;00m A_shared[v0, v1]\n",
            "                                \u001b[32;01mfor\u001b[39;00m ax0 \u001b[32;01min\u001b[39;00m range(\u001b[92m4\u001b[39m):\n",
            "                                    \u001b[32;01mwith\u001b[39;00m T\u001b[35;01m.\u001b[39;00mblock(\u001b[33m\"\u001b[39m\u001b[33mB_shared_local\u001b[39m\u001b[33m\"\u001b[39m):\n",
            "                                        v0 \u001b[35;01m=\u001b[39;00m T\u001b[35;01m.\u001b[39;00maxis\u001b[35;01m.\u001b[39;00mspatial(\u001b[92m2048\u001b[39m, k_0 \u001b[35;01m*\u001b[39;00m \u001b[92m64\u001b[39m \u001b[35;01m+\u001b[39;00m k_1_0)\n",
            "                                        v1 \u001b[35;01m=\u001b[39;00m T\u001b[35;01m.\u001b[39;00maxis\u001b[35;01m.\u001b[39;00mspatial(\u001b[92m2048\u001b[39m, j_0 \u001b[35;01m*\u001b[39;00m \u001b[92m64\u001b[39m \u001b[35;01m+\u001b[39;00m j_1_0 \u001b[35;01m*\u001b[39;00m \u001b[92m4\u001b[39m \u001b[35;01m+\u001b[39;00m ax0)\n",
            "                                        T\u001b[35;01m.\u001b[39;00mreads(B_shared[v0, v1])\n",
            "                                        T\u001b[35;01m.\u001b[39;00mwrites(B_shared_local[v0, v1])\n",
            "                                        B_shared_local[v0, v1] \u001b[35;01m=\u001b[39;00m B_shared[v0, v1]\n",
            "                                \u001b[32;01mfor\u001b[39;00m i_1_1, j_1_1, k_1_1 \u001b[32;01min\u001b[39;00m T\u001b[35;01m.\u001b[39;00mgrid(\u001b[92m4\u001b[39m, \u001b[92m4\u001b[39m, \u001b[92m1\u001b[39m):\n",
            "                                    \u001b[32;01mwith\u001b[39;00m T\u001b[35;01m.\u001b[39;00mblock(\u001b[33m\"\u001b[39m\u001b[33mgemm\u001b[39m\u001b[33m\"\u001b[39m):\n",
            "                                        vi \u001b[35;01m=\u001b[39;00m T\u001b[35;01m.\u001b[39;00maxis\u001b[35;01m.\u001b[39;00mspatial(\u001b[92m2048\u001b[39m, i_0 \u001b[35;01m*\u001b[39;00m \u001b[92m64\u001b[39m \u001b[35;01m+\u001b[39;00m i_1_0 \u001b[35;01m*\u001b[39;00m \u001b[92m4\u001b[39m \u001b[35;01m+\u001b[39;00m i_1_1)\n",
            "                                        vj \u001b[35;01m=\u001b[39;00m T\u001b[35;01m.\u001b[39;00maxis\u001b[35;01m.\u001b[39;00mspatial(\u001b[92m2048\u001b[39m, j_0 \u001b[35;01m*\u001b[39;00m \u001b[92m64\u001b[39m \u001b[35;01m+\u001b[39;00m j_1_0 \u001b[35;01m*\u001b[39;00m \u001b[92m4\u001b[39m \u001b[35;01m+\u001b[39;00m j_1_1)\n",
            "                                        vk \u001b[35;01m=\u001b[39;00m T\u001b[35;01m.\u001b[39;00maxis\u001b[35;01m.\u001b[39;00mreduce(\u001b[92m2048\u001b[39m, k_0 \u001b[35;01m*\u001b[39;00m \u001b[92m64\u001b[39m \u001b[35;01m+\u001b[39;00m k_1_0 \u001b[35;01m+\u001b[39;00m k_1_1)\n",
            "                                        T\u001b[35;01m.\u001b[39;00mreads(A_shared_local[vi, vk], B_shared_local[vk, vj])\n",
            "                                        T\u001b[35;01m.\u001b[39;00mwrites(matmul_local[vi, vj])\n",
            "                                        \u001b[32;01mwith\u001b[39;00m T\u001b[35;01m.\u001b[39;00minit():\n",
            "                                            matmul_local[vi, vj] \u001b[35;01m=\u001b[39;00m T\u001b[35;01m.\u001b[39;00mfloat32(\u001b[92m0.0\u001b[39m)\n",
            "                                        matmul_local[vi, vj] \u001b[35;01m=\u001b[39;00m matmul_local[vi, vj] \u001b[35;01m+\u001b[39;00m A_shared_local[vi, vk] \u001b[35;01m*\u001b[39;00m B_shared_local[vk, vj]\n",
            "                        \u001b[32;01mfor\u001b[39;00m ax0, ax1 \u001b[32;01min\u001b[39;00m T\u001b[35;01m.\u001b[39;00mgrid(\u001b[92m4\u001b[39m, \u001b[92m64\u001b[39m):\n",
            "                            \u001b[32;01mwith\u001b[39;00m T\u001b[35;01m.\u001b[39;00mblock(\u001b[33m\"\u001b[39m\u001b[33mmatmul_local\u001b[39m\u001b[33m\"\u001b[39m):\n",
            "                                v0 \u001b[35;01m=\u001b[39;00m T\u001b[35;01m.\u001b[39;00maxis\u001b[35;01m.\u001b[39;00mspatial(\u001b[92m2048\u001b[39m, i_0 \u001b[35;01m*\u001b[39;00m \u001b[92m64\u001b[39m \u001b[35;01m+\u001b[39;00m i_1_0 \u001b[35;01m*\u001b[39;00m \u001b[92m4\u001b[39m \u001b[35;01m+\u001b[39;00m ax0)\n",
            "                                v1 \u001b[35;01m=\u001b[39;00m T\u001b[35;01m.\u001b[39;00maxis\u001b[35;01m.\u001b[39;00mspatial(\u001b[92m2048\u001b[39m, j_0 \u001b[35;01m*\u001b[39;00m \u001b[92m64\u001b[39m \u001b[35;01m+\u001b[39;00m ax1)\n",
            "                                T\u001b[35;01m.\u001b[39;00mreads(matmul_local[v0, v1])\n",
            "                                T\u001b[35;01m.\u001b[39;00mwrites(matmul[v0, v1])\n",
            "                                matmul[v0, v1] \u001b[35;01m=\u001b[39;00m matmul_local[v0, v1]\n",
            "        \u001b[32;01mfor\u001b[39;00m i, j \u001b[32;01min\u001b[39;00m T\u001b[35;01m.\u001b[39;00mgrid(\u001b[92m2048\u001b[39m, \u001b[92m2048\u001b[39m):\n",
            "            \u001b[32;01mwith\u001b[39;00m T\u001b[35;01m.\u001b[39;00mblock(\u001b[33m\"\u001b[39m\u001b[33mrelu\u001b[39m\u001b[33m\"\u001b[39m):\n",
            "                vi, vj \u001b[35;01m=\u001b[39;00m T\u001b[35;01m.\u001b[39;00maxis\u001b[35;01m.\u001b[39;00mremap(\u001b[33m\"\u001b[39m\u001b[33mSS\u001b[39m\u001b[33m\"\u001b[39m, [i, j])\n",
            "                T\u001b[35;01m.\u001b[39;00mreads(matmul[vi, vj])\n",
            "                T\u001b[35;01m.\u001b[39;00mwrites(relu[vi, vj])\n",
            "                relu[vi, vj] \u001b[35;01m=\u001b[39;00m T\u001b[35;01m.\u001b[39;00mmax(matmul[vi, vj], T\u001b[35;01m.\u001b[39;00mfloat32(\u001b[92m0.0\u001b[39m))\n",
            "        \u001b[32;01mfor\u001b[39;00m i, j \u001b[32;01min\u001b[39;00m T\u001b[35;01m.\u001b[39;00mgrid(\u001b[92m2048\u001b[39m, \u001b[92m2048\u001b[39m):\n",
            "            \u001b[32;01mwith\u001b[39;00m T\u001b[35;01m.\u001b[39;00mblock(\u001b[33m\"\u001b[39m\u001b[33madd\u001b[39m\u001b[33m\"\u001b[39m):\n",
            "                vi, vj \u001b[35;01m=\u001b[39;00m T\u001b[35;01m.\u001b[39;00maxis\u001b[35;01m.\u001b[39;00mremap(\u001b[33m\"\u001b[39m\u001b[33mSS\u001b[39m\u001b[33m\"\u001b[39m, [i, j])\n",
            "                T\u001b[35;01m.\u001b[39;00mreads(relu[vi, vj], C[vi, vj])\n",
            "                T\u001b[35;01m.\u001b[39;00mwrites(D[vi, vj])\n",
            "                D[vi, vj] \u001b[35;01m=\u001b[39;00m relu[vi, vj] \u001b[35;01m+\u001b[39;00m C[vi, vj]\n",
            "\n",
            "\u001b[90;03m# from tvm import tir\u001b[39;00m\n",
            "\u001b[32;01mdef\u001b[39;00m \u001b[34;01mapply_trace\u001b[39;00m(sch: tir\u001b[35;01m.\u001b[39;00mSchedule) \u001b[35;01m-\u001b[39;00m\u001b[35;01m>\u001b[39;00m \u001b[32;01mNone\u001b[39;00m:\n",
            "  b0 \u001b[35;01m=\u001b[39;00m sch\u001b[35;01m.\u001b[39;00mget_block(name\u001b[35;01m=\u001b[39;00m\u001b[33m\"\u001b[39m\u001b[33mgemm\u001b[39m\u001b[33m\"\u001b[39m, func_name\u001b[35;01m=\u001b[39;00m\u001b[33m\"\u001b[39m\u001b[33mmain\u001b[39m\u001b[33m\"\u001b[39m)\n",
            "  l1, l2, l3 \u001b[35;01m=\u001b[39;00m sch\u001b[35;01m.\u001b[39;00mget_loops(block\u001b[35;01m=\u001b[39;00mb0)\n",
            "  l4, l5 \u001b[35;01m=\u001b[39;00m sch\u001b[35;01m.\u001b[39;00msplit(loop\u001b[35;01m=\u001b[39;00ml1, factors\u001b[35;01m=\u001b[39;00m[\u001b[32;01mNone\u001b[39;00m, \u001b[92m64\u001b[39m], preserve_unit_iters\u001b[35;01m=\u001b[39;00m\u001b[32;01mTrue\u001b[39;00m, disable_predication\u001b[35;01m=\u001b[39;00m\u001b[32;01mFalse\u001b[39;00m)\n",
            "  l6, l7 \u001b[35;01m=\u001b[39;00m sch\u001b[35;01m.\u001b[39;00msplit(loop\u001b[35;01m=\u001b[39;00ml2, factors\u001b[35;01m=\u001b[39;00m[\u001b[32;01mNone\u001b[39;00m, \u001b[92m64\u001b[39m], preserve_unit_iters\u001b[35;01m=\u001b[39;00m\u001b[32;01mTrue\u001b[39;00m, disable_predication\u001b[35;01m=\u001b[39;00m\u001b[32;01mFalse\u001b[39;00m)\n",
            "  l8, l9 \u001b[35;01m=\u001b[39;00m sch\u001b[35;01m.\u001b[39;00msplit(loop\u001b[35;01m=\u001b[39;00ml3, factors\u001b[35;01m=\u001b[39;00m[\u001b[32;01mNone\u001b[39;00m, \u001b[92m64\u001b[39m], preserve_unit_iters\u001b[35;01m=\u001b[39;00m\u001b[32;01mTrue\u001b[39;00m, disable_predication\u001b[35;01m=\u001b[39;00m\u001b[32;01mFalse\u001b[39;00m)\n",
            "  sch\u001b[35;01m.\u001b[39;00mreorder(l4, l6, l8, l5, l7, l9)\n",
            "  sch\u001b[35;01m.\u001b[39;00mbind(loop\u001b[35;01m=\u001b[39;00ml4, thread_axis\u001b[35;01m=\u001b[39;00m\u001b[33m\"\u001b[39m\u001b[33mblockIdx.x\u001b[39m\u001b[33m\"\u001b[39m)\n",
            "  sch\u001b[35;01m.\u001b[39;00mbind(loop\u001b[35;01m=\u001b[39;00ml6, thread_axis\u001b[35;01m=\u001b[39;00m\u001b[33m\"\u001b[39m\u001b[33mblockIdx.y\u001b[39m\u001b[33m\"\u001b[39m)\n",
            "  b10 \u001b[35;01m=\u001b[39;00m sch\u001b[35;01m.\u001b[39;00mcache_read(block\u001b[35;01m=\u001b[39;00mb0, read_buffer_index\u001b[35;01m=\u001b[39;00m\u001b[92m0\u001b[39m, storage_scope\u001b[35;01m=\u001b[39;00m\u001b[33m\"\u001b[39m\u001b[33mshared\u001b[39m\u001b[33m\"\u001b[39m)\n",
            "  sch\u001b[35;01m.\u001b[39;00mcompute_at(block\u001b[35;01m=\u001b[39;00mb10, loop\u001b[35;01m=\u001b[39;00ml8, preserve_unit_loops\u001b[35;01m=\u001b[39;00m\u001b[32;01mFalse\u001b[39;00m, index\u001b[35;01m=\u001b[39;00m\u001b[35;01m-\u001b[39;00m\u001b[92m1\u001b[39m)\n",
            "  b11 \u001b[35;01m=\u001b[39;00m sch\u001b[35;01m.\u001b[39;00mcache_read(block\u001b[35;01m=\u001b[39;00mb0, read_buffer_index\u001b[35;01m=\u001b[39;00m\u001b[92m1\u001b[39m, storage_scope\u001b[35;01m=\u001b[39;00m\u001b[33m\"\u001b[39m\u001b[33mshared\u001b[39m\u001b[33m\"\u001b[39m)\n",
            "  sch\u001b[35;01m.\u001b[39;00mcompute_at(block\u001b[35;01m=\u001b[39;00mb11, loop\u001b[35;01m=\u001b[39;00ml8, preserve_unit_loops\u001b[35;01m=\u001b[39;00m\u001b[32;01mFalse\u001b[39;00m, index\u001b[35;01m=\u001b[39;00m\u001b[35;01m-\u001b[39;00m\u001b[92m1\u001b[39m)\n",
            "  b12 \u001b[35;01m=\u001b[39;00m sch\u001b[35;01m.\u001b[39;00mget_block(name\u001b[35;01m=\u001b[39;00m\u001b[33m\"\u001b[39m\u001b[33mgemm\u001b[39m\u001b[33m\"\u001b[39m, func_name\u001b[35;01m=\u001b[39;00m\u001b[33m\"\u001b[39m\u001b[33mmain\u001b[39m\u001b[33m\"\u001b[39m)\n",
            "  l13, l14, l15, l16, l17, l18 \u001b[35;01m=\u001b[39;00m sch\u001b[35;01m.\u001b[39;00mget_loops(block\u001b[35;01m=\u001b[39;00mb12)\n",
            "  l19, l20 \u001b[35;01m=\u001b[39;00m sch\u001b[35;01m.\u001b[39;00msplit(loop\u001b[35;01m=\u001b[39;00ml16, factors\u001b[35;01m=\u001b[39;00m[\u001b[32;01mNone\u001b[39;00m, \u001b[92m4\u001b[39m], preserve_unit_iters\u001b[35;01m=\u001b[39;00m\u001b[32;01mTrue\u001b[39;00m, disable_predication\u001b[35;01m=\u001b[39;00m\u001b[32;01mFalse\u001b[39;00m)\n",
            "  l21, l22 \u001b[35;01m=\u001b[39;00m sch\u001b[35;01m.\u001b[39;00msplit(loop\u001b[35;01m=\u001b[39;00ml17, factors\u001b[35;01m=\u001b[39;00m[\u001b[32;01mNone\u001b[39;00m, \u001b[92m4\u001b[39m], preserve_unit_iters\u001b[35;01m=\u001b[39;00m\u001b[32;01mTrue\u001b[39;00m, disable_predication\u001b[35;01m=\u001b[39;00m\u001b[32;01mFalse\u001b[39;00m)\n",
            "  l23, l24 \u001b[35;01m=\u001b[39;00m sch\u001b[35;01m.\u001b[39;00msplit(loop\u001b[35;01m=\u001b[39;00ml18, factors\u001b[35;01m=\u001b[39;00m[\u001b[32;01mNone\u001b[39;00m, \u001b[92m1\u001b[39m], preserve_unit_iters\u001b[35;01m=\u001b[39;00m\u001b[32;01mTrue\u001b[39;00m, disable_predication\u001b[35;01m=\u001b[39;00m\u001b[32;01mFalse\u001b[39;00m)\n",
            "  sch\u001b[35;01m.\u001b[39;00mreorder(l19, l21, l23, l20, l22, l24)\n",
            "  sch\u001b[35;01m.\u001b[39;00mbind(loop\u001b[35;01m=\u001b[39;00ml19, thread_axis\u001b[35;01m=\u001b[39;00m\u001b[33m\"\u001b[39m\u001b[33mthreadIdx.x\u001b[39m\u001b[33m\"\u001b[39m)\n",
            "  sch\u001b[35;01m.\u001b[39;00mbind(loop\u001b[35;01m=\u001b[39;00ml21, thread_axis\u001b[35;01m=\u001b[39;00m\u001b[33m\"\u001b[39m\u001b[33mthreadIdx.y\u001b[39m\u001b[33m\"\u001b[39m)\n",
            "  b25 \u001b[35;01m=\u001b[39;00m sch\u001b[35;01m.\u001b[39;00mcache_read(block\u001b[35;01m=\u001b[39;00mb12, read_buffer_index\u001b[35;01m=\u001b[39;00m\u001b[92m0\u001b[39m, storage_scope\u001b[35;01m=\u001b[39;00m\u001b[33m\"\u001b[39m\u001b[33mlocal\u001b[39m\u001b[33m\"\u001b[39m)\n",
            "  sch\u001b[35;01m.\u001b[39;00mcompute_at(block\u001b[35;01m=\u001b[39;00mb25, loop\u001b[35;01m=\u001b[39;00ml23, preserve_unit_loops\u001b[35;01m=\u001b[39;00m\u001b[32;01mFalse\u001b[39;00m, index\u001b[35;01m=\u001b[39;00m\u001b[35;01m-\u001b[39;00m\u001b[92m1\u001b[39m)\n",
            "  b26 \u001b[35;01m=\u001b[39;00m sch\u001b[35;01m.\u001b[39;00mcache_read(block\u001b[35;01m=\u001b[39;00mb12, read_buffer_index\u001b[35;01m=\u001b[39;00m\u001b[92m1\u001b[39m, storage_scope\u001b[35;01m=\u001b[39;00m\u001b[33m\"\u001b[39m\u001b[33mlocal\u001b[39m\u001b[33m\"\u001b[39m)\n",
            "  sch\u001b[35;01m.\u001b[39;00mcompute_at(block\u001b[35;01m=\u001b[39;00mb26, loop\u001b[35;01m=\u001b[39;00ml23, preserve_unit_loops\u001b[35;01m=\u001b[39;00m\u001b[32;01mFalse\u001b[39;00m, index\u001b[35;01m=\u001b[39;00m\u001b[35;01m-\u001b[39;00m\u001b[92m1\u001b[39m)\n",
            "  l27, l28, l29, l30, l31 \u001b[35;01m=\u001b[39;00m sch\u001b[35;01m.\u001b[39;00mget_loops(block\u001b[35;01m=\u001b[39;00mb10)\n",
            "  l32 \u001b[35;01m=\u001b[39;00m sch\u001b[35;01m.\u001b[39;00mfuse(l30, l31, preserve_unit_iters\u001b[35;01m=\u001b[39;00m\u001b[32;01mTrue\u001b[39;00m)\n",
            "  l33, l34, l35 \u001b[35;01m=\u001b[39;00m sch\u001b[35;01m.\u001b[39;00msplit(loop\u001b[35;01m=\u001b[39;00ml32, factors\u001b[35;01m=\u001b[39;00m[\u001b[32;01mNone\u001b[39;00m, \u001b[92m16\u001b[39m, \u001b[92m16\u001b[39m], preserve_unit_iters\u001b[35;01m=\u001b[39;00m\u001b[32;01mTrue\u001b[39;00m, disable_predication\u001b[35;01m=\u001b[39;00m\u001b[32;01mFalse\u001b[39;00m)\n",
            "  sch\u001b[35;01m.\u001b[39;00mbind(loop\u001b[35;01m=\u001b[39;00ml34, thread_axis\u001b[35;01m=\u001b[39;00m\u001b[33m\"\u001b[39m\u001b[33mthreadIdx.y\u001b[39m\u001b[33m\"\u001b[39m)\n",
            "  sch\u001b[35;01m.\u001b[39;00mbind(loop\u001b[35;01m=\u001b[39;00ml35, thread_axis\u001b[35;01m=\u001b[39;00m\u001b[33m\"\u001b[39m\u001b[33mthreadIdx.x\u001b[39m\u001b[33m\"\u001b[39m)\n",
            "  l36, l37, l38, l39, l40 \u001b[35;01m=\u001b[39;00m sch\u001b[35;01m.\u001b[39;00mget_loops(block\u001b[35;01m=\u001b[39;00mb11)\n",
            "  l41 \u001b[35;01m=\u001b[39;00m sch\u001b[35;01m.\u001b[39;00mfuse(l39, l40, preserve_unit_iters\u001b[35;01m=\u001b[39;00m\u001b[32;01mTrue\u001b[39;00m)\n",
            "  l42, l43, l44 \u001b[35;01m=\u001b[39;00m sch\u001b[35;01m.\u001b[39;00msplit(loop\u001b[35;01m=\u001b[39;00ml41, factors\u001b[35;01m=\u001b[39;00m[\u001b[32;01mNone\u001b[39;00m, \u001b[92m16\u001b[39m, \u001b[92m16\u001b[39m], preserve_unit_iters\u001b[35;01m=\u001b[39;00m\u001b[32;01mTrue\u001b[39;00m, disable_predication\u001b[35;01m=\u001b[39;00m\u001b[32;01mFalse\u001b[39;00m)\n",
            "  sch\u001b[35;01m.\u001b[39;00mbind(loop\u001b[35;01m=\u001b[39;00ml43, thread_axis\u001b[35;01m=\u001b[39;00m\u001b[33m\"\u001b[39m\u001b[33mthreadIdx.y\u001b[39m\u001b[33m\"\u001b[39m)\n",
            "  sch\u001b[35;01m.\u001b[39;00mbind(loop\u001b[35;01m=\u001b[39;00ml44, thread_axis\u001b[35;01m=\u001b[39;00m\u001b[33m\"\u001b[39m\u001b[33mthreadIdx.x\u001b[39m\u001b[33m\"\u001b[39m)\n",
            "  b45 \u001b[35;01m=\u001b[39;00m sch\u001b[35;01m.\u001b[39;00mget_block(name\u001b[35;01m=\u001b[39;00m\u001b[33m\"\u001b[39m\u001b[33mgemm\u001b[39m\u001b[33m\"\u001b[39m, func_name\u001b[35;01m=\u001b[39;00m\u001b[33m\"\u001b[39m\u001b[33mmain\u001b[39m\u001b[33m\"\u001b[39m)\n",
            "  l46, l47, l48, l49, l50, l51, l52, l53, l54 \u001b[35;01m=\u001b[39;00m sch\u001b[35;01m.\u001b[39;00mget_loops(block\u001b[35;01m=\u001b[39;00mb45)\n",
            "  b55 \u001b[35;01m=\u001b[39;00m sch\u001b[35;01m.\u001b[39;00mcache_write(block\u001b[35;01m=\u001b[39;00mb45, write_buffer_index\u001b[35;01m=\u001b[39;00m\u001b[92m0\u001b[39m, storage_scope\u001b[35;01m=\u001b[39;00m\u001b[33m\"\u001b[39m\u001b[33mlocal\u001b[39m\u001b[33m\"\u001b[39m)\n",
            "  sch\u001b[35;01m.\u001b[39;00mreverse_compute_at(block\u001b[35;01m=\u001b[39;00mb55, loop\u001b[35;01m=\u001b[39;00ml49, preserve_unit_loops\u001b[35;01m=\u001b[39;00m\u001b[32;01mFalse\u001b[39;00m, index\u001b[35;01m=\u001b[39;00m\u001b[35;01m-\u001b[39;00m\u001b[92m1\u001b[39m)\n",
            "\n",
            "\u001b[90;03m# from tvm.script import ir as I\u001b[39;00m\n",
            "\u001b[90;03m# from tvm.script import tir as T\u001b[39;00m\n",
            "\n",
            "\u001b[95;03m@I\u001b[39;00m\u001b[35;01m.\u001b[39;00mir_module\n",
            "\u001b[32;01mclass\u001b[39;00m \u001b[34;01mModule\u001b[39;00m:\n",
            "    \u001b[95;03m@T\u001b[39;00m\u001b[35;01m.\u001b[39;00mprim_func\n",
            "    \u001b[32;01mdef\u001b[39;00m \u001b[34;01mmain\u001b[39;00m(A: T\u001b[35;01m.\u001b[39;00mBuffer((\u001b[92m2048\u001b[39m, \u001b[92m2048\u001b[39m), \u001b[33m\"\u001b[39m\u001b[33mfloat32\u001b[39m\u001b[33m\"\u001b[39m), B: T\u001b[35;01m.\u001b[39;00mBuffer((\u001b[92m2048\u001b[39m, \u001b[92m2048\u001b[39m), \u001b[33m\"\u001b[39m\u001b[33mfloat32\u001b[39m\u001b[33m\"\u001b[39m), C: T\u001b[35;01m.\u001b[39;00mBuffer((\u001b[92m2048\u001b[39m, \u001b[92m2048\u001b[39m), \u001b[33m\"\u001b[39m\u001b[33mfloat32\u001b[39m\u001b[33m\"\u001b[39m), D: T\u001b[35;01m.\u001b[39;00mBuffer((\u001b[92m2048\u001b[39m, \u001b[92m2048\u001b[39m), \u001b[33m\"\u001b[39m\u001b[33mfloat32\u001b[39m\u001b[33m\"\u001b[39m)):\n",
            "        T\u001b[35;01m.\u001b[39;00mfunc_attr({\u001b[33m\"\u001b[39m\u001b[33mglobal_symbol\u001b[39m\u001b[33m\"\u001b[39m: \u001b[33m\"\u001b[39m\u001b[33mgemm_relu_add\u001b[39m\u001b[33m\"\u001b[39m})\n",
            "        \u001b[90;03m# with T.block(\"root\"):\u001b[39;00m\n",
            "        matmul \u001b[35;01m=\u001b[39;00m T\u001b[35;01m.\u001b[39;00malloc_buffer((\u001b[92m2048\u001b[39m, \u001b[92m2048\u001b[39m))\n",
            "        relu \u001b[35;01m=\u001b[39;00m T\u001b[35;01m.\u001b[39;00malloc_buffer((\u001b[92m2048\u001b[39m, \u001b[92m2048\u001b[39m))\n",
            "        A_shared \u001b[35;01m=\u001b[39;00m T\u001b[35;01m.\u001b[39;00malloc_buffer((\u001b[92m2048\u001b[39m, \u001b[92m2048\u001b[39m), scope\u001b[35;01m=\u001b[39;00m\u001b[33m\"\u001b[39m\u001b[33mshared\u001b[39m\u001b[33m\"\u001b[39m)\n",
            "        B_shared \u001b[35;01m=\u001b[39;00m T\u001b[35;01m.\u001b[39;00malloc_buffer((\u001b[92m2048\u001b[39m, \u001b[92m2048\u001b[39m), scope\u001b[35;01m=\u001b[39;00m\u001b[33m\"\u001b[39m\u001b[33mshared\u001b[39m\u001b[33m\"\u001b[39m)\n",
            "        A_shared_local \u001b[35;01m=\u001b[39;00m T\u001b[35;01m.\u001b[39;00malloc_buffer((\u001b[92m2048\u001b[39m, \u001b[92m2048\u001b[39m), scope\u001b[35;01m=\u001b[39;00m\u001b[33m\"\u001b[39m\u001b[33mlocal\u001b[39m\u001b[33m\"\u001b[39m)\n",
            "        B_shared_local \u001b[35;01m=\u001b[39;00m T\u001b[35;01m.\u001b[39;00malloc_buffer((\u001b[92m2048\u001b[39m, \u001b[92m2048\u001b[39m), scope\u001b[35;01m=\u001b[39;00m\u001b[33m\"\u001b[39m\u001b[33mlocal\u001b[39m\u001b[33m\"\u001b[39m)\n",
            "        matmul_local \u001b[35;01m=\u001b[39;00m T\u001b[35;01m.\u001b[39;00malloc_buffer((\u001b[92m2048\u001b[39m, \u001b[92m2048\u001b[39m), scope\u001b[35;01m=\u001b[39;00m\u001b[33m\"\u001b[39m\u001b[33mlocal\u001b[39m\u001b[33m\"\u001b[39m)\n",
            "        \u001b[32;01mfor\u001b[39;00m i_0 \u001b[32;01min\u001b[39;00m T\u001b[35;01m.\u001b[39;00mthread_binding(\u001b[92m32\u001b[39m, thread\u001b[35;01m=\u001b[39;00m\u001b[33m\"\u001b[39m\u001b[33mblockIdx.x\u001b[39m\u001b[33m\"\u001b[39m):\n",
            "            \u001b[32;01mfor\u001b[39;00m j_0 \u001b[32;01min\u001b[39;00m T\u001b[35;01m.\u001b[39;00mthread_binding(\u001b[92m32\u001b[39m, thread\u001b[35;01m=\u001b[39;00m\u001b[33m\"\u001b[39m\u001b[33mblockIdx.y\u001b[39m\u001b[33m\"\u001b[39m):\n",
            "                \u001b[32;01mfor\u001b[39;00m k_0 \u001b[32;01min\u001b[39;00m range(\u001b[92m32\u001b[39m):\n",
            "                    \u001b[32;01mfor\u001b[39;00m ax0_ax1_fused_0 \u001b[32;01min\u001b[39;00m range(\u001b[92m16\u001b[39m):\n",
            "                        \u001b[32;01mfor\u001b[39;00m ax0_ax1_fused_1 \u001b[32;01min\u001b[39;00m T\u001b[35;01m.\u001b[39;00mthread_binding(\u001b[92m16\u001b[39m, thread\u001b[35;01m=\u001b[39;00m\u001b[33m\"\u001b[39m\u001b[33mthreadIdx.y\u001b[39m\u001b[33m\"\u001b[39m):\n",
            "                            \u001b[32;01mfor\u001b[39;00m ax0_ax1_fused_2 \u001b[32;01min\u001b[39;00m T\u001b[35;01m.\u001b[39;00mthread_binding(\u001b[92m16\u001b[39m, thread\u001b[35;01m=\u001b[39;00m\u001b[33m\"\u001b[39m\u001b[33mthreadIdx.x\u001b[39m\u001b[33m\"\u001b[39m):\n",
            "                                \u001b[32;01mwith\u001b[39;00m T\u001b[35;01m.\u001b[39;00mblock(\u001b[33m\"\u001b[39m\u001b[33mA_shared\u001b[39m\u001b[33m\"\u001b[39m):\n",
            "                                    v0 \u001b[35;01m=\u001b[39;00m T\u001b[35;01m.\u001b[39;00maxis\u001b[35;01m.\u001b[39;00mspatial(\u001b[92m2048\u001b[39m, i_0 \u001b[35;01m*\u001b[39;00m \u001b[92m64\u001b[39m \u001b[35;01m+\u001b[39;00m (ax0_ax1_fused_0 \u001b[35;01m*\u001b[39;00m \u001b[92m256\u001b[39m \u001b[35;01m+\u001b[39;00m ax0_ax1_fused_1 \u001b[35;01m*\u001b[39;00m \u001b[92m16\u001b[39m \u001b[35;01m+\u001b[39;00m ax0_ax1_fused_2) \u001b[35;01m/\u001b[39;00m\u001b[35;01m/\u001b[39;00m \u001b[92m64\u001b[39m)\n",
            "                                    v1 \u001b[35;01m=\u001b[39;00m T\u001b[35;01m.\u001b[39;00maxis\u001b[35;01m.\u001b[39;00mspatial(\u001b[92m2048\u001b[39m, k_0 \u001b[35;01m*\u001b[39;00m \u001b[92m64\u001b[39m \u001b[35;01m+\u001b[39;00m (ax0_ax1_fused_0 \u001b[35;01m*\u001b[39;00m \u001b[92m256\u001b[39m \u001b[35;01m+\u001b[39;00m ax0_ax1_fused_1 \u001b[35;01m*\u001b[39;00m \u001b[92m16\u001b[39m \u001b[35;01m+\u001b[39;00m ax0_ax1_fused_2) \u001b[35;01m%\u001b[39;00m \u001b[92m64\u001b[39m)\n",
            "                                    T\u001b[35;01m.\u001b[39;00mreads(A[v0, v1])\n",
            "                                    T\u001b[35;01m.\u001b[39;00mwrites(A_shared[v0, v1])\n",
            "                                    A_shared[v0, v1] \u001b[35;01m=\u001b[39;00m A[v0, v1]\n",
            "                    \u001b[32;01mfor\u001b[39;00m ax0_ax1_fused_0 \u001b[32;01min\u001b[39;00m range(\u001b[92m16\u001b[39m):\n",
            "                        \u001b[32;01mfor\u001b[39;00m ax0_ax1_fused_1 \u001b[32;01min\u001b[39;00m T\u001b[35;01m.\u001b[39;00mthread_binding(\u001b[92m16\u001b[39m, thread\u001b[35;01m=\u001b[39;00m\u001b[33m\"\u001b[39m\u001b[33mthreadIdx.y\u001b[39m\u001b[33m\"\u001b[39m):\n",
            "                            \u001b[32;01mfor\u001b[39;00m ax0_ax1_fused_2 \u001b[32;01min\u001b[39;00m T\u001b[35;01m.\u001b[39;00mthread_binding(\u001b[92m16\u001b[39m, thread\u001b[35;01m=\u001b[39;00m\u001b[33m\"\u001b[39m\u001b[33mthreadIdx.x\u001b[39m\u001b[33m\"\u001b[39m):\n",
            "                                \u001b[32;01mwith\u001b[39;00m T\u001b[35;01m.\u001b[39;00mblock(\u001b[33m\"\u001b[39m\u001b[33mB_shared\u001b[39m\u001b[33m\"\u001b[39m):\n",
            "                                    v0 \u001b[35;01m=\u001b[39;00m T\u001b[35;01m.\u001b[39;00maxis\u001b[35;01m.\u001b[39;00mspatial(\u001b[92m2048\u001b[39m, k_0 \u001b[35;01m*\u001b[39;00m \u001b[92m64\u001b[39m \u001b[35;01m+\u001b[39;00m (ax0_ax1_fused_0 \u001b[35;01m*\u001b[39;00m \u001b[92m256\u001b[39m \u001b[35;01m+\u001b[39;00m ax0_ax1_fused_1 \u001b[35;01m*\u001b[39;00m \u001b[92m16\u001b[39m \u001b[35;01m+\u001b[39;00m ax0_ax1_fused_2) \u001b[35;01m/\u001b[39;00m\u001b[35;01m/\u001b[39;00m \u001b[92m64\u001b[39m)\n",
            "                                    v1 \u001b[35;01m=\u001b[39;00m T\u001b[35;01m.\u001b[39;00maxis\u001b[35;01m.\u001b[39;00mspatial(\u001b[92m2048\u001b[39m, j_0 \u001b[35;01m*\u001b[39;00m \u001b[92m64\u001b[39m \u001b[35;01m+\u001b[39;00m (ax0_ax1_fused_0 \u001b[35;01m*\u001b[39;00m \u001b[92m256\u001b[39m \u001b[35;01m+\u001b[39;00m ax0_ax1_fused_1 \u001b[35;01m*\u001b[39;00m \u001b[92m16\u001b[39m \u001b[35;01m+\u001b[39;00m ax0_ax1_fused_2) \u001b[35;01m%\u001b[39;00m \u001b[92m64\u001b[39m)\n",
            "                                    T\u001b[35;01m.\u001b[39;00mreads(B[v0, v1])\n",
            "                                    T\u001b[35;01m.\u001b[39;00mwrites(B_shared[v0, v1])\n",
            "                                    B_shared[v0, v1] \u001b[35;01m=\u001b[39;00m B[v0, v1]\n",
            "                    \u001b[32;01mfor\u001b[39;00m i_1_0 \u001b[32;01min\u001b[39;00m T\u001b[35;01m.\u001b[39;00mthread_binding(\u001b[92m16\u001b[39m, thread\u001b[35;01m=\u001b[39;00m\u001b[33m\"\u001b[39m\u001b[33mthreadIdx.x\u001b[39m\u001b[33m\"\u001b[39m):\n",
            "                        \u001b[32;01mfor\u001b[39;00m j_1_0 \u001b[32;01min\u001b[39;00m T\u001b[35;01m.\u001b[39;00mthread_binding(\u001b[92m16\u001b[39m, thread\u001b[35;01m=\u001b[39;00m\u001b[33m\"\u001b[39m\u001b[33mthreadIdx.y\u001b[39m\u001b[33m\"\u001b[39m):\n",
            "                            \u001b[32;01mfor\u001b[39;00m k_1_0 \u001b[32;01min\u001b[39;00m range(\u001b[92m64\u001b[39m):\n",
            "                                \u001b[32;01mfor\u001b[39;00m ax0 \u001b[32;01min\u001b[39;00m range(\u001b[92m4\u001b[39m):\n",
            "                                    \u001b[32;01mwith\u001b[39;00m T\u001b[35;01m.\u001b[39;00mblock(\u001b[33m\"\u001b[39m\u001b[33mA_shared_local\u001b[39m\u001b[33m\"\u001b[39m):\n",
            "                                        v0 \u001b[35;01m=\u001b[39;00m T\u001b[35;01m.\u001b[39;00maxis\u001b[35;01m.\u001b[39;00mspatial(\u001b[92m2048\u001b[39m, i_0 \u001b[35;01m*\u001b[39;00m \u001b[92m64\u001b[39m \u001b[35;01m+\u001b[39;00m i_1_0 \u001b[35;01m*\u001b[39;00m \u001b[92m4\u001b[39m \u001b[35;01m+\u001b[39;00m ax0)\n",
            "                                        v1 \u001b[35;01m=\u001b[39;00m T\u001b[35;01m.\u001b[39;00maxis\u001b[35;01m.\u001b[39;00mspatial(\u001b[92m2048\u001b[39m, k_0 \u001b[35;01m*\u001b[39;00m \u001b[92m64\u001b[39m \u001b[35;01m+\u001b[39;00m k_1_0)\n",
            "                                        T\u001b[35;01m.\u001b[39;00mreads(A_shared[v0, v1])\n",
            "                                        T\u001b[35;01m.\u001b[39;00mwrites(A_shared_local[v0, v1])\n",
            "                                        A_shared_local[v0, v1] \u001b[35;01m=\u001b[39;00m A_shared[v0, v1]\n",
            "                                \u001b[32;01mfor\u001b[39;00m ax0 \u001b[32;01min\u001b[39;00m range(\u001b[92m4\u001b[39m):\n",
            "                                    \u001b[32;01mwith\u001b[39;00m T\u001b[35;01m.\u001b[39;00mblock(\u001b[33m\"\u001b[39m\u001b[33mB_shared_local\u001b[39m\u001b[33m\"\u001b[39m):\n",
            "                                        v0 \u001b[35;01m=\u001b[39;00m T\u001b[35;01m.\u001b[39;00maxis\u001b[35;01m.\u001b[39;00mspatial(\u001b[92m2048\u001b[39m, k_0 \u001b[35;01m*\u001b[39;00m \u001b[92m64\u001b[39m \u001b[35;01m+\u001b[39;00m k_1_0)\n",
            "                                        v1 \u001b[35;01m=\u001b[39;00m T\u001b[35;01m.\u001b[39;00maxis\u001b[35;01m.\u001b[39;00mspatial(\u001b[92m2048\u001b[39m, j_0 \u001b[35;01m*\u001b[39;00m \u001b[92m64\u001b[39m \u001b[35;01m+\u001b[39;00m j_1_0 \u001b[35;01m*\u001b[39;00m \u001b[92m4\u001b[39m \u001b[35;01m+\u001b[39;00m ax0)\n",
            "                                        T\u001b[35;01m.\u001b[39;00mreads(B_shared[v0, v1])\n",
            "                                        T\u001b[35;01m.\u001b[39;00mwrites(B_shared_local[v0, v1])\n",
            "                                        B_shared_local[v0, v1] \u001b[35;01m=\u001b[39;00m B_shared[v0, v1]\n",
            "                                \u001b[32;01mfor\u001b[39;00m i_1_1, j_1_1, k_1_1 \u001b[32;01min\u001b[39;00m T\u001b[35;01m.\u001b[39;00mgrid(\u001b[92m4\u001b[39m, \u001b[92m4\u001b[39m, \u001b[92m1\u001b[39m):\n",
            "                                    \u001b[32;01mwith\u001b[39;00m T\u001b[35;01m.\u001b[39;00mblock(\u001b[33m\"\u001b[39m\u001b[33mgemm\u001b[39m\u001b[33m\"\u001b[39m):\n",
            "                                        vi \u001b[35;01m=\u001b[39;00m T\u001b[35;01m.\u001b[39;00maxis\u001b[35;01m.\u001b[39;00mspatial(\u001b[92m2048\u001b[39m, i_0 \u001b[35;01m*\u001b[39;00m \u001b[92m64\u001b[39m \u001b[35;01m+\u001b[39;00m i_1_0 \u001b[35;01m*\u001b[39;00m \u001b[92m4\u001b[39m \u001b[35;01m+\u001b[39;00m i_1_1)\n",
            "                                        vj \u001b[35;01m=\u001b[39;00m T\u001b[35;01m.\u001b[39;00maxis\u001b[35;01m.\u001b[39;00mspatial(\u001b[92m2048\u001b[39m, j_0 \u001b[35;01m*\u001b[39;00m \u001b[92m64\u001b[39m \u001b[35;01m+\u001b[39;00m j_1_0 \u001b[35;01m*\u001b[39;00m \u001b[92m4\u001b[39m \u001b[35;01m+\u001b[39;00m j_1_1)\n",
            "                                        vk \u001b[35;01m=\u001b[39;00m T\u001b[35;01m.\u001b[39;00maxis\u001b[35;01m.\u001b[39;00mreduce(\u001b[92m2048\u001b[39m, k_0 \u001b[35;01m*\u001b[39;00m \u001b[92m64\u001b[39m \u001b[35;01m+\u001b[39;00m k_1_0 \u001b[35;01m+\u001b[39;00m k_1_1)\n",
            "                                        T\u001b[35;01m.\u001b[39;00mreads(A_shared_local[vi, vk], B_shared_local[vk, vj])\n",
            "                                        T\u001b[35;01m.\u001b[39;00mwrites(matmul_local[vi, vj])\n",
            "                                        \u001b[32;01mwith\u001b[39;00m T\u001b[35;01m.\u001b[39;00minit():\n",
            "                                            matmul_local[vi, vj] \u001b[35;01m=\u001b[39;00m T\u001b[35;01m.\u001b[39;00mfloat32(\u001b[92m0.0\u001b[39m)\n",
            "                                        matmul_local[vi, vj] \u001b[35;01m=\u001b[39;00m matmul_local[vi, vj] \u001b[35;01m+\u001b[39;00m A_shared_local[vi, vk] \u001b[35;01m*\u001b[39;00m B_shared_local[vk, vj]\n",
            "                        \u001b[32;01mfor\u001b[39;00m ax0, ax1 \u001b[32;01min\u001b[39;00m T\u001b[35;01m.\u001b[39;00mgrid(\u001b[92m4\u001b[39m, \u001b[92m64\u001b[39m):\n",
            "                            \u001b[32;01mwith\u001b[39;00m T\u001b[35;01m.\u001b[39;00mblock(\u001b[33m\"\u001b[39m\u001b[33mmatmul_local\u001b[39m\u001b[33m\"\u001b[39m):\n",
            "                                v0 \u001b[35;01m=\u001b[39;00m T\u001b[35;01m.\u001b[39;00maxis\u001b[35;01m.\u001b[39;00mspatial(\u001b[92m2048\u001b[39m, i_0 \u001b[35;01m*\u001b[39;00m \u001b[92m64\u001b[39m \u001b[35;01m+\u001b[39;00m i_1_0 \u001b[35;01m*\u001b[39;00m \u001b[92m4\u001b[39m \u001b[35;01m+\u001b[39;00m ax0)\n",
            "                                v1 \u001b[35;01m=\u001b[39;00m T\u001b[35;01m.\u001b[39;00maxis\u001b[35;01m.\u001b[39;00mspatial(\u001b[92m2048\u001b[39m, j_0 \u001b[35;01m*\u001b[39;00m \u001b[92m64\u001b[39m \u001b[35;01m+\u001b[39;00m ax1)\n",
            "                                T\u001b[35;01m.\u001b[39;00mreads(matmul_local[v0, v1])\n",
            "                                T\u001b[35;01m.\u001b[39;00mwrites(matmul[v0, v1])\n",
            "                                matmul[v0, v1] \u001b[35;01m=\u001b[39;00m matmul_local[v0, v1]\n",
            "        \u001b[32;01mfor\u001b[39;00m i, j \u001b[32;01min\u001b[39;00m T\u001b[35;01m.\u001b[39;00mgrid(\u001b[92m2048\u001b[39m, \u001b[92m2048\u001b[39m):\n",
            "            \u001b[32;01mwith\u001b[39;00m T\u001b[35;01m.\u001b[39;00mblock(\u001b[33m\"\u001b[39m\u001b[33mrelu\u001b[39m\u001b[33m\"\u001b[39m):\n",
            "                vi, vj \u001b[35;01m=\u001b[39;00m T\u001b[35;01m.\u001b[39;00maxis\u001b[35;01m.\u001b[39;00mremap(\u001b[33m\"\u001b[39m\u001b[33mSS\u001b[39m\u001b[33m\"\u001b[39m, [i, j])\n",
            "                T\u001b[35;01m.\u001b[39;00mreads(matmul[vi, vj])\n",
            "                T\u001b[35;01m.\u001b[39;00mwrites(relu[vi, vj])\n",
            "                relu[vi, vj] \u001b[35;01m=\u001b[39;00m T\u001b[35;01m.\u001b[39;00mmax(matmul[vi, vj], T\u001b[35;01m.\u001b[39;00mfloat32(\u001b[92m0.0\u001b[39m))\n",
            "        \u001b[32;01mfor\u001b[39;00m i, j \u001b[32;01min\u001b[39;00m T\u001b[35;01m.\u001b[39;00mgrid(\u001b[92m2048\u001b[39m, \u001b[92m2048\u001b[39m):\n",
            "            \u001b[32;01mwith\u001b[39;00m T\u001b[35;01m.\u001b[39;00mblock(\u001b[33m\"\u001b[39m\u001b[33madd\u001b[39m\u001b[33m\"\u001b[39m):\n",
            "                vi, vj \u001b[35;01m=\u001b[39;00m T\u001b[35;01m.\u001b[39;00maxis\u001b[35;01m.\u001b[39;00mremap(\u001b[33m\"\u001b[39m\u001b[33mSS\u001b[39m\u001b[33m\"\u001b[39m, [i, j])\n",
            "                T\u001b[35;01m.\u001b[39;00mreads(relu[vi, vj], C[vi, vj])\n",
            "                T\u001b[35;01m.\u001b[39;00mwrites(D[vi, vj])\n",
            "                D[vi, vj] \u001b[35;01m=\u001b[39;00m relu[vi, vj] \u001b[35;01m+\u001b[39;00m C[vi, vj]\n",
            "\n",
            "\u001b[90;03m# from tvm import tir\u001b[39;00m\n",
            "\u001b[32;01mdef\u001b[39;00m \u001b[34;01mapply_trace\u001b[39;00m(sch: tir\u001b[35;01m.\u001b[39;00mSchedule) \u001b[35;01m-\u001b[39;00m\u001b[35;01m>\u001b[39;00m \u001b[32;01mNone\u001b[39;00m:\n",
            "  b0 \u001b[35;01m=\u001b[39;00m sch\u001b[35;01m.\u001b[39;00mget_block(name\u001b[35;01m=\u001b[39;00m\u001b[33m\"\u001b[39m\u001b[33mgemm\u001b[39m\u001b[33m\"\u001b[39m, func_name\u001b[35;01m=\u001b[39;00m\u001b[33m\"\u001b[39m\u001b[33mmain\u001b[39m\u001b[33m\"\u001b[39m)\n",
            "  l1, l2, l3 \u001b[35;01m=\u001b[39;00m sch\u001b[35;01m.\u001b[39;00mget_loops(block\u001b[35;01m=\u001b[39;00mb0)\n",
            "  l4, l5 \u001b[35;01m=\u001b[39;00m sch\u001b[35;01m.\u001b[39;00msplit(loop\u001b[35;01m=\u001b[39;00ml1, factors\u001b[35;01m=\u001b[39;00m[\u001b[32;01mNone\u001b[39;00m, \u001b[92m64\u001b[39m], preserve_unit_iters\u001b[35;01m=\u001b[39;00m\u001b[32;01mTrue\u001b[39;00m, disable_predication\u001b[35;01m=\u001b[39;00m\u001b[32;01mFalse\u001b[39;00m)\n",
            "  l6, l7 \u001b[35;01m=\u001b[39;00m sch\u001b[35;01m.\u001b[39;00msplit(loop\u001b[35;01m=\u001b[39;00ml2, factors\u001b[35;01m=\u001b[39;00m[\u001b[32;01mNone\u001b[39;00m, \u001b[92m64\u001b[39m], preserve_unit_iters\u001b[35;01m=\u001b[39;00m\u001b[32;01mTrue\u001b[39;00m, disable_predication\u001b[35;01m=\u001b[39;00m\u001b[32;01mFalse\u001b[39;00m)\n",
            "  l8, l9 \u001b[35;01m=\u001b[39;00m sch\u001b[35;01m.\u001b[39;00msplit(loop\u001b[35;01m=\u001b[39;00ml3, factors\u001b[35;01m=\u001b[39;00m[\u001b[32;01mNone\u001b[39;00m, \u001b[92m64\u001b[39m], preserve_unit_iters\u001b[35;01m=\u001b[39;00m\u001b[32;01mTrue\u001b[39;00m, disable_predication\u001b[35;01m=\u001b[39;00m\u001b[32;01mFalse\u001b[39;00m)\n",
            "  sch\u001b[35;01m.\u001b[39;00mreorder(l4, l6, l8, l5, l7, l9)\n",
            "  sch\u001b[35;01m.\u001b[39;00mbind(loop\u001b[35;01m=\u001b[39;00ml4, thread_axis\u001b[35;01m=\u001b[39;00m\u001b[33m\"\u001b[39m\u001b[33mblockIdx.x\u001b[39m\u001b[33m\"\u001b[39m)\n",
            "  sch\u001b[35;01m.\u001b[39;00mbind(loop\u001b[35;01m=\u001b[39;00ml6, thread_axis\u001b[35;01m=\u001b[39;00m\u001b[33m\"\u001b[39m\u001b[33mblockIdx.y\u001b[39m\u001b[33m\"\u001b[39m)\n",
            "  b10 \u001b[35;01m=\u001b[39;00m sch\u001b[35;01m.\u001b[39;00mcache_read(block\u001b[35;01m=\u001b[39;00mb0, read_buffer_index\u001b[35;01m=\u001b[39;00m\u001b[92m0\u001b[39m, storage_scope\u001b[35;01m=\u001b[39;00m\u001b[33m\"\u001b[39m\u001b[33mshared\u001b[39m\u001b[33m\"\u001b[39m)\n",
            "  sch\u001b[35;01m.\u001b[39;00mcompute_at(block\u001b[35;01m=\u001b[39;00mb10, loop\u001b[35;01m=\u001b[39;00ml8, preserve_unit_loops\u001b[35;01m=\u001b[39;00m\u001b[32;01mFalse\u001b[39;00m, index\u001b[35;01m=\u001b[39;00m\u001b[35;01m-\u001b[39;00m\u001b[92m1\u001b[39m)\n",
            "  b11 \u001b[35;01m=\u001b[39;00m sch\u001b[35;01m.\u001b[39;00mcache_read(block\u001b[35;01m=\u001b[39;00mb0, read_buffer_index\u001b[35;01m=\u001b[39;00m\u001b[92m1\u001b[39m, storage_scope\u001b[35;01m=\u001b[39;00m\u001b[33m\"\u001b[39m\u001b[33mshared\u001b[39m\u001b[33m\"\u001b[39m)\n",
            "  sch\u001b[35;01m.\u001b[39;00mcompute_at(block\u001b[35;01m=\u001b[39;00mb11, loop\u001b[35;01m=\u001b[39;00ml8, preserve_unit_loops\u001b[35;01m=\u001b[39;00m\u001b[32;01mFalse\u001b[39;00m, index\u001b[35;01m=\u001b[39;00m\u001b[35;01m-\u001b[39;00m\u001b[92m1\u001b[39m)\n",
            "  b12 \u001b[35;01m=\u001b[39;00m sch\u001b[35;01m.\u001b[39;00mget_block(name\u001b[35;01m=\u001b[39;00m\u001b[33m\"\u001b[39m\u001b[33mgemm\u001b[39m\u001b[33m\"\u001b[39m, func_name\u001b[35;01m=\u001b[39;00m\u001b[33m\"\u001b[39m\u001b[33mmain\u001b[39m\u001b[33m\"\u001b[39m)\n",
            "  l13, l14, l15, l16, l17, l18 \u001b[35;01m=\u001b[39;00m sch\u001b[35;01m.\u001b[39;00mget_loops(block\u001b[35;01m=\u001b[39;00mb12)\n",
            "  l19, l20 \u001b[35;01m=\u001b[39;00m sch\u001b[35;01m.\u001b[39;00msplit(loop\u001b[35;01m=\u001b[39;00ml16, factors\u001b[35;01m=\u001b[39;00m[\u001b[32;01mNone\u001b[39;00m, \u001b[92m4\u001b[39m], preserve_unit_iters\u001b[35;01m=\u001b[39;00m\u001b[32;01mTrue\u001b[39;00m, disable_predication\u001b[35;01m=\u001b[39;00m\u001b[32;01mFalse\u001b[39;00m)\n",
            "  l21, l22 \u001b[35;01m=\u001b[39;00m sch\u001b[35;01m.\u001b[39;00msplit(loop\u001b[35;01m=\u001b[39;00ml17, factors\u001b[35;01m=\u001b[39;00m[\u001b[32;01mNone\u001b[39;00m, \u001b[92m4\u001b[39m], preserve_unit_iters\u001b[35;01m=\u001b[39;00m\u001b[32;01mTrue\u001b[39;00m, disable_predication\u001b[35;01m=\u001b[39;00m\u001b[32;01mFalse\u001b[39;00m)\n",
            "  l23, l24 \u001b[35;01m=\u001b[39;00m sch\u001b[35;01m.\u001b[39;00msplit(loop\u001b[35;01m=\u001b[39;00ml18, factors\u001b[35;01m=\u001b[39;00m[\u001b[32;01mNone\u001b[39;00m, \u001b[92m1\u001b[39m], preserve_unit_iters\u001b[35;01m=\u001b[39;00m\u001b[32;01mTrue\u001b[39;00m, disable_predication\u001b[35;01m=\u001b[39;00m\u001b[32;01mFalse\u001b[39;00m)\n",
            "  sch\u001b[35;01m.\u001b[39;00mreorder(l19, l21, l23, l20, l22, l24)\n",
            "  sch\u001b[35;01m.\u001b[39;00mbind(loop\u001b[35;01m=\u001b[39;00ml19, thread_axis\u001b[35;01m=\u001b[39;00m\u001b[33m\"\u001b[39m\u001b[33mthreadIdx.x\u001b[39m\u001b[33m\"\u001b[39m)\n",
            "  sch\u001b[35;01m.\u001b[39;00mbind(loop\u001b[35;01m=\u001b[39;00ml21, thread_axis\u001b[35;01m=\u001b[39;00m\u001b[33m\"\u001b[39m\u001b[33mthreadIdx.y\u001b[39m\u001b[33m\"\u001b[39m)\n",
            "  b25 \u001b[35;01m=\u001b[39;00m sch\u001b[35;01m.\u001b[39;00mcache_read(block\u001b[35;01m=\u001b[39;00mb12, read_buffer_index\u001b[35;01m=\u001b[39;00m\u001b[92m0\u001b[39m, storage_scope\u001b[35;01m=\u001b[39;00m\u001b[33m\"\u001b[39m\u001b[33mlocal\u001b[39m\u001b[33m\"\u001b[39m)\n",
            "  sch\u001b[35;01m.\u001b[39;00mcompute_at(block\u001b[35;01m=\u001b[39;00mb25, loop\u001b[35;01m=\u001b[39;00ml23, preserve_unit_loops\u001b[35;01m=\u001b[39;00m\u001b[32;01mFalse\u001b[39;00m, index\u001b[35;01m=\u001b[39;00m\u001b[35;01m-\u001b[39;00m\u001b[92m1\u001b[39m)\n",
            "  b26 \u001b[35;01m=\u001b[39;00m sch\u001b[35;01m.\u001b[39;00mcache_read(block\u001b[35;01m=\u001b[39;00mb12, read_buffer_index\u001b[35;01m=\u001b[39;00m\u001b[92m1\u001b[39m, storage_scope\u001b[35;01m=\u001b[39;00m\u001b[33m\"\u001b[39m\u001b[33mlocal\u001b[39m\u001b[33m\"\u001b[39m)\n",
            "  sch\u001b[35;01m.\u001b[39;00mcompute_at(block\u001b[35;01m=\u001b[39;00mb26, loop\u001b[35;01m=\u001b[39;00ml23, preserve_unit_loops\u001b[35;01m=\u001b[39;00m\u001b[32;01mFalse\u001b[39;00m, index\u001b[35;01m=\u001b[39;00m\u001b[35;01m-\u001b[39;00m\u001b[92m1\u001b[39m)\n",
            "  l27, l28, l29, l30, l31 \u001b[35;01m=\u001b[39;00m sch\u001b[35;01m.\u001b[39;00mget_loops(block\u001b[35;01m=\u001b[39;00mb10)\n",
            "  l32 \u001b[35;01m=\u001b[39;00m sch\u001b[35;01m.\u001b[39;00mfuse(l30, l31, preserve_unit_iters\u001b[35;01m=\u001b[39;00m\u001b[32;01mTrue\u001b[39;00m)\n",
            "  l33, l34, l35 \u001b[35;01m=\u001b[39;00m sch\u001b[35;01m.\u001b[39;00msplit(loop\u001b[35;01m=\u001b[39;00ml32, factors\u001b[35;01m=\u001b[39;00m[\u001b[32;01mNone\u001b[39;00m, \u001b[92m16\u001b[39m, \u001b[92m16\u001b[39m], preserve_unit_iters\u001b[35;01m=\u001b[39;00m\u001b[32;01mTrue\u001b[39;00m, disable_predication\u001b[35;01m=\u001b[39;00m\u001b[32;01mFalse\u001b[39;00m)\n",
            "  sch\u001b[35;01m.\u001b[39;00mbind(loop\u001b[35;01m=\u001b[39;00ml34, thread_axis\u001b[35;01m=\u001b[39;00m\u001b[33m\"\u001b[39m\u001b[33mthreadIdx.y\u001b[39m\u001b[33m\"\u001b[39m)\n",
            "  sch\u001b[35;01m.\u001b[39;00mbind(loop\u001b[35;01m=\u001b[39;00ml35, thread_axis\u001b[35;01m=\u001b[39;00m\u001b[33m\"\u001b[39m\u001b[33mthreadIdx.x\u001b[39m\u001b[33m\"\u001b[39m)\n",
            "  l36, l37, l38, l39, l40 \u001b[35;01m=\u001b[39;00m sch\u001b[35;01m.\u001b[39;00mget_loops(block\u001b[35;01m=\u001b[39;00mb11)\n",
            "  l41 \u001b[35;01m=\u001b[39;00m sch\u001b[35;01m.\u001b[39;00mfuse(l39, l40, preserve_unit_iters\u001b[35;01m=\u001b[39;00m\u001b[32;01mTrue\u001b[39;00m)\n",
            "  l42, l43, l44 \u001b[35;01m=\u001b[39;00m sch\u001b[35;01m.\u001b[39;00msplit(loop\u001b[35;01m=\u001b[39;00ml41, factors\u001b[35;01m=\u001b[39;00m[\u001b[32;01mNone\u001b[39;00m, \u001b[92m16\u001b[39m, \u001b[92m16\u001b[39m], preserve_unit_iters\u001b[35;01m=\u001b[39;00m\u001b[32;01mTrue\u001b[39;00m, disable_predication\u001b[35;01m=\u001b[39;00m\u001b[32;01mFalse\u001b[39;00m)\n",
            "  sch\u001b[35;01m.\u001b[39;00mbind(loop\u001b[35;01m=\u001b[39;00ml43, thread_axis\u001b[35;01m=\u001b[39;00m\u001b[33m\"\u001b[39m\u001b[33mthreadIdx.y\u001b[39m\u001b[33m\"\u001b[39m)\n",
            "  sch\u001b[35;01m.\u001b[39;00mbind(loop\u001b[35;01m=\u001b[39;00ml44, thread_axis\u001b[35;01m=\u001b[39;00m\u001b[33m\"\u001b[39m\u001b[33mthreadIdx.x\u001b[39m\u001b[33m\"\u001b[39m)\n",
            "  b45 \u001b[35;01m=\u001b[39;00m sch\u001b[35;01m.\u001b[39;00mget_block(name\u001b[35;01m=\u001b[39;00m\u001b[33m\"\u001b[39m\u001b[33mgemm\u001b[39m\u001b[33m\"\u001b[39m, func_name\u001b[35;01m=\u001b[39;00m\u001b[33m\"\u001b[39m\u001b[33mmain\u001b[39m\u001b[33m\"\u001b[39m)\n",
            "  l46, l47, l48, l49, l50, l51, l52, l53, l54 \u001b[35;01m=\u001b[39;00m sch\u001b[35;01m.\u001b[39;00mget_loops(block\u001b[35;01m=\u001b[39;00mb45)\n",
            "  b55 \u001b[35;01m=\u001b[39;00m sch\u001b[35;01m.\u001b[39;00mcache_write(block\u001b[35;01m=\u001b[39;00mb45, write_buffer_index\u001b[35;01m=\u001b[39;00m\u001b[92m0\u001b[39m, storage_scope\u001b[35;01m=\u001b[39;00m\u001b[33m\"\u001b[39m\u001b[33mlocal\u001b[39m\u001b[33m\"\u001b[39m)\n",
            "  sch\u001b[35;01m.\u001b[39;00mreverse_compute_at(block\u001b[35;01m=\u001b[39;00mb55, loop\u001b[35;01m=\u001b[39;00ml49, preserve_unit_loops\u001b[35;01m=\u001b[39;00m\u001b[32;01mFalse\u001b[39;00m, index\u001b[35;01m=\u001b[39;00m\u001b[35;01m-\u001b[39;00m\u001b[92m1\u001b[39m)\n",
            "\n"
          ]
        }
      ],
      "source": [
        "!python3 gemm_relu_add.py"
      ]
    },
    {
      "cell_type": "markdown",
      "metadata": {
        "id": "iAHWAuHc1BAt"
      },
      "source": [
        "### Task 4. Write Cache (10 pt)\n",
        "\n",
        "We can now move on to the stage of writing the GeMM computation result into `matmul`.\n",
        "So far, our GeMM computation still directly writes the results into the global memory of `matmul`,\n",
        "with each location of `matmul` written for `K` times, as our GeMM takes the summation over the `K` dimension.\n",
        "This is obviously not optimal.\n",
        "\n",
        "Instead of writing the computation results directly into global memory,\n",
        "we can accumulate the summation in local registers,\n",
        "and write the result into global memory for fewer times after the accumulation is finished."
      ]
    },
    {
      "cell_type": "markdown",
      "metadata": {
        "id": "mYF87u3V1BAt"
      },
      "source": [
        "You need to implement the write cache in the `write_cache` function in `gemm_relu_add.py`.\n",
        "In this task, you will use the schedule primitive\n",
        "`cache_write` [(docs)](https://tvm.apache.org/docs/reference/api/python/tir/schedule.html#tvm.tir.schedule.Schedule.cache_write)\n",
        "and\n",
        "`reverse_compute_at` [(docs)](https://tvm.apache.org/docs/reference/api/python/tir/schedule.html#tvm.tir.schedule.Schedule.reverse_compute_at)\n",
        "to put the write cache stage at the right location.\n",
        "Similar to `cache_read` which generates a read cache stage for a computation,\n",
        "`cache_write` generates a write cache stage for a computation at the specified scope.\n",
        "`reverse_compute_at` works in basically the same way as `compute_at`,\n",
        "with the difference being `compute_at` moves a computation **in front of** the target loop into the target loop,\n",
        "while `reverse_compute_at` moves a computation **behind** the target loop into the target loop."
      ]
    },
    {
      "cell_type": "code",
      "execution_count": 6,
      "metadata": {
        "colab": {
          "base_uri": "https://localhost:8080/"
        },
        "id": "1npwkrQu1BAu",
        "outputId": "62ecfbaa-ba9d-41c5-e11e-31c209cb4edf"
      },
      "outputs": [
        {
          "output_type": "stream",
          "name": "stdout",
          "text": [
            "\u001b[90;03m# from tvm.script import ir as I\u001b[39;00m\n",
            "\u001b[90;03m# from tvm.script import tir as T\u001b[39;00m\n",
            "\n",
            "\u001b[95;03m@I\u001b[39;00m\u001b[35;01m.\u001b[39;00mir_module\n",
            "\u001b[32;01mclass\u001b[39;00m \u001b[34;01mModule\u001b[39;00m:\n",
            "    \u001b[95;03m@T\u001b[39;00m\u001b[35;01m.\u001b[39;00mprim_func\n",
            "    \u001b[32;01mdef\u001b[39;00m \u001b[34;01mmain\u001b[39;00m(A: T\u001b[35;01m.\u001b[39;00mBuffer((\u001b[92m2048\u001b[39m, \u001b[92m2048\u001b[39m), \u001b[33m\"\u001b[39m\u001b[33mfloat32\u001b[39m\u001b[33m\"\u001b[39m), B: T\u001b[35;01m.\u001b[39;00mBuffer((\u001b[92m2048\u001b[39m, \u001b[92m2048\u001b[39m), \u001b[33m\"\u001b[39m\u001b[33mfloat32\u001b[39m\u001b[33m\"\u001b[39m), C: T\u001b[35;01m.\u001b[39;00mBuffer((\u001b[92m2048\u001b[39m, \u001b[92m2048\u001b[39m), \u001b[33m\"\u001b[39m\u001b[33mfloat32\u001b[39m\u001b[33m\"\u001b[39m), D: T\u001b[35;01m.\u001b[39;00mBuffer((\u001b[92m2048\u001b[39m, \u001b[92m2048\u001b[39m), \u001b[33m\"\u001b[39m\u001b[33mfloat32\u001b[39m\u001b[33m\"\u001b[39m)):\n",
            "        T\u001b[35;01m.\u001b[39;00mfunc_attr({\u001b[33m\"\u001b[39m\u001b[33mglobal_symbol\u001b[39m\u001b[33m\"\u001b[39m: \u001b[33m\"\u001b[39m\u001b[33mgemm_relu_add\u001b[39m\u001b[33m\"\u001b[39m})\n",
            "        \u001b[90;03m# with T.block(\"root\"):\u001b[39;00m\n",
            "        A_shared \u001b[35;01m=\u001b[39;00m T\u001b[35;01m.\u001b[39;00malloc_buffer((\u001b[92m2048\u001b[39m, \u001b[92m2048\u001b[39m), scope\u001b[35;01m=\u001b[39;00m\u001b[33m\"\u001b[39m\u001b[33mshared\u001b[39m\u001b[33m\"\u001b[39m)\n",
            "        B_shared \u001b[35;01m=\u001b[39;00m T\u001b[35;01m.\u001b[39;00malloc_buffer((\u001b[92m2048\u001b[39m, \u001b[92m2048\u001b[39m), scope\u001b[35;01m=\u001b[39;00m\u001b[33m\"\u001b[39m\u001b[33mshared\u001b[39m\u001b[33m\"\u001b[39m)\n",
            "        A_shared_local \u001b[35;01m=\u001b[39;00m T\u001b[35;01m.\u001b[39;00malloc_buffer((\u001b[92m2048\u001b[39m, \u001b[92m2048\u001b[39m), scope\u001b[35;01m=\u001b[39;00m\u001b[33m\"\u001b[39m\u001b[33mlocal\u001b[39m\u001b[33m\"\u001b[39m)\n",
            "        B_shared_local \u001b[35;01m=\u001b[39;00m T\u001b[35;01m.\u001b[39;00malloc_buffer((\u001b[92m2048\u001b[39m, \u001b[92m2048\u001b[39m), scope\u001b[35;01m=\u001b[39;00m\u001b[33m\"\u001b[39m\u001b[33mlocal\u001b[39m\u001b[33m\"\u001b[39m)\n",
            "        matmul_local \u001b[35;01m=\u001b[39;00m T\u001b[35;01m.\u001b[39;00malloc_buffer((\u001b[92m2048\u001b[39m, \u001b[92m2048\u001b[39m), scope\u001b[35;01m=\u001b[39;00m\u001b[33m\"\u001b[39m\u001b[33mlocal\u001b[39m\u001b[33m\"\u001b[39m)\n",
            "        \u001b[32;01mfor\u001b[39;00m i_0 \u001b[32;01min\u001b[39;00m T\u001b[35;01m.\u001b[39;00mthread_binding(\u001b[92m32\u001b[39m, thread\u001b[35;01m=\u001b[39;00m\u001b[33m\"\u001b[39m\u001b[33mblockIdx.x\u001b[39m\u001b[33m\"\u001b[39m):\n",
            "            \u001b[32;01mfor\u001b[39;00m j_0 \u001b[32;01min\u001b[39;00m T\u001b[35;01m.\u001b[39;00mthread_binding(\u001b[92m32\u001b[39m, thread\u001b[35;01m=\u001b[39;00m\u001b[33m\"\u001b[39m\u001b[33mblockIdx.y\u001b[39m\u001b[33m\"\u001b[39m):\n",
            "                \u001b[32;01mfor\u001b[39;00m k_0 \u001b[32;01min\u001b[39;00m range(\u001b[92m32\u001b[39m):\n",
            "                    \u001b[32;01mfor\u001b[39;00m ax0_ax1_fused_0 \u001b[32;01min\u001b[39;00m range(\u001b[92m16\u001b[39m):\n",
            "                        \u001b[32;01mfor\u001b[39;00m ax0_ax1_fused_1 \u001b[32;01min\u001b[39;00m T\u001b[35;01m.\u001b[39;00mthread_binding(\u001b[92m16\u001b[39m, thread\u001b[35;01m=\u001b[39;00m\u001b[33m\"\u001b[39m\u001b[33mthreadIdx.y\u001b[39m\u001b[33m\"\u001b[39m):\n",
            "                            \u001b[32;01mfor\u001b[39;00m ax0_ax1_fused_2 \u001b[32;01min\u001b[39;00m T\u001b[35;01m.\u001b[39;00mthread_binding(\u001b[92m16\u001b[39m, thread\u001b[35;01m=\u001b[39;00m\u001b[33m\"\u001b[39m\u001b[33mthreadIdx.x\u001b[39m\u001b[33m\"\u001b[39m):\n",
            "                                \u001b[32;01mwith\u001b[39;00m T\u001b[35;01m.\u001b[39;00mblock(\u001b[33m\"\u001b[39m\u001b[33mA_shared\u001b[39m\u001b[33m\"\u001b[39m):\n",
            "                                    v0 \u001b[35;01m=\u001b[39;00m T\u001b[35;01m.\u001b[39;00maxis\u001b[35;01m.\u001b[39;00mspatial(\u001b[92m2048\u001b[39m, i_0 \u001b[35;01m*\u001b[39;00m \u001b[92m64\u001b[39m \u001b[35;01m+\u001b[39;00m (ax0_ax1_fused_0 \u001b[35;01m*\u001b[39;00m \u001b[92m256\u001b[39m \u001b[35;01m+\u001b[39;00m ax0_ax1_fused_1 \u001b[35;01m*\u001b[39;00m \u001b[92m16\u001b[39m \u001b[35;01m+\u001b[39;00m ax0_ax1_fused_2) \u001b[35;01m/\u001b[39;00m\u001b[35;01m/\u001b[39;00m \u001b[92m64\u001b[39m)\n",
            "                                    v1 \u001b[35;01m=\u001b[39;00m T\u001b[35;01m.\u001b[39;00maxis\u001b[35;01m.\u001b[39;00mspatial(\u001b[92m2048\u001b[39m, k_0 \u001b[35;01m*\u001b[39;00m \u001b[92m64\u001b[39m \u001b[35;01m+\u001b[39;00m (ax0_ax1_fused_0 \u001b[35;01m*\u001b[39;00m \u001b[92m256\u001b[39m \u001b[35;01m+\u001b[39;00m ax0_ax1_fused_1 \u001b[35;01m*\u001b[39;00m \u001b[92m16\u001b[39m \u001b[35;01m+\u001b[39;00m ax0_ax1_fused_2) \u001b[35;01m%\u001b[39;00m \u001b[92m64\u001b[39m)\n",
            "                                    T\u001b[35;01m.\u001b[39;00mreads(A[v0, v1])\n",
            "                                    T\u001b[35;01m.\u001b[39;00mwrites(A_shared[v0, v1])\n",
            "                                    A_shared[v0, v1] \u001b[35;01m=\u001b[39;00m A[v0, v1]\n",
            "                    \u001b[32;01mfor\u001b[39;00m ax0_ax1_fused_0 \u001b[32;01min\u001b[39;00m range(\u001b[92m16\u001b[39m):\n",
            "                        \u001b[32;01mfor\u001b[39;00m ax0_ax1_fused_1 \u001b[32;01min\u001b[39;00m T\u001b[35;01m.\u001b[39;00mthread_binding(\u001b[92m16\u001b[39m, thread\u001b[35;01m=\u001b[39;00m\u001b[33m\"\u001b[39m\u001b[33mthreadIdx.y\u001b[39m\u001b[33m\"\u001b[39m):\n",
            "                            \u001b[32;01mfor\u001b[39;00m ax0_ax1_fused_2 \u001b[32;01min\u001b[39;00m T\u001b[35;01m.\u001b[39;00mthread_binding(\u001b[92m16\u001b[39m, thread\u001b[35;01m=\u001b[39;00m\u001b[33m\"\u001b[39m\u001b[33mthreadIdx.x\u001b[39m\u001b[33m\"\u001b[39m):\n",
            "                                \u001b[32;01mwith\u001b[39;00m T\u001b[35;01m.\u001b[39;00mblock(\u001b[33m\"\u001b[39m\u001b[33mB_shared\u001b[39m\u001b[33m\"\u001b[39m):\n",
            "                                    v0 \u001b[35;01m=\u001b[39;00m T\u001b[35;01m.\u001b[39;00maxis\u001b[35;01m.\u001b[39;00mspatial(\u001b[92m2048\u001b[39m, k_0 \u001b[35;01m*\u001b[39;00m \u001b[92m64\u001b[39m \u001b[35;01m+\u001b[39;00m (ax0_ax1_fused_0 \u001b[35;01m*\u001b[39;00m \u001b[92m256\u001b[39m \u001b[35;01m+\u001b[39;00m ax0_ax1_fused_1 \u001b[35;01m*\u001b[39;00m \u001b[92m16\u001b[39m \u001b[35;01m+\u001b[39;00m ax0_ax1_fused_2) \u001b[35;01m/\u001b[39;00m\u001b[35;01m/\u001b[39;00m \u001b[92m64\u001b[39m)\n",
            "                                    v1 \u001b[35;01m=\u001b[39;00m T\u001b[35;01m.\u001b[39;00maxis\u001b[35;01m.\u001b[39;00mspatial(\u001b[92m2048\u001b[39m, j_0 \u001b[35;01m*\u001b[39;00m \u001b[92m64\u001b[39m \u001b[35;01m+\u001b[39;00m (ax0_ax1_fused_0 \u001b[35;01m*\u001b[39;00m \u001b[92m256\u001b[39m \u001b[35;01m+\u001b[39;00m ax0_ax1_fused_1 \u001b[35;01m*\u001b[39;00m \u001b[92m16\u001b[39m \u001b[35;01m+\u001b[39;00m ax0_ax1_fused_2) \u001b[35;01m%\u001b[39;00m \u001b[92m64\u001b[39m)\n",
            "                                    T\u001b[35;01m.\u001b[39;00mreads(B[v0, v1])\n",
            "                                    T\u001b[35;01m.\u001b[39;00mwrites(B_shared[v0, v1])\n",
            "                                    B_shared[v0, v1] \u001b[35;01m=\u001b[39;00m B[v0, v1]\n",
            "                    \u001b[32;01mfor\u001b[39;00m i_1_0 \u001b[32;01min\u001b[39;00m T\u001b[35;01m.\u001b[39;00mthread_binding(\u001b[92m16\u001b[39m, thread\u001b[35;01m=\u001b[39;00m\u001b[33m\"\u001b[39m\u001b[33mthreadIdx.x\u001b[39m\u001b[33m\"\u001b[39m):\n",
            "                        \u001b[32;01mfor\u001b[39;00m j_1_0 \u001b[32;01min\u001b[39;00m T\u001b[35;01m.\u001b[39;00mthread_binding(\u001b[92m16\u001b[39m, thread\u001b[35;01m=\u001b[39;00m\u001b[33m\"\u001b[39m\u001b[33mthreadIdx.y\u001b[39m\u001b[33m\"\u001b[39m):\n",
            "                            \u001b[32;01mfor\u001b[39;00m k_1_0 \u001b[32;01min\u001b[39;00m range(\u001b[92m64\u001b[39m):\n",
            "                                \u001b[32;01mfor\u001b[39;00m ax0 \u001b[32;01min\u001b[39;00m range(\u001b[92m4\u001b[39m):\n",
            "                                    \u001b[32;01mwith\u001b[39;00m T\u001b[35;01m.\u001b[39;00mblock(\u001b[33m\"\u001b[39m\u001b[33mA_shared_local\u001b[39m\u001b[33m\"\u001b[39m):\n",
            "                                        v0 \u001b[35;01m=\u001b[39;00m T\u001b[35;01m.\u001b[39;00maxis\u001b[35;01m.\u001b[39;00mspatial(\u001b[92m2048\u001b[39m, i_0 \u001b[35;01m*\u001b[39;00m \u001b[92m64\u001b[39m \u001b[35;01m+\u001b[39;00m i_1_0 \u001b[35;01m*\u001b[39;00m \u001b[92m4\u001b[39m \u001b[35;01m+\u001b[39;00m ax0)\n",
            "                                        v1 \u001b[35;01m=\u001b[39;00m T\u001b[35;01m.\u001b[39;00maxis\u001b[35;01m.\u001b[39;00mspatial(\u001b[92m2048\u001b[39m, k_0 \u001b[35;01m*\u001b[39;00m \u001b[92m64\u001b[39m \u001b[35;01m+\u001b[39;00m k_1_0)\n",
            "                                        T\u001b[35;01m.\u001b[39;00mreads(A_shared[v0, v1])\n",
            "                                        T\u001b[35;01m.\u001b[39;00mwrites(A_shared_local[v0, v1])\n",
            "                                        A_shared_local[v0, v1] \u001b[35;01m=\u001b[39;00m A_shared[v0, v1]\n",
            "                                \u001b[32;01mfor\u001b[39;00m ax0 \u001b[32;01min\u001b[39;00m range(\u001b[92m4\u001b[39m):\n",
            "                                    \u001b[32;01mwith\u001b[39;00m T\u001b[35;01m.\u001b[39;00mblock(\u001b[33m\"\u001b[39m\u001b[33mB_shared_local\u001b[39m\u001b[33m\"\u001b[39m):\n",
            "                                        v0 \u001b[35;01m=\u001b[39;00m T\u001b[35;01m.\u001b[39;00maxis\u001b[35;01m.\u001b[39;00mspatial(\u001b[92m2048\u001b[39m, k_0 \u001b[35;01m*\u001b[39;00m \u001b[92m64\u001b[39m \u001b[35;01m+\u001b[39;00m k_1_0)\n",
            "                                        v1 \u001b[35;01m=\u001b[39;00m T\u001b[35;01m.\u001b[39;00maxis\u001b[35;01m.\u001b[39;00mspatial(\u001b[92m2048\u001b[39m, j_0 \u001b[35;01m*\u001b[39;00m \u001b[92m64\u001b[39m \u001b[35;01m+\u001b[39;00m j_1_0 \u001b[35;01m*\u001b[39;00m \u001b[92m4\u001b[39m \u001b[35;01m+\u001b[39;00m ax0)\n",
            "                                        T\u001b[35;01m.\u001b[39;00mreads(B_shared[v0, v1])\n",
            "                                        T\u001b[35;01m.\u001b[39;00mwrites(B_shared_local[v0, v1])\n",
            "                                        B_shared_local[v0, v1] \u001b[35;01m=\u001b[39;00m B_shared[v0, v1]\n",
            "                                \u001b[32;01mfor\u001b[39;00m i_1_1, j_1_1, k_1_1 \u001b[32;01min\u001b[39;00m T\u001b[35;01m.\u001b[39;00mgrid(\u001b[92m4\u001b[39m, \u001b[92m4\u001b[39m, \u001b[92m1\u001b[39m):\n",
            "                                    \u001b[32;01mwith\u001b[39;00m T\u001b[35;01m.\u001b[39;00mblock(\u001b[33m\"\u001b[39m\u001b[33mgemm\u001b[39m\u001b[33m\"\u001b[39m):\n",
            "                                        vi \u001b[35;01m=\u001b[39;00m T\u001b[35;01m.\u001b[39;00maxis\u001b[35;01m.\u001b[39;00mspatial(\u001b[92m2048\u001b[39m, i_0 \u001b[35;01m*\u001b[39;00m \u001b[92m64\u001b[39m \u001b[35;01m+\u001b[39;00m i_1_0 \u001b[35;01m*\u001b[39;00m \u001b[92m4\u001b[39m \u001b[35;01m+\u001b[39;00m i_1_1)\n",
            "                                        vj \u001b[35;01m=\u001b[39;00m T\u001b[35;01m.\u001b[39;00maxis\u001b[35;01m.\u001b[39;00mspatial(\u001b[92m2048\u001b[39m, j_0 \u001b[35;01m*\u001b[39;00m \u001b[92m64\u001b[39m \u001b[35;01m+\u001b[39;00m j_1_0 \u001b[35;01m*\u001b[39;00m \u001b[92m4\u001b[39m \u001b[35;01m+\u001b[39;00m j_1_1)\n",
            "                                        vk \u001b[35;01m=\u001b[39;00m T\u001b[35;01m.\u001b[39;00maxis\u001b[35;01m.\u001b[39;00mreduce(\u001b[92m2048\u001b[39m, k_0 \u001b[35;01m*\u001b[39;00m \u001b[92m64\u001b[39m \u001b[35;01m+\u001b[39;00m k_1_0 \u001b[35;01m+\u001b[39;00m k_1_1)\n",
            "                                        T\u001b[35;01m.\u001b[39;00mreads(A_shared_local[vi, vk], B_shared_local[vk, vj])\n",
            "                                        T\u001b[35;01m.\u001b[39;00mwrites(matmul_local[vi, vj])\n",
            "                                        \u001b[32;01mwith\u001b[39;00m T\u001b[35;01m.\u001b[39;00minit():\n",
            "                                            matmul_local[vi, vj] \u001b[35;01m=\u001b[39;00m T\u001b[35;01m.\u001b[39;00mfloat32(\u001b[92m0.0\u001b[39m)\n",
            "                                        matmul_local[vi, vj] \u001b[35;01m=\u001b[39;00m matmul_local[vi, vj] \u001b[35;01m+\u001b[39;00m A_shared_local[vi, vk] \u001b[35;01m*\u001b[39;00m B_shared_local[vk, vj]\n",
            "                            \u001b[32;01mfor\u001b[39;00m ax0, ax1 \u001b[32;01min\u001b[39;00m T\u001b[35;01m.\u001b[39;00mgrid(\u001b[92m4\u001b[39m, \u001b[92m4\u001b[39m):\n",
            "                                \u001b[32;01mwith\u001b[39;00m T\u001b[35;01m.\u001b[39;00mblock(\u001b[33m\"\u001b[39m\u001b[33mmatmul_local\u001b[39m\u001b[33m\"\u001b[39m):\n",
            "                                    v0 \u001b[35;01m=\u001b[39;00m T\u001b[35;01m.\u001b[39;00maxis\u001b[35;01m.\u001b[39;00mspatial(\u001b[92m2048\u001b[39m, i_0 \u001b[35;01m*\u001b[39;00m \u001b[92m64\u001b[39m \u001b[35;01m+\u001b[39;00m i_1_0 \u001b[35;01m*\u001b[39;00m \u001b[92m4\u001b[39m \u001b[35;01m+\u001b[39;00m ax0)\n",
            "                                    v1 \u001b[35;01m=\u001b[39;00m T\u001b[35;01m.\u001b[39;00maxis\u001b[35;01m.\u001b[39;00mspatial(\u001b[92m2048\u001b[39m, j_0 \u001b[35;01m*\u001b[39;00m \u001b[92m64\u001b[39m \u001b[35;01m+\u001b[39;00m j_1_0 \u001b[35;01m*\u001b[39;00m \u001b[92m4\u001b[39m \u001b[35;01m+\u001b[39;00m ax1)\n",
            "                                    T\u001b[35;01m.\u001b[39;00mreads(matmul_local[v0, v1], C[v0, v1])\n",
            "                                    T\u001b[35;01m.\u001b[39;00mwrites(D[v0, v1])\n",
            "                                    D[v0, v1] \u001b[35;01m=\u001b[39;00m T\u001b[35;01m.\u001b[39;00mmax(matmul_local[v0, v1], T\u001b[35;01m.\u001b[39;00mfloat32(\u001b[92m0.0\u001b[39m)) \u001b[35;01m+\u001b[39;00m C[v0, v1]\n",
            "\n",
            "\u001b[90;03m# from tvm import tir\u001b[39;00m\n",
            "\u001b[32;01mdef\u001b[39;00m \u001b[34;01mapply_trace\u001b[39;00m(sch: tir\u001b[35;01m.\u001b[39;00mSchedule) \u001b[35;01m-\u001b[39;00m\u001b[35;01m>\u001b[39;00m \u001b[32;01mNone\u001b[39;00m:\n",
            "  b0 \u001b[35;01m=\u001b[39;00m sch\u001b[35;01m.\u001b[39;00mget_block(name\u001b[35;01m=\u001b[39;00m\u001b[33m\"\u001b[39m\u001b[33mgemm\u001b[39m\u001b[33m\"\u001b[39m, func_name\u001b[35;01m=\u001b[39;00m\u001b[33m\"\u001b[39m\u001b[33mmain\u001b[39m\u001b[33m\"\u001b[39m)\n",
            "  l1, l2, l3 \u001b[35;01m=\u001b[39;00m sch\u001b[35;01m.\u001b[39;00mget_loops(block\u001b[35;01m=\u001b[39;00mb0)\n",
            "  l4, l5 \u001b[35;01m=\u001b[39;00m sch\u001b[35;01m.\u001b[39;00msplit(loop\u001b[35;01m=\u001b[39;00ml1, factors\u001b[35;01m=\u001b[39;00m[\u001b[32;01mNone\u001b[39;00m, \u001b[92m64\u001b[39m], preserve_unit_iters\u001b[35;01m=\u001b[39;00m\u001b[32;01mTrue\u001b[39;00m, disable_predication\u001b[35;01m=\u001b[39;00m\u001b[32;01mFalse\u001b[39;00m)\n",
            "  l6, l7 \u001b[35;01m=\u001b[39;00m sch\u001b[35;01m.\u001b[39;00msplit(loop\u001b[35;01m=\u001b[39;00ml2, factors\u001b[35;01m=\u001b[39;00m[\u001b[32;01mNone\u001b[39;00m, \u001b[92m64\u001b[39m], preserve_unit_iters\u001b[35;01m=\u001b[39;00m\u001b[32;01mTrue\u001b[39;00m, disable_predication\u001b[35;01m=\u001b[39;00m\u001b[32;01mFalse\u001b[39;00m)\n",
            "  l8, l9 \u001b[35;01m=\u001b[39;00m sch\u001b[35;01m.\u001b[39;00msplit(loop\u001b[35;01m=\u001b[39;00ml3, factors\u001b[35;01m=\u001b[39;00m[\u001b[32;01mNone\u001b[39;00m, \u001b[92m64\u001b[39m], preserve_unit_iters\u001b[35;01m=\u001b[39;00m\u001b[32;01mTrue\u001b[39;00m, disable_predication\u001b[35;01m=\u001b[39;00m\u001b[32;01mFalse\u001b[39;00m)\n",
            "  sch\u001b[35;01m.\u001b[39;00mreorder(l4, l6, l8, l5, l7, l9)\n",
            "  sch\u001b[35;01m.\u001b[39;00mbind(loop\u001b[35;01m=\u001b[39;00ml4, thread_axis\u001b[35;01m=\u001b[39;00m\u001b[33m\"\u001b[39m\u001b[33mblockIdx.x\u001b[39m\u001b[33m\"\u001b[39m)\n",
            "  sch\u001b[35;01m.\u001b[39;00mbind(loop\u001b[35;01m=\u001b[39;00ml6, thread_axis\u001b[35;01m=\u001b[39;00m\u001b[33m\"\u001b[39m\u001b[33mblockIdx.y\u001b[39m\u001b[33m\"\u001b[39m)\n",
            "  b10 \u001b[35;01m=\u001b[39;00m sch\u001b[35;01m.\u001b[39;00mcache_read(block\u001b[35;01m=\u001b[39;00mb0, read_buffer_index\u001b[35;01m=\u001b[39;00m\u001b[92m0\u001b[39m, storage_scope\u001b[35;01m=\u001b[39;00m\u001b[33m\"\u001b[39m\u001b[33mshared\u001b[39m\u001b[33m\"\u001b[39m)\n",
            "  sch\u001b[35;01m.\u001b[39;00mcompute_at(block\u001b[35;01m=\u001b[39;00mb10, loop\u001b[35;01m=\u001b[39;00ml8, preserve_unit_loops\u001b[35;01m=\u001b[39;00m\u001b[32;01mFalse\u001b[39;00m, index\u001b[35;01m=\u001b[39;00m\u001b[35;01m-\u001b[39;00m\u001b[92m1\u001b[39m)\n",
            "  b11 \u001b[35;01m=\u001b[39;00m sch\u001b[35;01m.\u001b[39;00mcache_read(block\u001b[35;01m=\u001b[39;00mb0, read_buffer_index\u001b[35;01m=\u001b[39;00m\u001b[92m1\u001b[39m, storage_scope\u001b[35;01m=\u001b[39;00m\u001b[33m\"\u001b[39m\u001b[33mshared\u001b[39m\u001b[33m\"\u001b[39m)\n",
            "  sch\u001b[35;01m.\u001b[39;00mcompute_at(block\u001b[35;01m=\u001b[39;00mb11, loop\u001b[35;01m=\u001b[39;00ml8, preserve_unit_loops\u001b[35;01m=\u001b[39;00m\u001b[32;01mFalse\u001b[39;00m, index\u001b[35;01m=\u001b[39;00m\u001b[35;01m-\u001b[39;00m\u001b[92m1\u001b[39m)\n",
            "  b12 \u001b[35;01m=\u001b[39;00m sch\u001b[35;01m.\u001b[39;00mget_block(name\u001b[35;01m=\u001b[39;00m\u001b[33m\"\u001b[39m\u001b[33mgemm\u001b[39m\u001b[33m\"\u001b[39m, func_name\u001b[35;01m=\u001b[39;00m\u001b[33m\"\u001b[39m\u001b[33mmain\u001b[39m\u001b[33m\"\u001b[39m)\n",
            "  l13, l14, l15, l16, l17, l18 \u001b[35;01m=\u001b[39;00m sch\u001b[35;01m.\u001b[39;00mget_loops(block\u001b[35;01m=\u001b[39;00mb12)\n",
            "  l19, l20 \u001b[35;01m=\u001b[39;00m sch\u001b[35;01m.\u001b[39;00msplit(loop\u001b[35;01m=\u001b[39;00ml16, factors\u001b[35;01m=\u001b[39;00m[\u001b[32;01mNone\u001b[39;00m, \u001b[92m4\u001b[39m], preserve_unit_iters\u001b[35;01m=\u001b[39;00m\u001b[32;01mTrue\u001b[39;00m, disable_predication\u001b[35;01m=\u001b[39;00m\u001b[32;01mFalse\u001b[39;00m)\n",
            "  l21, l22 \u001b[35;01m=\u001b[39;00m sch\u001b[35;01m.\u001b[39;00msplit(loop\u001b[35;01m=\u001b[39;00ml17, factors\u001b[35;01m=\u001b[39;00m[\u001b[32;01mNone\u001b[39;00m, \u001b[92m4\u001b[39m], preserve_unit_iters\u001b[35;01m=\u001b[39;00m\u001b[32;01mTrue\u001b[39;00m, disable_predication\u001b[35;01m=\u001b[39;00m\u001b[32;01mFalse\u001b[39;00m)\n",
            "  l23, l24 \u001b[35;01m=\u001b[39;00m sch\u001b[35;01m.\u001b[39;00msplit(loop\u001b[35;01m=\u001b[39;00ml18, factors\u001b[35;01m=\u001b[39;00m[\u001b[32;01mNone\u001b[39;00m, \u001b[92m1\u001b[39m], preserve_unit_iters\u001b[35;01m=\u001b[39;00m\u001b[32;01mTrue\u001b[39;00m, disable_predication\u001b[35;01m=\u001b[39;00m\u001b[32;01mFalse\u001b[39;00m)\n",
            "  sch\u001b[35;01m.\u001b[39;00mreorder(l19, l21, l23, l20, l22, l24)\n",
            "  sch\u001b[35;01m.\u001b[39;00mbind(loop\u001b[35;01m=\u001b[39;00ml19, thread_axis\u001b[35;01m=\u001b[39;00m\u001b[33m\"\u001b[39m\u001b[33mthreadIdx.x\u001b[39m\u001b[33m\"\u001b[39m)\n",
            "  sch\u001b[35;01m.\u001b[39;00mbind(loop\u001b[35;01m=\u001b[39;00ml21, thread_axis\u001b[35;01m=\u001b[39;00m\u001b[33m\"\u001b[39m\u001b[33mthreadIdx.y\u001b[39m\u001b[33m\"\u001b[39m)\n",
            "  b25 \u001b[35;01m=\u001b[39;00m sch\u001b[35;01m.\u001b[39;00mcache_read(block\u001b[35;01m=\u001b[39;00mb12, read_buffer_index\u001b[35;01m=\u001b[39;00m\u001b[92m0\u001b[39m, storage_scope\u001b[35;01m=\u001b[39;00m\u001b[33m\"\u001b[39m\u001b[33mlocal\u001b[39m\u001b[33m\"\u001b[39m)\n",
            "  sch\u001b[35;01m.\u001b[39;00mcompute_at(block\u001b[35;01m=\u001b[39;00mb25, loop\u001b[35;01m=\u001b[39;00ml23, preserve_unit_loops\u001b[35;01m=\u001b[39;00m\u001b[32;01mFalse\u001b[39;00m, index\u001b[35;01m=\u001b[39;00m\u001b[35;01m-\u001b[39;00m\u001b[92m1\u001b[39m)\n",
            "  b26 \u001b[35;01m=\u001b[39;00m sch\u001b[35;01m.\u001b[39;00mcache_read(block\u001b[35;01m=\u001b[39;00mb12, read_buffer_index\u001b[35;01m=\u001b[39;00m\u001b[92m1\u001b[39m, storage_scope\u001b[35;01m=\u001b[39;00m\u001b[33m\"\u001b[39m\u001b[33mlocal\u001b[39m\u001b[33m\"\u001b[39m)\n",
            "  sch\u001b[35;01m.\u001b[39;00mcompute_at(block\u001b[35;01m=\u001b[39;00mb26, loop\u001b[35;01m=\u001b[39;00ml23, preserve_unit_loops\u001b[35;01m=\u001b[39;00m\u001b[32;01mFalse\u001b[39;00m, index\u001b[35;01m=\u001b[39;00m\u001b[35;01m-\u001b[39;00m\u001b[92m1\u001b[39m)\n",
            "  l27, l28, l29, l30, l31 \u001b[35;01m=\u001b[39;00m sch\u001b[35;01m.\u001b[39;00mget_loops(block\u001b[35;01m=\u001b[39;00mb10)\n",
            "  l32 \u001b[35;01m=\u001b[39;00m sch\u001b[35;01m.\u001b[39;00mfuse(l30, l31, preserve_unit_iters\u001b[35;01m=\u001b[39;00m\u001b[32;01mTrue\u001b[39;00m)\n",
            "  l33, l34, l35 \u001b[35;01m=\u001b[39;00m sch\u001b[35;01m.\u001b[39;00msplit(loop\u001b[35;01m=\u001b[39;00ml32, factors\u001b[35;01m=\u001b[39;00m[\u001b[32;01mNone\u001b[39;00m, \u001b[92m16\u001b[39m, \u001b[92m16\u001b[39m], preserve_unit_iters\u001b[35;01m=\u001b[39;00m\u001b[32;01mTrue\u001b[39;00m, disable_predication\u001b[35;01m=\u001b[39;00m\u001b[32;01mFalse\u001b[39;00m)\n",
            "  sch\u001b[35;01m.\u001b[39;00mbind(loop\u001b[35;01m=\u001b[39;00ml34, thread_axis\u001b[35;01m=\u001b[39;00m\u001b[33m\"\u001b[39m\u001b[33mthreadIdx.y\u001b[39m\u001b[33m\"\u001b[39m)\n",
            "  sch\u001b[35;01m.\u001b[39;00mbind(loop\u001b[35;01m=\u001b[39;00ml35, thread_axis\u001b[35;01m=\u001b[39;00m\u001b[33m\"\u001b[39m\u001b[33mthreadIdx.x\u001b[39m\u001b[33m\"\u001b[39m)\n",
            "  l36, l37, l38, l39, l40 \u001b[35;01m=\u001b[39;00m sch\u001b[35;01m.\u001b[39;00mget_loops(block\u001b[35;01m=\u001b[39;00mb11)\n",
            "  l41 \u001b[35;01m=\u001b[39;00m sch\u001b[35;01m.\u001b[39;00mfuse(l39, l40, preserve_unit_iters\u001b[35;01m=\u001b[39;00m\u001b[32;01mTrue\u001b[39;00m)\n",
            "  l42, l43, l44 \u001b[35;01m=\u001b[39;00m sch\u001b[35;01m.\u001b[39;00msplit(loop\u001b[35;01m=\u001b[39;00ml41, factors\u001b[35;01m=\u001b[39;00m[\u001b[32;01mNone\u001b[39;00m, \u001b[92m16\u001b[39m, \u001b[92m16\u001b[39m], preserve_unit_iters\u001b[35;01m=\u001b[39;00m\u001b[32;01mTrue\u001b[39;00m, disable_predication\u001b[35;01m=\u001b[39;00m\u001b[32;01mFalse\u001b[39;00m)\n",
            "  sch\u001b[35;01m.\u001b[39;00mbind(loop\u001b[35;01m=\u001b[39;00ml43, thread_axis\u001b[35;01m=\u001b[39;00m\u001b[33m\"\u001b[39m\u001b[33mthreadIdx.y\u001b[39m\u001b[33m\"\u001b[39m)\n",
            "  sch\u001b[35;01m.\u001b[39;00mbind(loop\u001b[35;01m=\u001b[39;00ml44, thread_axis\u001b[35;01m=\u001b[39;00m\u001b[33m\"\u001b[39m\u001b[33mthreadIdx.x\u001b[39m\u001b[33m\"\u001b[39m)\n",
            "  b45 \u001b[35;01m=\u001b[39;00m sch\u001b[35;01m.\u001b[39;00mget_block(name\u001b[35;01m=\u001b[39;00m\u001b[33m\"\u001b[39m\u001b[33mgemm\u001b[39m\u001b[33m\"\u001b[39m, func_name\u001b[35;01m=\u001b[39;00m\u001b[33m\"\u001b[39m\u001b[33mmain\u001b[39m\u001b[33m\"\u001b[39m)\n",
            "  l46, l47, l48, l49, l50, l51, l52, l53, l54 \u001b[35;01m=\u001b[39;00m sch\u001b[35;01m.\u001b[39;00mget_loops(block\u001b[35;01m=\u001b[39;00mb45)\n",
            "  b55 \u001b[35;01m=\u001b[39;00m sch\u001b[35;01m.\u001b[39;00mcache_write(block\u001b[35;01m=\u001b[39;00mb45, write_buffer_index\u001b[35;01m=\u001b[39;00m\u001b[92m0\u001b[39m, storage_scope\u001b[35;01m=\u001b[39;00m\u001b[33m\"\u001b[39m\u001b[33mlocal\u001b[39m\u001b[33m\"\u001b[39m)\n",
            "  sch\u001b[35;01m.\u001b[39;00mreverse_compute_at(block\u001b[35;01m=\u001b[39;00mb55, loop\u001b[35;01m=\u001b[39;00ml50, preserve_unit_loops\u001b[35;01m=\u001b[39;00m\u001b[32;01mFalse\u001b[39;00m, index\u001b[35;01m=\u001b[39;00m\u001b[35;01m-\u001b[39;00m\u001b[92m1\u001b[39m)\n",
            "  b56 \u001b[35;01m=\u001b[39;00m sch\u001b[35;01m.\u001b[39;00mget_block(name\u001b[35;01m=\u001b[39;00m\u001b[33m\"\u001b[39m\u001b[33mrelu\u001b[39m\u001b[33m\"\u001b[39m, func_name\u001b[35;01m=\u001b[39;00m\u001b[33m\"\u001b[39m\u001b[33mmain\u001b[39m\u001b[33m\"\u001b[39m)\n",
            "  b57 \u001b[35;01m=\u001b[39;00m sch\u001b[35;01m.\u001b[39;00mget_block(name\u001b[35;01m=\u001b[39;00m\u001b[33m\"\u001b[39m\u001b[33madd\u001b[39m\u001b[33m\"\u001b[39m, func_name\u001b[35;01m=\u001b[39;00m\u001b[33m\"\u001b[39m\u001b[33mmain\u001b[39m\u001b[33m\"\u001b[39m)\n",
            "  sch\u001b[35;01m.\u001b[39;00mreverse_compute_inline(block\u001b[35;01m=\u001b[39;00mb57)\n",
            "  sch\u001b[35;01m.\u001b[39;00mreverse_compute_inline(block\u001b[35;01m=\u001b[39;00mb56)\n",
            "\n",
            "\u001b[90;03m# from tvm.script import ir as I\u001b[39;00m\n",
            "\u001b[90;03m# from tvm.script import tir as T\u001b[39;00m\n",
            "\n",
            "\u001b[95;03m@I\u001b[39;00m\u001b[35;01m.\u001b[39;00mir_module\n",
            "\u001b[32;01mclass\u001b[39;00m \u001b[34;01mModule\u001b[39;00m:\n",
            "    \u001b[95;03m@T\u001b[39;00m\u001b[35;01m.\u001b[39;00mprim_func\n",
            "    \u001b[32;01mdef\u001b[39;00m \u001b[34;01mmain\u001b[39;00m(A: T\u001b[35;01m.\u001b[39;00mBuffer((\u001b[92m2048\u001b[39m, \u001b[92m2048\u001b[39m), \u001b[33m\"\u001b[39m\u001b[33mfloat32\u001b[39m\u001b[33m\"\u001b[39m), B: T\u001b[35;01m.\u001b[39;00mBuffer((\u001b[92m2048\u001b[39m, \u001b[92m2048\u001b[39m), \u001b[33m\"\u001b[39m\u001b[33mfloat32\u001b[39m\u001b[33m\"\u001b[39m), C: T\u001b[35;01m.\u001b[39;00mBuffer((\u001b[92m2048\u001b[39m, \u001b[92m2048\u001b[39m), \u001b[33m\"\u001b[39m\u001b[33mfloat32\u001b[39m\u001b[33m\"\u001b[39m), D: T\u001b[35;01m.\u001b[39;00mBuffer((\u001b[92m2048\u001b[39m, \u001b[92m2048\u001b[39m), \u001b[33m\"\u001b[39m\u001b[33mfloat32\u001b[39m\u001b[33m\"\u001b[39m)):\n",
            "        T\u001b[35;01m.\u001b[39;00mfunc_attr({\u001b[33m\"\u001b[39m\u001b[33mglobal_symbol\u001b[39m\u001b[33m\"\u001b[39m: \u001b[33m\"\u001b[39m\u001b[33mgemm_relu_add\u001b[39m\u001b[33m\"\u001b[39m})\n",
            "        \u001b[90;03m# with T.block(\"root\"):\u001b[39;00m\n",
            "        A_shared \u001b[35;01m=\u001b[39;00m T\u001b[35;01m.\u001b[39;00malloc_buffer((\u001b[92m2048\u001b[39m, \u001b[92m2048\u001b[39m), scope\u001b[35;01m=\u001b[39;00m\u001b[33m\"\u001b[39m\u001b[33mshared\u001b[39m\u001b[33m\"\u001b[39m)\n",
            "        B_shared \u001b[35;01m=\u001b[39;00m T\u001b[35;01m.\u001b[39;00malloc_buffer((\u001b[92m2048\u001b[39m, \u001b[92m2048\u001b[39m), scope\u001b[35;01m=\u001b[39;00m\u001b[33m\"\u001b[39m\u001b[33mshared\u001b[39m\u001b[33m\"\u001b[39m)\n",
            "        A_shared_local \u001b[35;01m=\u001b[39;00m T\u001b[35;01m.\u001b[39;00malloc_buffer((\u001b[92m2048\u001b[39m, \u001b[92m2048\u001b[39m), scope\u001b[35;01m=\u001b[39;00m\u001b[33m\"\u001b[39m\u001b[33mlocal\u001b[39m\u001b[33m\"\u001b[39m)\n",
            "        B_shared_local \u001b[35;01m=\u001b[39;00m T\u001b[35;01m.\u001b[39;00malloc_buffer((\u001b[92m2048\u001b[39m, \u001b[92m2048\u001b[39m), scope\u001b[35;01m=\u001b[39;00m\u001b[33m\"\u001b[39m\u001b[33mlocal\u001b[39m\u001b[33m\"\u001b[39m)\n",
            "        matmul_local \u001b[35;01m=\u001b[39;00m T\u001b[35;01m.\u001b[39;00malloc_buffer((\u001b[92m2048\u001b[39m, \u001b[92m2048\u001b[39m), scope\u001b[35;01m=\u001b[39;00m\u001b[33m\"\u001b[39m\u001b[33mlocal\u001b[39m\u001b[33m\"\u001b[39m)\n",
            "        \u001b[32;01mfor\u001b[39;00m i_0 \u001b[32;01min\u001b[39;00m T\u001b[35;01m.\u001b[39;00mthread_binding(\u001b[92m32\u001b[39m, thread\u001b[35;01m=\u001b[39;00m\u001b[33m\"\u001b[39m\u001b[33mblockIdx.x\u001b[39m\u001b[33m\"\u001b[39m):\n",
            "            \u001b[32;01mfor\u001b[39;00m j_0 \u001b[32;01min\u001b[39;00m T\u001b[35;01m.\u001b[39;00mthread_binding(\u001b[92m32\u001b[39m, thread\u001b[35;01m=\u001b[39;00m\u001b[33m\"\u001b[39m\u001b[33mblockIdx.y\u001b[39m\u001b[33m\"\u001b[39m):\n",
            "                \u001b[32;01mfor\u001b[39;00m k_0 \u001b[32;01min\u001b[39;00m range(\u001b[92m32\u001b[39m):\n",
            "                    \u001b[32;01mfor\u001b[39;00m ax0_ax1_fused_0 \u001b[32;01min\u001b[39;00m range(\u001b[92m16\u001b[39m):\n",
            "                        \u001b[32;01mfor\u001b[39;00m ax0_ax1_fused_1 \u001b[32;01min\u001b[39;00m T\u001b[35;01m.\u001b[39;00mthread_binding(\u001b[92m16\u001b[39m, thread\u001b[35;01m=\u001b[39;00m\u001b[33m\"\u001b[39m\u001b[33mthreadIdx.y\u001b[39m\u001b[33m\"\u001b[39m):\n",
            "                            \u001b[32;01mfor\u001b[39;00m ax0_ax1_fused_2 \u001b[32;01min\u001b[39;00m T\u001b[35;01m.\u001b[39;00mthread_binding(\u001b[92m16\u001b[39m, thread\u001b[35;01m=\u001b[39;00m\u001b[33m\"\u001b[39m\u001b[33mthreadIdx.x\u001b[39m\u001b[33m\"\u001b[39m):\n",
            "                                \u001b[32;01mwith\u001b[39;00m T\u001b[35;01m.\u001b[39;00mblock(\u001b[33m\"\u001b[39m\u001b[33mA_shared\u001b[39m\u001b[33m\"\u001b[39m):\n",
            "                                    v0 \u001b[35;01m=\u001b[39;00m T\u001b[35;01m.\u001b[39;00maxis\u001b[35;01m.\u001b[39;00mspatial(\u001b[92m2048\u001b[39m, i_0 \u001b[35;01m*\u001b[39;00m \u001b[92m64\u001b[39m \u001b[35;01m+\u001b[39;00m (ax0_ax1_fused_0 \u001b[35;01m*\u001b[39;00m \u001b[92m256\u001b[39m \u001b[35;01m+\u001b[39;00m ax0_ax1_fused_1 \u001b[35;01m*\u001b[39;00m \u001b[92m16\u001b[39m \u001b[35;01m+\u001b[39;00m ax0_ax1_fused_2) \u001b[35;01m/\u001b[39;00m\u001b[35;01m/\u001b[39;00m \u001b[92m64\u001b[39m)\n",
            "                                    v1 \u001b[35;01m=\u001b[39;00m T\u001b[35;01m.\u001b[39;00maxis\u001b[35;01m.\u001b[39;00mspatial(\u001b[92m2048\u001b[39m, k_0 \u001b[35;01m*\u001b[39;00m \u001b[92m64\u001b[39m \u001b[35;01m+\u001b[39;00m (ax0_ax1_fused_0 \u001b[35;01m*\u001b[39;00m \u001b[92m256\u001b[39m \u001b[35;01m+\u001b[39;00m ax0_ax1_fused_1 \u001b[35;01m*\u001b[39;00m \u001b[92m16\u001b[39m \u001b[35;01m+\u001b[39;00m ax0_ax1_fused_2) \u001b[35;01m%\u001b[39;00m \u001b[92m64\u001b[39m)\n",
            "                                    T\u001b[35;01m.\u001b[39;00mreads(A[v0, v1])\n",
            "                                    T\u001b[35;01m.\u001b[39;00mwrites(A_shared[v0, v1])\n",
            "                                    A_shared[v0, v1] \u001b[35;01m=\u001b[39;00m A[v0, v1]\n",
            "                    \u001b[32;01mfor\u001b[39;00m ax0_ax1_fused_0 \u001b[32;01min\u001b[39;00m range(\u001b[92m16\u001b[39m):\n",
            "                        \u001b[32;01mfor\u001b[39;00m ax0_ax1_fused_1 \u001b[32;01min\u001b[39;00m T\u001b[35;01m.\u001b[39;00mthread_binding(\u001b[92m16\u001b[39m, thread\u001b[35;01m=\u001b[39;00m\u001b[33m\"\u001b[39m\u001b[33mthreadIdx.y\u001b[39m\u001b[33m\"\u001b[39m):\n",
            "                            \u001b[32;01mfor\u001b[39;00m ax0_ax1_fused_2 \u001b[32;01min\u001b[39;00m T\u001b[35;01m.\u001b[39;00mthread_binding(\u001b[92m16\u001b[39m, thread\u001b[35;01m=\u001b[39;00m\u001b[33m\"\u001b[39m\u001b[33mthreadIdx.x\u001b[39m\u001b[33m\"\u001b[39m):\n",
            "                                \u001b[32;01mwith\u001b[39;00m T\u001b[35;01m.\u001b[39;00mblock(\u001b[33m\"\u001b[39m\u001b[33mB_shared\u001b[39m\u001b[33m\"\u001b[39m):\n",
            "                                    v0 \u001b[35;01m=\u001b[39;00m T\u001b[35;01m.\u001b[39;00maxis\u001b[35;01m.\u001b[39;00mspatial(\u001b[92m2048\u001b[39m, k_0 \u001b[35;01m*\u001b[39;00m \u001b[92m64\u001b[39m \u001b[35;01m+\u001b[39;00m (ax0_ax1_fused_0 \u001b[35;01m*\u001b[39;00m \u001b[92m256\u001b[39m \u001b[35;01m+\u001b[39;00m ax0_ax1_fused_1 \u001b[35;01m*\u001b[39;00m \u001b[92m16\u001b[39m \u001b[35;01m+\u001b[39;00m ax0_ax1_fused_2) \u001b[35;01m/\u001b[39;00m\u001b[35;01m/\u001b[39;00m \u001b[92m64\u001b[39m)\n",
            "                                    v1 \u001b[35;01m=\u001b[39;00m T\u001b[35;01m.\u001b[39;00maxis\u001b[35;01m.\u001b[39;00mspatial(\u001b[92m2048\u001b[39m, j_0 \u001b[35;01m*\u001b[39;00m \u001b[92m64\u001b[39m \u001b[35;01m+\u001b[39;00m (ax0_ax1_fused_0 \u001b[35;01m*\u001b[39;00m \u001b[92m256\u001b[39m \u001b[35;01m+\u001b[39;00m ax0_ax1_fused_1 \u001b[35;01m*\u001b[39;00m \u001b[92m16\u001b[39m \u001b[35;01m+\u001b[39;00m ax0_ax1_fused_2) \u001b[35;01m%\u001b[39;00m \u001b[92m64\u001b[39m)\n",
            "                                    T\u001b[35;01m.\u001b[39;00mreads(B[v0, v1])\n",
            "                                    T\u001b[35;01m.\u001b[39;00mwrites(B_shared[v0, v1])\n",
            "                                    B_shared[v0, v1] \u001b[35;01m=\u001b[39;00m B[v0, v1]\n",
            "                    \u001b[32;01mfor\u001b[39;00m i_1_0 \u001b[32;01min\u001b[39;00m T\u001b[35;01m.\u001b[39;00mthread_binding(\u001b[92m16\u001b[39m, thread\u001b[35;01m=\u001b[39;00m\u001b[33m\"\u001b[39m\u001b[33mthreadIdx.x\u001b[39m\u001b[33m\"\u001b[39m):\n",
            "                        \u001b[32;01mfor\u001b[39;00m j_1_0 \u001b[32;01min\u001b[39;00m T\u001b[35;01m.\u001b[39;00mthread_binding(\u001b[92m16\u001b[39m, thread\u001b[35;01m=\u001b[39;00m\u001b[33m\"\u001b[39m\u001b[33mthreadIdx.y\u001b[39m\u001b[33m\"\u001b[39m):\n",
            "                            \u001b[32;01mfor\u001b[39;00m k_1_0 \u001b[32;01min\u001b[39;00m range(\u001b[92m64\u001b[39m):\n",
            "                                \u001b[32;01mfor\u001b[39;00m ax0 \u001b[32;01min\u001b[39;00m range(\u001b[92m4\u001b[39m):\n",
            "                                    \u001b[32;01mwith\u001b[39;00m T\u001b[35;01m.\u001b[39;00mblock(\u001b[33m\"\u001b[39m\u001b[33mA_shared_local\u001b[39m\u001b[33m\"\u001b[39m):\n",
            "                                        v0 \u001b[35;01m=\u001b[39;00m T\u001b[35;01m.\u001b[39;00maxis\u001b[35;01m.\u001b[39;00mspatial(\u001b[92m2048\u001b[39m, i_0 \u001b[35;01m*\u001b[39;00m \u001b[92m64\u001b[39m \u001b[35;01m+\u001b[39;00m i_1_0 \u001b[35;01m*\u001b[39;00m \u001b[92m4\u001b[39m \u001b[35;01m+\u001b[39;00m ax0)\n",
            "                                        v1 \u001b[35;01m=\u001b[39;00m T\u001b[35;01m.\u001b[39;00maxis\u001b[35;01m.\u001b[39;00mspatial(\u001b[92m2048\u001b[39m, k_0 \u001b[35;01m*\u001b[39;00m \u001b[92m64\u001b[39m \u001b[35;01m+\u001b[39;00m k_1_0)\n",
            "                                        T\u001b[35;01m.\u001b[39;00mreads(A_shared[v0, v1])\n",
            "                                        T\u001b[35;01m.\u001b[39;00mwrites(A_shared_local[v0, v1])\n",
            "                                        A_shared_local[v0, v1] \u001b[35;01m=\u001b[39;00m A_shared[v0, v1]\n",
            "                                \u001b[32;01mfor\u001b[39;00m ax0 \u001b[32;01min\u001b[39;00m range(\u001b[92m4\u001b[39m):\n",
            "                                    \u001b[32;01mwith\u001b[39;00m T\u001b[35;01m.\u001b[39;00mblock(\u001b[33m\"\u001b[39m\u001b[33mB_shared_local\u001b[39m\u001b[33m\"\u001b[39m):\n",
            "                                        v0 \u001b[35;01m=\u001b[39;00m T\u001b[35;01m.\u001b[39;00maxis\u001b[35;01m.\u001b[39;00mspatial(\u001b[92m2048\u001b[39m, k_0 \u001b[35;01m*\u001b[39;00m \u001b[92m64\u001b[39m \u001b[35;01m+\u001b[39;00m k_1_0)\n",
            "                                        v1 \u001b[35;01m=\u001b[39;00m T\u001b[35;01m.\u001b[39;00maxis\u001b[35;01m.\u001b[39;00mspatial(\u001b[92m2048\u001b[39m, j_0 \u001b[35;01m*\u001b[39;00m \u001b[92m64\u001b[39m \u001b[35;01m+\u001b[39;00m j_1_0 \u001b[35;01m*\u001b[39;00m \u001b[92m4\u001b[39m \u001b[35;01m+\u001b[39;00m ax0)\n",
            "                                        T\u001b[35;01m.\u001b[39;00mreads(B_shared[v0, v1])\n",
            "                                        T\u001b[35;01m.\u001b[39;00mwrites(B_shared_local[v0, v1])\n",
            "                                        B_shared_local[v0, v1] \u001b[35;01m=\u001b[39;00m B_shared[v0, v1]\n",
            "                                \u001b[32;01mfor\u001b[39;00m i_1_1, j_1_1, k_1_1 \u001b[32;01min\u001b[39;00m T\u001b[35;01m.\u001b[39;00mgrid(\u001b[92m4\u001b[39m, \u001b[92m4\u001b[39m, \u001b[92m1\u001b[39m):\n",
            "                                    \u001b[32;01mwith\u001b[39;00m T\u001b[35;01m.\u001b[39;00mblock(\u001b[33m\"\u001b[39m\u001b[33mgemm\u001b[39m\u001b[33m\"\u001b[39m):\n",
            "                                        vi \u001b[35;01m=\u001b[39;00m T\u001b[35;01m.\u001b[39;00maxis\u001b[35;01m.\u001b[39;00mspatial(\u001b[92m2048\u001b[39m, i_0 \u001b[35;01m*\u001b[39;00m \u001b[92m64\u001b[39m \u001b[35;01m+\u001b[39;00m i_1_0 \u001b[35;01m*\u001b[39;00m \u001b[92m4\u001b[39m \u001b[35;01m+\u001b[39;00m i_1_1)\n",
            "                                        vj \u001b[35;01m=\u001b[39;00m T\u001b[35;01m.\u001b[39;00maxis\u001b[35;01m.\u001b[39;00mspatial(\u001b[92m2048\u001b[39m, j_0 \u001b[35;01m*\u001b[39;00m \u001b[92m64\u001b[39m \u001b[35;01m+\u001b[39;00m j_1_0 \u001b[35;01m*\u001b[39;00m \u001b[92m4\u001b[39m \u001b[35;01m+\u001b[39;00m j_1_1)\n",
            "                                        vk \u001b[35;01m=\u001b[39;00m T\u001b[35;01m.\u001b[39;00maxis\u001b[35;01m.\u001b[39;00mreduce(\u001b[92m2048\u001b[39m, k_0 \u001b[35;01m*\u001b[39;00m \u001b[92m64\u001b[39m \u001b[35;01m+\u001b[39;00m k_1_0 \u001b[35;01m+\u001b[39;00m k_1_1)\n",
            "                                        T\u001b[35;01m.\u001b[39;00mreads(A_shared_local[vi, vk], B_shared_local[vk, vj])\n",
            "                                        T\u001b[35;01m.\u001b[39;00mwrites(matmul_local[vi, vj])\n",
            "                                        \u001b[32;01mwith\u001b[39;00m T\u001b[35;01m.\u001b[39;00minit():\n",
            "                                            matmul_local[vi, vj] \u001b[35;01m=\u001b[39;00m T\u001b[35;01m.\u001b[39;00mfloat32(\u001b[92m0.0\u001b[39m)\n",
            "                                        matmul_local[vi, vj] \u001b[35;01m=\u001b[39;00m matmul_local[vi, vj] \u001b[35;01m+\u001b[39;00m A_shared_local[vi, vk] \u001b[35;01m*\u001b[39;00m B_shared_local[vk, vj]\n",
            "                            \u001b[32;01mfor\u001b[39;00m ax0, ax1 \u001b[32;01min\u001b[39;00m T\u001b[35;01m.\u001b[39;00mgrid(\u001b[92m4\u001b[39m, \u001b[92m4\u001b[39m):\n",
            "                                \u001b[32;01mwith\u001b[39;00m T\u001b[35;01m.\u001b[39;00mblock(\u001b[33m\"\u001b[39m\u001b[33mmatmul_local\u001b[39m\u001b[33m\"\u001b[39m):\n",
            "                                    v0 \u001b[35;01m=\u001b[39;00m T\u001b[35;01m.\u001b[39;00maxis\u001b[35;01m.\u001b[39;00mspatial(\u001b[92m2048\u001b[39m, i_0 \u001b[35;01m*\u001b[39;00m \u001b[92m64\u001b[39m \u001b[35;01m+\u001b[39;00m i_1_0 \u001b[35;01m*\u001b[39;00m \u001b[92m4\u001b[39m \u001b[35;01m+\u001b[39;00m ax0)\n",
            "                                    v1 \u001b[35;01m=\u001b[39;00m T\u001b[35;01m.\u001b[39;00maxis\u001b[35;01m.\u001b[39;00mspatial(\u001b[92m2048\u001b[39m, j_0 \u001b[35;01m*\u001b[39;00m \u001b[92m64\u001b[39m \u001b[35;01m+\u001b[39;00m j_1_0 \u001b[35;01m*\u001b[39;00m \u001b[92m4\u001b[39m \u001b[35;01m+\u001b[39;00m ax1)\n",
            "                                    T\u001b[35;01m.\u001b[39;00mreads(matmul_local[v0, v1], C[v0, v1])\n",
            "                                    T\u001b[35;01m.\u001b[39;00mwrites(D[v0, v1])\n",
            "                                    D[v0, v1] \u001b[35;01m=\u001b[39;00m T\u001b[35;01m.\u001b[39;00mmax(matmul_local[v0, v1], T\u001b[35;01m.\u001b[39;00mfloat32(\u001b[92m0.0\u001b[39m)) \u001b[35;01m+\u001b[39;00m C[v0, v1]\n",
            "\n",
            "\u001b[90;03m# from tvm import tir\u001b[39;00m\n",
            "\u001b[32;01mdef\u001b[39;00m \u001b[34;01mapply_trace\u001b[39;00m(sch: tir\u001b[35;01m.\u001b[39;00mSchedule) \u001b[35;01m-\u001b[39;00m\u001b[35;01m>\u001b[39;00m \u001b[32;01mNone\u001b[39;00m:\n",
            "  b0 \u001b[35;01m=\u001b[39;00m sch\u001b[35;01m.\u001b[39;00mget_block(name\u001b[35;01m=\u001b[39;00m\u001b[33m\"\u001b[39m\u001b[33mgemm\u001b[39m\u001b[33m\"\u001b[39m, func_name\u001b[35;01m=\u001b[39;00m\u001b[33m\"\u001b[39m\u001b[33mmain\u001b[39m\u001b[33m\"\u001b[39m)\n",
            "  l1, l2, l3 \u001b[35;01m=\u001b[39;00m sch\u001b[35;01m.\u001b[39;00mget_loops(block\u001b[35;01m=\u001b[39;00mb0)\n",
            "  l4, l5 \u001b[35;01m=\u001b[39;00m sch\u001b[35;01m.\u001b[39;00msplit(loop\u001b[35;01m=\u001b[39;00ml1, factors\u001b[35;01m=\u001b[39;00m[\u001b[32;01mNone\u001b[39;00m, \u001b[92m64\u001b[39m], preserve_unit_iters\u001b[35;01m=\u001b[39;00m\u001b[32;01mTrue\u001b[39;00m, disable_predication\u001b[35;01m=\u001b[39;00m\u001b[32;01mFalse\u001b[39;00m)\n",
            "  l6, l7 \u001b[35;01m=\u001b[39;00m sch\u001b[35;01m.\u001b[39;00msplit(loop\u001b[35;01m=\u001b[39;00ml2, factors\u001b[35;01m=\u001b[39;00m[\u001b[32;01mNone\u001b[39;00m, \u001b[92m64\u001b[39m], preserve_unit_iters\u001b[35;01m=\u001b[39;00m\u001b[32;01mTrue\u001b[39;00m, disable_predication\u001b[35;01m=\u001b[39;00m\u001b[32;01mFalse\u001b[39;00m)\n",
            "  l8, l9 \u001b[35;01m=\u001b[39;00m sch\u001b[35;01m.\u001b[39;00msplit(loop\u001b[35;01m=\u001b[39;00ml3, factors\u001b[35;01m=\u001b[39;00m[\u001b[32;01mNone\u001b[39;00m, \u001b[92m64\u001b[39m], preserve_unit_iters\u001b[35;01m=\u001b[39;00m\u001b[32;01mTrue\u001b[39;00m, disable_predication\u001b[35;01m=\u001b[39;00m\u001b[32;01mFalse\u001b[39;00m)\n",
            "  sch\u001b[35;01m.\u001b[39;00mreorder(l4, l6, l8, l5, l7, l9)\n",
            "  sch\u001b[35;01m.\u001b[39;00mbind(loop\u001b[35;01m=\u001b[39;00ml4, thread_axis\u001b[35;01m=\u001b[39;00m\u001b[33m\"\u001b[39m\u001b[33mblockIdx.x\u001b[39m\u001b[33m\"\u001b[39m)\n",
            "  sch\u001b[35;01m.\u001b[39;00mbind(loop\u001b[35;01m=\u001b[39;00ml6, thread_axis\u001b[35;01m=\u001b[39;00m\u001b[33m\"\u001b[39m\u001b[33mblockIdx.y\u001b[39m\u001b[33m\"\u001b[39m)\n",
            "  b10 \u001b[35;01m=\u001b[39;00m sch\u001b[35;01m.\u001b[39;00mcache_read(block\u001b[35;01m=\u001b[39;00mb0, read_buffer_index\u001b[35;01m=\u001b[39;00m\u001b[92m0\u001b[39m, storage_scope\u001b[35;01m=\u001b[39;00m\u001b[33m\"\u001b[39m\u001b[33mshared\u001b[39m\u001b[33m\"\u001b[39m)\n",
            "  sch\u001b[35;01m.\u001b[39;00mcompute_at(block\u001b[35;01m=\u001b[39;00mb10, loop\u001b[35;01m=\u001b[39;00ml8, preserve_unit_loops\u001b[35;01m=\u001b[39;00m\u001b[32;01mFalse\u001b[39;00m, index\u001b[35;01m=\u001b[39;00m\u001b[35;01m-\u001b[39;00m\u001b[92m1\u001b[39m)\n",
            "  b11 \u001b[35;01m=\u001b[39;00m sch\u001b[35;01m.\u001b[39;00mcache_read(block\u001b[35;01m=\u001b[39;00mb0, read_buffer_index\u001b[35;01m=\u001b[39;00m\u001b[92m1\u001b[39m, storage_scope\u001b[35;01m=\u001b[39;00m\u001b[33m\"\u001b[39m\u001b[33mshared\u001b[39m\u001b[33m\"\u001b[39m)\n",
            "  sch\u001b[35;01m.\u001b[39;00mcompute_at(block\u001b[35;01m=\u001b[39;00mb11, loop\u001b[35;01m=\u001b[39;00ml8, preserve_unit_loops\u001b[35;01m=\u001b[39;00m\u001b[32;01mFalse\u001b[39;00m, index\u001b[35;01m=\u001b[39;00m\u001b[35;01m-\u001b[39;00m\u001b[92m1\u001b[39m)\n",
            "  b12 \u001b[35;01m=\u001b[39;00m sch\u001b[35;01m.\u001b[39;00mget_block(name\u001b[35;01m=\u001b[39;00m\u001b[33m\"\u001b[39m\u001b[33mgemm\u001b[39m\u001b[33m\"\u001b[39m, func_name\u001b[35;01m=\u001b[39;00m\u001b[33m\"\u001b[39m\u001b[33mmain\u001b[39m\u001b[33m\"\u001b[39m)\n",
            "  l13, l14, l15, l16, l17, l18 \u001b[35;01m=\u001b[39;00m sch\u001b[35;01m.\u001b[39;00mget_loops(block\u001b[35;01m=\u001b[39;00mb12)\n",
            "  l19, l20 \u001b[35;01m=\u001b[39;00m sch\u001b[35;01m.\u001b[39;00msplit(loop\u001b[35;01m=\u001b[39;00ml16, factors\u001b[35;01m=\u001b[39;00m[\u001b[32;01mNone\u001b[39;00m, \u001b[92m4\u001b[39m], preserve_unit_iters\u001b[35;01m=\u001b[39;00m\u001b[32;01mTrue\u001b[39;00m, disable_predication\u001b[35;01m=\u001b[39;00m\u001b[32;01mFalse\u001b[39;00m)\n",
            "  l21, l22 \u001b[35;01m=\u001b[39;00m sch\u001b[35;01m.\u001b[39;00msplit(loop\u001b[35;01m=\u001b[39;00ml17, factors\u001b[35;01m=\u001b[39;00m[\u001b[32;01mNone\u001b[39;00m, \u001b[92m4\u001b[39m], preserve_unit_iters\u001b[35;01m=\u001b[39;00m\u001b[32;01mTrue\u001b[39;00m, disable_predication\u001b[35;01m=\u001b[39;00m\u001b[32;01mFalse\u001b[39;00m)\n",
            "  l23, l24 \u001b[35;01m=\u001b[39;00m sch\u001b[35;01m.\u001b[39;00msplit(loop\u001b[35;01m=\u001b[39;00ml18, factors\u001b[35;01m=\u001b[39;00m[\u001b[32;01mNone\u001b[39;00m, \u001b[92m1\u001b[39m], preserve_unit_iters\u001b[35;01m=\u001b[39;00m\u001b[32;01mTrue\u001b[39;00m, disable_predication\u001b[35;01m=\u001b[39;00m\u001b[32;01mFalse\u001b[39;00m)\n",
            "  sch\u001b[35;01m.\u001b[39;00mreorder(l19, l21, l23, l20, l22, l24)\n",
            "  sch\u001b[35;01m.\u001b[39;00mbind(loop\u001b[35;01m=\u001b[39;00ml19, thread_axis\u001b[35;01m=\u001b[39;00m\u001b[33m\"\u001b[39m\u001b[33mthreadIdx.x\u001b[39m\u001b[33m\"\u001b[39m)\n",
            "  sch\u001b[35;01m.\u001b[39;00mbind(loop\u001b[35;01m=\u001b[39;00ml21, thread_axis\u001b[35;01m=\u001b[39;00m\u001b[33m\"\u001b[39m\u001b[33mthreadIdx.y\u001b[39m\u001b[33m\"\u001b[39m)\n",
            "  b25 \u001b[35;01m=\u001b[39;00m sch\u001b[35;01m.\u001b[39;00mcache_read(block\u001b[35;01m=\u001b[39;00mb12, read_buffer_index\u001b[35;01m=\u001b[39;00m\u001b[92m0\u001b[39m, storage_scope\u001b[35;01m=\u001b[39;00m\u001b[33m\"\u001b[39m\u001b[33mlocal\u001b[39m\u001b[33m\"\u001b[39m)\n",
            "  sch\u001b[35;01m.\u001b[39;00mcompute_at(block\u001b[35;01m=\u001b[39;00mb25, loop\u001b[35;01m=\u001b[39;00ml23, preserve_unit_loops\u001b[35;01m=\u001b[39;00m\u001b[32;01mFalse\u001b[39;00m, index\u001b[35;01m=\u001b[39;00m\u001b[35;01m-\u001b[39;00m\u001b[92m1\u001b[39m)\n",
            "  b26 \u001b[35;01m=\u001b[39;00m sch\u001b[35;01m.\u001b[39;00mcache_read(block\u001b[35;01m=\u001b[39;00mb12, read_buffer_index\u001b[35;01m=\u001b[39;00m\u001b[92m1\u001b[39m, storage_scope\u001b[35;01m=\u001b[39;00m\u001b[33m\"\u001b[39m\u001b[33mlocal\u001b[39m\u001b[33m\"\u001b[39m)\n",
            "  sch\u001b[35;01m.\u001b[39;00mcompute_at(block\u001b[35;01m=\u001b[39;00mb26, loop\u001b[35;01m=\u001b[39;00ml23, preserve_unit_loops\u001b[35;01m=\u001b[39;00m\u001b[32;01mFalse\u001b[39;00m, index\u001b[35;01m=\u001b[39;00m\u001b[35;01m-\u001b[39;00m\u001b[92m1\u001b[39m)\n",
            "  l27, l28, l29, l30, l31 \u001b[35;01m=\u001b[39;00m sch\u001b[35;01m.\u001b[39;00mget_loops(block\u001b[35;01m=\u001b[39;00mb10)\n",
            "  l32 \u001b[35;01m=\u001b[39;00m sch\u001b[35;01m.\u001b[39;00mfuse(l30, l31, preserve_unit_iters\u001b[35;01m=\u001b[39;00m\u001b[32;01mTrue\u001b[39;00m)\n",
            "  l33, l34, l35 \u001b[35;01m=\u001b[39;00m sch\u001b[35;01m.\u001b[39;00msplit(loop\u001b[35;01m=\u001b[39;00ml32, factors\u001b[35;01m=\u001b[39;00m[\u001b[32;01mNone\u001b[39;00m, \u001b[92m16\u001b[39m, \u001b[92m16\u001b[39m], preserve_unit_iters\u001b[35;01m=\u001b[39;00m\u001b[32;01mTrue\u001b[39;00m, disable_predication\u001b[35;01m=\u001b[39;00m\u001b[32;01mFalse\u001b[39;00m)\n",
            "  sch\u001b[35;01m.\u001b[39;00mbind(loop\u001b[35;01m=\u001b[39;00ml34, thread_axis\u001b[35;01m=\u001b[39;00m\u001b[33m\"\u001b[39m\u001b[33mthreadIdx.y\u001b[39m\u001b[33m\"\u001b[39m)\n",
            "  sch\u001b[35;01m.\u001b[39;00mbind(loop\u001b[35;01m=\u001b[39;00ml35, thread_axis\u001b[35;01m=\u001b[39;00m\u001b[33m\"\u001b[39m\u001b[33mthreadIdx.x\u001b[39m\u001b[33m\"\u001b[39m)\n",
            "  l36, l37, l38, l39, l40 \u001b[35;01m=\u001b[39;00m sch\u001b[35;01m.\u001b[39;00mget_loops(block\u001b[35;01m=\u001b[39;00mb11)\n",
            "  l41 \u001b[35;01m=\u001b[39;00m sch\u001b[35;01m.\u001b[39;00mfuse(l39, l40, preserve_unit_iters\u001b[35;01m=\u001b[39;00m\u001b[32;01mTrue\u001b[39;00m)\n",
            "  l42, l43, l44 \u001b[35;01m=\u001b[39;00m sch\u001b[35;01m.\u001b[39;00msplit(loop\u001b[35;01m=\u001b[39;00ml41, factors\u001b[35;01m=\u001b[39;00m[\u001b[32;01mNone\u001b[39;00m, \u001b[92m16\u001b[39m, \u001b[92m16\u001b[39m], preserve_unit_iters\u001b[35;01m=\u001b[39;00m\u001b[32;01mTrue\u001b[39;00m, disable_predication\u001b[35;01m=\u001b[39;00m\u001b[32;01mFalse\u001b[39;00m)\n",
            "  sch\u001b[35;01m.\u001b[39;00mbind(loop\u001b[35;01m=\u001b[39;00ml43, thread_axis\u001b[35;01m=\u001b[39;00m\u001b[33m\"\u001b[39m\u001b[33mthreadIdx.y\u001b[39m\u001b[33m\"\u001b[39m)\n",
            "  sch\u001b[35;01m.\u001b[39;00mbind(loop\u001b[35;01m=\u001b[39;00ml44, thread_axis\u001b[35;01m=\u001b[39;00m\u001b[33m\"\u001b[39m\u001b[33mthreadIdx.x\u001b[39m\u001b[33m\"\u001b[39m)\n",
            "  b45 \u001b[35;01m=\u001b[39;00m sch\u001b[35;01m.\u001b[39;00mget_block(name\u001b[35;01m=\u001b[39;00m\u001b[33m\"\u001b[39m\u001b[33mgemm\u001b[39m\u001b[33m\"\u001b[39m, func_name\u001b[35;01m=\u001b[39;00m\u001b[33m\"\u001b[39m\u001b[33mmain\u001b[39m\u001b[33m\"\u001b[39m)\n",
            "  l46, l47, l48, l49, l50, l51, l52, l53, l54 \u001b[35;01m=\u001b[39;00m sch\u001b[35;01m.\u001b[39;00mget_loops(block\u001b[35;01m=\u001b[39;00mb45)\n",
            "  b55 \u001b[35;01m=\u001b[39;00m sch\u001b[35;01m.\u001b[39;00mcache_write(block\u001b[35;01m=\u001b[39;00mb45, write_buffer_index\u001b[35;01m=\u001b[39;00m\u001b[92m0\u001b[39m, storage_scope\u001b[35;01m=\u001b[39;00m\u001b[33m\"\u001b[39m\u001b[33mlocal\u001b[39m\u001b[33m\"\u001b[39m)\n",
            "  sch\u001b[35;01m.\u001b[39;00mreverse_compute_at(block\u001b[35;01m=\u001b[39;00mb55, loop\u001b[35;01m=\u001b[39;00ml50, preserve_unit_loops\u001b[35;01m=\u001b[39;00m\u001b[32;01mFalse\u001b[39;00m, index\u001b[35;01m=\u001b[39;00m\u001b[35;01m-\u001b[39;00m\u001b[92m1\u001b[39m)\n",
            "  b56 \u001b[35;01m=\u001b[39;00m sch\u001b[35;01m.\u001b[39;00mget_block(name\u001b[35;01m=\u001b[39;00m\u001b[33m\"\u001b[39m\u001b[33mrelu\u001b[39m\u001b[33m\"\u001b[39m, func_name\u001b[35;01m=\u001b[39;00m\u001b[33m\"\u001b[39m\u001b[33mmain\u001b[39m\u001b[33m\"\u001b[39m)\n",
            "  b57 \u001b[35;01m=\u001b[39;00m sch\u001b[35;01m.\u001b[39;00mget_block(name\u001b[35;01m=\u001b[39;00m\u001b[33m\"\u001b[39m\u001b[33madd\u001b[39m\u001b[33m\"\u001b[39m, func_name\u001b[35;01m=\u001b[39;00m\u001b[33m\"\u001b[39m\u001b[33mmain\u001b[39m\u001b[33m\"\u001b[39m)\n",
            "  sch\u001b[35;01m.\u001b[39;00mreverse_compute_inline(block\u001b[35;01m=\u001b[39;00mb57)\n",
            "  sch\u001b[35;01m.\u001b[39;00mreverse_compute_inline(block\u001b[35;01m=\u001b[39;00mb56)\n",
            "\n"
          ]
        }
      ],
      "source": [
        "!python3 gemm_relu_add.py"
      ]
    },
    {
      "cell_type": "markdown",
      "metadata": {
        "id": "Ae-TvygM1BAu"
      },
      "source": [
        "### Task 5. Epilogue Fusion (10 pt)\n",
        "\n",
        "The subsections above include the common techniques people use\n",
        "to optimize a GeMM workload.\n",
        "Now we can take care of the ReLU and add operators.\n",
        "Though these two operators are computation-wise much more lightweight\n",
        "compared to the GeMM,\n",
        "right now they still account for a quite amount of time,\n",
        "since they need to read/write directly from/to global memory.\n",
        "This can be optimized by inlining the lightweight epilogue operators\n",
        "into the write-back stage of the scheduled GeMM workload,\n",
        "where the result of GeMM is still in registers.\n",
        "This optimizes the redundant memory accesses.\n"
      ]
    },
    {
      "cell_type": "markdown",
      "metadata": {
        "id": "oRiwS2ud1BAu"
      },
      "source": [
        "You need to implement the epilogue fusion in the `epilogue_fusion` function in `gemm_relu_add.py`,\n",
        "where you will use `get_block` to retrieve the computation of addition and ReLU,\n",
        "and use `reverse_compute_inline` [(docs)](https://tvm.apache.org/docs/reference/api/python/tir/schedule.html#tvm.tir.schedule.Schedule.reverse_compute_inline)\n",
        "to inline the addition and ReLU into the write-back stage of GeMM."
      ]
    },
    {
      "cell_type": "code",
      "execution_count": 7,
      "metadata": {
        "colab": {
          "base_uri": "https://localhost:8080/"
        },
        "id": "kGG_iMUA1BAv",
        "outputId": "e7f499b9-ce8a-4c63-c23f-ee3d8240bf94"
      },
      "outputs": [
        {
          "output_type": "stream",
          "name": "stdout",
          "text": [
            "\u001b[90;03m# from tvm.script import ir as I\u001b[39;00m\n",
            "\u001b[90;03m# from tvm.script import tir as T\u001b[39;00m\n",
            "\n",
            "\u001b[95;03m@I\u001b[39;00m\u001b[35;01m.\u001b[39;00mir_module\n",
            "\u001b[32;01mclass\u001b[39;00m \u001b[34;01mModule\u001b[39;00m:\n",
            "    \u001b[95;03m@T\u001b[39;00m\u001b[35;01m.\u001b[39;00mprim_func\n",
            "    \u001b[32;01mdef\u001b[39;00m \u001b[34;01mmain\u001b[39;00m(A: T\u001b[35;01m.\u001b[39;00mBuffer((\u001b[92m2048\u001b[39m, \u001b[92m2048\u001b[39m), \u001b[33m\"\u001b[39m\u001b[33mfloat32\u001b[39m\u001b[33m\"\u001b[39m), B: T\u001b[35;01m.\u001b[39;00mBuffer((\u001b[92m2048\u001b[39m, \u001b[92m2048\u001b[39m), \u001b[33m\"\u001b[39m\u001b[33mfloat32\u001b[39m\u001b[33m\"\u001b[39m), C: T\u001b[35;01m.\u001b[39;00mBuffer((\u001b[92m2048\u001b[39m, \u001b[92m2048\u001b[39m), \u001b[33m\"\u001b[39m\u001b[33mfloat32\u001b[39m\u001b[33m\"\u001b[39m), D: T\u001b[35;01m.\u001b[39;00mBuffer((\u001b[92m2048\u001b[39m, \u001b[92m2048\u001b[39m), \u001b[33m\"\u001b[39m\u001b[33mfloat32\u001b[39m\u001b[33m\"\u001b[39m)):\n",
            "        T\u001b[35;01m.\u001b[39;00mfunc_attr({\u001b[33m\"\u001b[39m\u001b[33mglobal_symbol\u001b[39m\u001b[33m\"\u001b[39m: \u001b[33m\"\u001b[39m\u001b[33mgemm_relu_add\u001b[39m\u001b[33m\"\u001b[39m})\n",
            "        \u001b[90;03m# with T.block(\"root\"):\u001b[39;00m\n",
            "        A_shared \u001b[35;01m=\u001b[39;00m T\u001b[35;01m.\u001b[39;00malloc_buffer((\u001b[92m2048\u001b[39m, \u001b[92m2048\u001b[39m), scope\u001b[35;01m=\u001b[39;00m\u001b[33m\"\u001b[39m\u001b[33mshared\u001b[39m\u001b[33m\"\u001b[39m)\n",
            "        B_shared \u001b[35;01m=\u001b[39;00m T\u001b[35;01m.\u001b[39;00malloc_buffer((\u001b[92m2048\u001b[39m, \u001b[92m2048\u001b[39m), scope\u001b[35;01m=\u001b[39;00m\u001b[33m\"\u001b[39m\u001b[33mshared\u001b[39m\u001b[33m\"\u001b[39m)\n",
            "        A_shared_local \u001b[35;01m=\u001b[39;00m T\u001b[35;01m.\u001b[39;00malloc_buffer((\u001b[92m2048\u001b[39m, \u001b[92m2048\u001b[39m), scope\u001b[35;01m=\u001b[39;00m\u001b[33m\"\u001b[39m\u001b[33mlocal\u001b[39m\u001b[33m\"\u001b[39m)\n",
            "        B_shared_local \u001b[35;01m=\u001b[39;00m T\u001b[35;01m.\u001b[39;00malloc_buffer((\u001b[92m2048\u001b[39m, \u001b[92m2048\u001b[39m), scope\u001b[35;01m=\u001b[39;00m\u001b[33m\"\u001b[39m\u001b[33mlocal\u001b[39m\u001b[33m\"\u001b[39m)\n",
            "        matmul_local \u001b[35;01m=\u001b[39;00m T\u001b[35;01m.\u001b[39;00malloc_buffer((\u001b[92m2048\u001b[39m, \u001b[92m2048\u001b[39m), scope\u001b[35;01m=\u001b[39;00m\u001b[33m\"\u001b[39m\u001b[33mlocal\u001b[39m\u001b[33m\"\u001b[39m)\n",
            "        \u001b[32;01mfor\u001b[39;00m i_0 \u001b[32;01min\u001b[39;00m T\u001b[35;01m.\u001b[39;00mthread_binding(\u001b[92m32\u001b[39m, thread\u001b[35;01m=\u001b[39;00m\u001b[33m\"\u001b[39m\u001b[33mblockIdx.x\u001b[39m\u001b[33m\"\u001b[39m):\n",
            "            \u001b[32;01mfor\u001b[39;00m j_0 \u001b[32;01min\u001b[39;00m T\u001b[35;01m.\u001b[39;00mthread_binding(\u001b[92m32\u001b[39m, thread\u001b[35;01m=\u001b[39;00m\u001b[33m\"\u001b[39m\u001b[33mblockIdx.y\u001b[39m\u001b[33m\"\u001b[39m):\n",
            "                \u001b[32;01mfor\u001b[39;00m k_0 \u001b[32;01min\u001b[39;00m range(\u001b[92m32\u001b[39m):\n",
            "                    \u001b[32;01mfor\u001b[39;00m ax0_ax1_fused_0 \u001b[32;01min\u001b[39;00m range(\u001b[92m16\u001b[39m):\n",
            "                        \u001b[32;01mfor\u001b[39;00m ax0_ax1_fused_1 \u001b[32;01min\u001b[39;00m T\u001b[35;01m.\u001b[39;00mthread_binding(\u001b[92m16\u001b[39m, thread\u001b[35;01m=\u001b[39;00m\u001b[33m\"\u001b[39m\u001b[33mthreadIdx.y\u001b[39m\u001b[33m\"\u001b[39m):\n",
            "                            \u001b[32;01mfor\u001b[39;00m ax0_ax1_fused_2 \u001b[32;01min\u001b[39;00m T\u001b[35;01m.\u001b[39;00mthread_binding(\u001b[92m16\u001b[39m, thread\u001b[35;01m=\u001b[39;00m\u001b[33m\"\u001b[39m\u001b[33mthreadIdx.x\u001b[39m\u001b[33m\"\u001b[39m):\n",
            "                                \u001b[32;01mwith\u001b[39;00m T\u001b[35;01m.\u001b[39;00mblock(\u001b[33m\"\u001b[39m\u001b[33mA_shared\u001b[39m\u001b[33m\"\u001b[39m):\n",
            "                                    v0 \u001b[35;01m=\u001b[39;00m T\u001b[35;01m.\u001b[39;00maxis\u001b[35;01m.\u001b[39;00mspatial(\u001b[92m2048\u001b[39m, i_0 \u001b[35;01m*\u001b[39;00m \u001b[92m64\u001b[39m \u001b[35;01m+\u001b[39;00m (ax0_ax1_fused_0 \u001b[35;01m*\u001b[39;00m \u001b[92m256\u001b[39m \u001b[35;01m+\u001b[39;00m ax0_ax1_fused_1 \u001b[35;01m*\u001b[39;00m \u001b[92m16\u001b[39m \u001b[35;01m+\u001b[39;00m ax0_ax1_fused_2) \u001b[35;01m/\u001b[39;00m\u001b[35;01m/\u001b[39;00m \u001b[92m64\u001b[39m)\n",
            "                                    v1 \u001b[35;01m=\u001b[39;00m T\u001b[35;01m.\u001b[39;00maxis\u001b[35;01m.\u001b[39;00mspatial(\u001b[92m2048\u001b[39m, k_0 \u001b[35;01m*\u001b[39;00m \u001b[92m64\u001b[39m \u001b[35;01m+\u001b[39;00m (ax0_ax1_fused_0 \u001b[35;01m*\u001b[39;00m \u001b[92m256\u001b[39m \u001b[35;01m+\u001b[39;00m ax0_ax1_fused_1 \u001b[35;01m*\u001b[39;00m \u001b[92m16\u001b[39m \u001b[35;01m+\u001b[39;00m ax0_ax1_fused_2) \u001b[35;01m%\u001b[39;00m \u001b[92m64\u001b[39m)\n",
            "                                    T\u001b[35;01m.\u001b[39;00mreads(A[v0, v1])\n",
            "                                    T\u001b[35;01m.\u001b[39;00mwrites(A_shared[v0, v1])\n",
            "                                    A_shared[v0, v1] \u001b[35;01m=\u001b[39;00m A[v0, v1]\n",
            "                    \u001b[32;01mfor\u001b[39;00m ax0_ax1_fused_0 \u001b[32;01min\u001b[39;00m range(\u001b[92m16\u001b[39m):\n",
            "                        \u001b[32;01mfor\u001b[39;00m ax0_ax1_fused_1 \u001b[32;01min\u001b[39;00m T\u001b[35;01m.\u001b[39;00mthread_binding(\u001b[92m16\u001b[39m, thread\u001b[35;01m=\u001b[39;00m\u001b[33m\"\u001b[39m\u001b[33mthreadIdx.y\u001b[39m\u001b[33m\"\u001b[39m):\n",
            "                            \u001b[32;01mfor\u001b[39;00m ax0_ax1_fused_2 \u001b[32;01min\u001b[39;00m T\u001b[35;01m.\u001b[39;00mthread_binding(\u001b[92m16\u001b[39m, thread\u001b[35;01m=\u001b[39;00m\u001b[33m\"\u001b[39m\u001b[33mthreadIdx.x\u001b[39m\u001b[33m\"\u001b[39m):\n",
            "                                \u001b[32;01mwith\u001b[39;00m T\u001b[35;01m.\u001b[39;00mblock(\u001b[33m\"\u001b[39m\u001b[33mB_shared\u001b[39m\u001b[33m\"\u001b[39m):\n",
            "                                    v0 \u001b[35;01m=\u001b[39;00m T\u001b[35;01m.\u001b[39;00maxis\u001b[35;01m.\u001b[39;00mspatial(\u001b[92m2048\u001b[39m, k_0 \u001b[35;01m*\u001b[39;00m \u001b[92m64\u001b[39m \u001b[35;01m+\u001b[39;00m (ax0_ax1_fused_0 \u001b[35;01m*\u001b[39;00m \u001b[92m256\u001b[39m \u001b[35;01m+\u001b[39;00m ax0_ax1_fused_1 \u001b[35;01m*\u001b[39;00m \u001b[92m16\u001b[39m \u001b[35;01m+\u001b[39;00m ax0_ax1_fused_2) \u001b[35;01m/\u001b[39;00m\u001b[35;01m/\u001b[39;00m \u001b[92m64\u001b[39m)\n",
            "                                    v1 \u001b[35;01m=\u001b[39;00m T\u001b[35;01m.\u001b[39;00maxis\u001b[35;01m.\u001b[39;00mspatial(\u001b[92m2048\u001b[39m, j_0 \u001b[35;01m*\u001b[39;00m \u001b[92m64\u001b[39m \u001b[35;01m+\u001b[39;00m (ax0_ax1_fused_0 \u001b[35;01m*\u001b[39;00m \u001b[92m256\u001b[39m \u001b[35;01m+\u001b[39;00m ax0_ax1_fused_1 \u001b[35;01m*\u001b[39;00m \u001b[92m16\u001b[39m \u001b[35;01m+\u001b[39;00m ax0_ax1_fused_2) \u001b[35;01m%\u001b[39;00m \u001b[92m64\u001b[39m)\n",
            "                                    T\u001b[35;01m.\u001b[39;00mreads(B[v0, v1])\n",
            "                                    T\u001b[35;01m.\u001b[39;00mwrites(B_shared[v0, v1])\n",
            "                                    B_shared[v0, v1] \u001b[35;01m=\u001b[39;00m B[v0, v1]\n",
            "                    \u001b[32;01mfor\u001b[39;00m i_1_0 \u001b[32;01min\u001b[39;00m T\u001b[35;01m.\u001b[39;00mthread_binding(\u001b[92m16\u001b[39m, thread\u001b[35;01m=\u001b[39;00m\u001b[33m\"\u001b[39m\u001b[33mthreadIdx.x\u001b[39m\u001b[33m\"\u001b[39m):\n",
            "                        \u001b[32;01mfor\u001b[39;00m j_1_0 \u001b[32;01min\u001b[39;00m T\u001b[35;01m.\u001b[39;00mthread_binding(\u001b[92m16\u001b[39m, thread\u001b[35;01m=\u001b[39;00m\u001b[33m\"\u001b[39m\u001b[33mthreadIdx.y\u001b[39m\u001b[33m\"\u001b[39m):\n",
            "                            \u001b[32;01mfor\u001b[39;00m k_1_0 \u001b[32;01min\u001b[39;00m range(\u001b[92m64\u001b[39m):\n",
            "                                \u001b[32;01mfor\u001b[39;00m ax0 \u001b[32;01min\u001b[39;00m range(\u001b[92m4\u001b[39m):\n",
            "                                    \u001b[32;01mwith\u001b[39;00m T\u001b[35;01m.\u001b[39;00mblock(\u001b[33m\"\u001b[39m\u001b[33mA_shared_local\u001b[39m\u001b[33m\"\u001b[39m):\n",
            "                                        v0 \u001b[35;01m=\u001b[39;00m T\u001b[35;01m.\u001b[39;00maxis\u001b[35;01m.\u001b[39;00mspatial(\u001b[92m2048\u001b[39m, i_0 \u001b[35;01m*\u001b[39;00m \u001b[92m64\u001b[39m \u001b[35;01m+\u001b[39;00m i_1_0 \u001b[35;01m*\u001b[39;00m \u001b[92m4\u001b[39m \u001b[35;01m+\u001b[39;00m ax0)\n",
            "                                        v1 \u001b[35;01m=\u001b[39;00m T\u001b[35;01m.\u001b[39;00maxis\u001b[35;01m.\u001b[39;00mspatial(\u001b[92m2048\u001b[39m, k_0 \u001b[35;01m*\u001b[39;00m \u001b[92m64\u001b[39m \u001b[35;01m+\u001b[39;00m k_1_0)\n",
            "                                        T\u001b[35;01m.\u001b[39;00mreads(A_shared[v0, v1])\n",
            "                                        T\u001b[35;01m.\u001b[39;00mwrites(A_shared_local[v0, v1])\n",
            "                                        A_shared_local[v0, v1] \u001b[35;01m=\u001b[39;00m A_shared[v0, v1]\n",
            "                                \u001b[32;01mfor\u001b[39;00m ax0 \u001b[32;01min\u001b[39;00m range(\u001b[92m4\u001b[39m):\n",
            "                                    \u001b[32;01mwith\u001b[39;00m T\u001b[35;01m.\u001b[39;00mblock(\u001b[33m\"\u001b[39m\u001b[33mB_shared_local\u001b[39m\u001b[33m\"\u001b[39m):\n",
            "                                        v0 \u001b[35;01m=\u001b[39;00m T\u001b[35;01m.\u001b[39;00maxis\u001b[35;01m.\u001b[39;00mspatial(\u001b[92m2048\u001b[39m, k_0 \u001b[35;01m*\u001b[39;00m \u001b[92m64\u001b[39m \u001b[35;01m+\u001b[39;00m k_1_0)\n",
            "                                        v1 \u001b[35;01m=\u001b[39;00m T\u001b[35;01m.\u001b[39;00maxis\u001b[35;01m.\u001b[39;00mspatial(\u001b[92m2048\u001b[39m, j_0 \u001b[35;01m*\u001b[39;00m \u001b[92m64\u001b[39m \u001b[35;01m+\u001b[39;00m j_1_0 \u001b[35;01m*\u001b[39;00m \u001b[92m4\u001b[39m \u001b[35;01m+\u001b[39;00m ax0)\n",
            "                                        T\u001b[35;01m.\u001b[39;00mreads(B_shared[v0, v1])\n",
            "                                        T\u001b[35;01m.\u001b[39;00mwrites(B_shared_local[v0, v1])\n",
            "                                        B_shared_local[v0, v1] \u001b[35;01m=\u001b[39;00m B_shared[v0, v1]\n",
            "                                \u001b[32;01mfor\u001b[39;00m i_1_1, j_1_1, k_1_1 \u001b[32;01min\u001b[39;00m T\u001b[35;01m.\u001b[39;00mgrid(\u001b[92m4\u001b[39m, \u001b[92m4\u001b[39m, \u001b[92m1\u001b[39m):\n",
            "                                    \u001b[32;01mwith\u001b[39;00m T\u001b[35;01m.\u001b[39;00mblock(\u001b[33m\"\u001b[39m\u001b[33mgemm\u001b[39m\u001b[33m\"\u001b[39m):\n",
            "                                        vi \u001b[35;01m=\u001b[39;00m T\u001b[35;01m.\u001b[39;00maxis\u001b[35;01m.\u001b[39;00mspatial(\u001b[92m2048\u001b[39m, i_0 \u001b[35;01m*\u001b[39;00m \u001b[92m64\u001b[39m \u001b[35;01m+\u001b[39;00m i_1_0 \u001b[35;01m*\u001b[39;00m \u001b[92m4\u001b[39m \u001b[35;01m+\u001b[39;00m i_1_1)\n",
            "                                        vj \u001b[35;01m=\u001b[39;00m T\u001b[35;01m.\u001b[39;00maxis\u001b[35;01m.\u001b[39;00mspatial(\u001b[92m2048\u001b[39m, j_0 \u001b[35;01m*\u001b[39;00m \u001b[92m64\u001b[39m \u001b[35;01m+\u001b[39;00m j_1_0 \u001b[35;01m*\u001b[39;00m \u001b[92m4\u001b[39m \u001b[35;01m+\u001b[39;00m j_1_1)\n",
            "                                        vk \u001b[35;01m=\u001b[39;00m T\u001b[35;01m.\u001b[39;00maxis\u001b[35;01m.\u001b[39;00mreduce(\u001b[92m2048\u001b[39m, k_0 \u001b[35;01m*\u001b[39;00m \u001b[92m64\u001b[39m \u001b[35;01m+\u001b[39;00m k_1_0 \u001b[35;01m+\u001b[39;00m k_1_1)\n",
            "                                        T\u001b[35;01m.\u001b[39;00mreads(A_shared_local[vi, vk], B_shared_local[vk, vj])\n",
            "                                        T\u001b[35;01m.\u001b[39;00mwrites(matmul_local[vi, vj])\n",
            "                                        \u001b[32;01mwith\u001b[39;00m T\u001b[35;01m.\u001b[39;00minit():\n",
            "                                            matmul_local[vi, vj] \u001b[35;01m=\u001b[39;00m T\u001b[35;01m.\u001b[39;00mfloat32(\u001b[92m0.0\u001b[39m)\n",
            "                                        matmul_local[vi, vj] \u001b[35;01m=\u001b[39;00m matmul_local[vi, vj] \u001b[35;01m+\u001b[39;00m A_shared_local[vi, vk] \u001b[35;01m*\u001b[39;00m B_shared_local[vk, vj]\n",
            "                            \u001b[32;01mfor\u001b[39;00m ax0, ax1 \u001b[32;01min\u001b[39;00m T\u001b[35;01m.\u001b[39;00mgrid(\u001b[92m4\u001b[39m, \u001b[92m4\u001b[39m):\n",
            "                                \u001b[32;01mwith\u001b[39;00m T\u001b[35;01m.\u001b[39;00mblock(\u001b[33m\"\u001b[39m\u001b[33mmatmul_local\u001b[39m\u001b[33m\"\u001b[39m):\n",
            "                                    v0 \u001b[35;01m=\u001b[39;00m T\u001b[35;01m.\u001b[39;00maxis\u001b[35;01m.\u001b[39;00mspatial(\u001b[92m2048\u001b[39m, i_0 \u001b[35;01m*\u001b[39;00m \u001b[92m64\u001b[39m \u001b[35;01m+\u001b[39;00m i_1_0 \u001b[35;01m*\u001b[39;00m \u001b[92m4\u001b[39m \u001b[35;01m+\u001b[39;00m ax0)\n",
            "                                    v1 \u001b[35;01m=\u001b[39;00m T\u001b[35;01m.\u001b[39;00maxis\u001b[35;01m.\u001b[39;00mspatial(\u001b[92m2048\u001b[39m, j_0 \u001b[35;01m*\u001b[39;00m \u001b[92m64\u001b[39m \u001b[35;01m+\u001b[39;00m j_1_0 \u001b[35;01m*\u001b[39;00m \u001b[92m4\u001b[39m \u001b[35;01m+\u001b[39;00m ax1)\n",
            "                                    T\u001b[35;01m.\u001b[39;00mreads(matmul_local[v0, v1], C[v0, v1])\n",
            "                                    T\u001b[35;01m.\u001b[39;00mwrites(D[v0, v1])\n",
            "                                    D[v0, v1] \u001b[35;01m=\u001b[39;00m T\u001b[35;01m.\u001b[39;00mmax(matmul_local[v0, v1], T\u001b[35;01m.\u001b[39;00mfloat32(\u001b[92m0.0\u001b[39m)) \u001b[35;01m+\u001b[39;00m C[v0, v1]\n",
            "\n",
            "\u001b[90;03m# from tvm import tir\u001b[39;00m\n",
            "\u001b[32;01mdef\u001b[39;00m \u001b[34;01mapply_trace\u001b[39;00m(sch: tir\u001b[35;01m.\u001b[39;00mSchedule) \u001b[35;01m-\u001b[39;00m\u001b[35;01m>\u001b[39;00m \u001b[32;01mNone\u001b[39;00m:\n",
            "  b0 \u001b[35;01m=\u001b[39;00m sch\u001b[35;01m.\u001b[39;00mget_block(name\u001b[35;01m=\u001b[39;00m\u001b[33m\"\u001b[39m\u001b[33mgemm\u001b[39m\u001b[33m\"\u001b[39m, func_name\u001b[35;01m=\u001b[39;00m\u001b[33m\"\u001b[39m\u001b[33mmain\u001b[39m\u001b[33m\"\u001b[39m)\n",
            "  l1, l2, l3 \u001b[35;01m=\u001b[39;00m sch\u001b[35;01m.\u001b[39;00mget_loops(block\u001b[35;01m=\u001b[39;00mb0)\n",
            "  l4, l5 \u001b[35;01m=\u001b[39;00m sch\u001b[35;01m.\u001b[39;00msplit(loop\u001b[35;01m=\u001b[39;00ml1, factors\u001b[35;01m=\u001b[39;00m[\u001b[32;01mNone\u001b[39;00m, \u001b[92m64\u001b[39m], preserve_unit_iters\u001b[35;01m=\u001b[39;00m\u001b[32;01mTrue\u001b[39;00m, disable_predication\u001b[35;01m=\u001b[39;00m\u001b[32;01mFalse\u001b[39;00m)\n",
            "  l6, l7 \u001b[35;01m=\u001b[39;00m sch\u001b[35;01m.\u001b[39;00msplit(loop\u001b[35;01m=\u001b[39;00ml2, factors\u001b[35;01m=\u001b[39;00m[\u001b[32;01mNone\u001b[39;00m, \u001b[92m64\u001b[39m], preserve_unit_iters\u001b[35;01m=\u001b[39;00m\u001b[32;01mTrue\u001b[39;00m, disable_predication\u001b[35;01m=\u001b[39;00m\u001b[32;01mFalse\u001b[39;00m)\n",
            "  l8, l9 \u001b[35;01m=\u001b[39;00m sch\u001b[35;01m.\u001b[39;00msplit(loop\u001b[35;01m=\u001b[39;00ml3, factors\u001b[35;01m=\u001b[39;00m[\u001b[32;01mNone\u001b[39;00m, \u001b[92m64\u001b[39m], preserve_unit_iters\u001b[35;01m=\u001b[39;00m\u001b[32;01mTrue\u001b[39;00m, disable_predication\u001b[35;01m=\u001b[39;00m\u001b[32;01mFalse\u001b[39;00m)\n",
            "  sch\u001b[35;01m.\u001b[39;00mreorder(l4, l6, l8, l5, l7, l9)\n",
            "  sch\u001b[35;01m.\u001b[39;00mbind(loop\u001b[35;01m=\u001b[39;00ml4, thread_axis\u001b[35;01m=\u001b[39;00m\u001b[33m\"\u001b[39m\u001b[33mblockIdx.x\u001b[39m\u001b[33m\"\u001b[39m)\n",
            "  sch\u001b[35;01m.\u001b[39;00mbind(loop\u001b[35;01m=\u001b[39;00ml6, thread_axis\u001b[35;01m=\u001b[39;00m\u001b[33m\"\u001b[39m\u001b[33mblockIdx.y\u001b[39m\u001b[33m\"\u001b[39m)\n",
            "  b10 \u001b[35;01m=\u001b[39;00m sch\u001b[35;01m.\u001b[39;00mcache_read(block\u001b[35;01m=\u001b[39;00mb0, read_buffer_index\u001b[35;01m=\u001b[39;00m\u001b[92m0\u001b[39m, storage_scope\u001b[35;01m=\u001b[39;00m\u001b[33m\"\u001b[39m\u001b[33mshared\u001b[39m\u001b[33m\"\u001b[39m)\n",
            "  sch\u001b[35;01m.\u001b[39;00mcompute_at(block\u001b[35;01m=\u001b[39;00mb10, loop\u001b[35;01m=\u001b[39;00ml8, preserve_unit_loops\u001b[35;01m=\u001b[39;00m\u001b[32;01mFalse\u001b[39;00m, index\u001b[35;01m=\u001b[39;00m\u001b[35;01m-\u001b[39;00m\u001b[92m1\u001b[39m)\n",
            "  b11 \u001b[35;01m=\u001b[39;00m sch\u001b[35;01m.\u001b[39;00mcache_read(block\u001b[35;01m=\u001b[39;00mb0, read_buffer_index\u001b[35;01m=\u001b[39;00m\u001b[92m1\u001b[39m, storage_scope\u001b[35;01m=\u001b[39;00m\u001b[33m\"\u001b[39m\u001b[33mshared\u001b[39m\u001b[33m\"\u001b[39m)\n",
            "  sch\u001b[35;01m.\u001b[39;00mcompute_at(block\u001b[35;01m=\u001b[39;00mb11, loop\u001b[35;01m=\u001b[39;00ml8, preserve_unit_loops\u001b[35;01m=\u001b[39;00m\u001b[32;01mFalse\u001b[39;00m, index\u001b[35;01m=\u001b[39;00m\u001b[35;01m-\u001b[39;00m\u001b[92m1\u001b[39m)\n",
            "  b12 \u001b[35;01m=\u001b[39;00m sch\u001b[35;01m.\u001b[39;00mget_block(name\u001b[35;01m=\u001b[39;00m\u001b[33m\"\u001b[39m\u001b[33mgemm\u001b[39m\u001b[33m\"\u001b[39m, func_name\u001b[35;01m=\u001b[39;00m\u001b[33m\"\u001b[39m\u001b[33mmain\u001b[39m\u001b[33m\"\u001b[39m)\n",
            "  l13, l14, l15, l16, l17, l18 \u001b[35;01m=\u001b[39;00m sch\u001b[35;01m.\u001b[39;00mget_loops(block\u001b[35;01m=\u001b[39;00mb12)\n",
            "  l19, l20 \u001b[35;01m=\u001b[39;00m sch\u001b[35;01m.\u001b[39;00msplit(loop\u001b[35;01m=\u001b[39;00ml16, factors\u001b[35;01m=\u001b[39;00m[\u001b[32;01mNone\u001b[39;00m, \u001b[92m4\u001b[39m], preserve_unit_iters\u001b[35;01m=\u001b[39;00m\u001b[32;01mTrue\u001b[39;00m, disable_predication\u001b[35;01m=\u001b[39;00m\u001b[32;01mFalse\u001b[39;00m)\n",
            "  l21, l22 \u001b[35;01m=\u001b[39;00m sch\u001b[35;01m.\u001b[39;00msplit(loop\u001b[35;01m=\u001b[39;00ml17, factors\u001b[35;01m=\u001b[39;00m[\u001b[32;01mNone\u001b[39;00m, \u001b[92m4\u001b[39m], preserve_unit_iters\u001b[35;01m=\u001b[39;00m\u001b[32;01mTrue\u001b[39;00m, disable_predication\u001b[35;01m=\u001b[39;00m\u001b[32;01mFalse\u001b[39;00m)\n",
            "  l23, l24 \u001b[35;01m=\u001b[39;00m sch\u001b[35;01m.\u001b[39;00msplit(loop\u001b[35;01m=\u001b[39;00ml18, factors\u001b[35;01m=\u001b[39;00m[\u001b[32;01mNone\u001b[39;00m, \u001b[92m1\u001b[39m], preserve_unit_iters\u001b[35;01m=\u001b[39;00m\u001b[32;01mTrue\u001b[39;00m, disable_predication\u001b[35;01m=\u001b[39;00m\u001b[32;01mFalse\u001b[39;00m)\n",
            "  sch\u001b[35;01m.\u001b[39;00mreorder(l19, l21, l23, l20, l22, l24)\n",
            "  sch\u001b[35;01m.\u001b[39;00mbind(loop\u001b[35;01m=\u001b[39;00ml19, thread_axis\u001b[35;01m=\u001b[39;00m\u001b[33m\"\u001b[39m\u001b[33mthreadIdx.x\u001b[39m\u001b[33m\"\u001b[39m)\n",
            "  sch\u001b[35;01m.\u001b[39;00mbind(loop\u001b[35;01m=\u001b[39;00ml21, thread_axis\u001b[35;01m=\u001b[39;00m\u001b[33m\"\u001b[39m\u001b[33mthreadIdx.y\u001b[39m\u001b[33m\"\u001b[39m)\n",
            "  b25 \u001b[35;01m=\u001b[39;00m sch\u001b[35;01m.\u001b[39;00mcache_read(block\u001b[35;01m=\u001b[39;00mb12, read_buffer_index\u001b[35;01m=\u001b[39;00m\u001b[92m0\u001b[39m, storage_scope\u001b[35;01m=\u001b[39;00m\u001b[33m\"\u001b[39m\u001b[33mlocal\u001b[39m\u001b[33m\"\u001b[39m)\n",
            "  sch\u001b[35;01m.\u001b[39;00mcompute_at(block\u001b[35;01m=\u001b[39;00mb25, loop\u001b[35;01m=\u001b[39;00ml23, preserve_unit_loops\u001b[35;01m=\u001b[39;00m\u001b[32;01mFalse\u001b[39;00m, index\u001b[35;01m=\u001b[39;00m\u001b[35;01m-\u001b[39;00m\u001b[92m1\u001b[39m)\n",
            "  b26 \u001b[35;01m=\u001b[39;00m sch\u001b[35;01m.\u001b[39;00mcache_read(block\u001b[35;01m=\u001b[39;00mb12, read_buffer_index\u001b[35;01m=\u001b[39;00m\u001b[92m1\u001b[39m, storage_scope\u001b[35;01m=\u001b[39;00m\u001b[33m\"\u001b[39m\u001b[33mlocal\u001b[39m\u001b[33m\"\u001b[39m)\n",
            "  sch\u001b[35;01m.\u001b[39;00mcompute_at(block\u001b[35;01m=\u001b[39;00mb26, loop\u001b[35;01m=\u001b[39;00ml23, preserve_unit_loops\u001b[35;01m=\u001b[39;00m\u001b[32;01mFalse\u001b[39;00m, index\u001b[35;01m=\u001b[39;00m\u001b[35;01m-\u001b[39;00m\u001b[92m1\u001b[39m)\n",
            "  l27, l28, l29, l30, l31 \u001b[35;01m=\u001b[39;00m sch\u001b[35;01m.\u001b[39;00mget_loops(block\u001b[35;01m=\u001b[39;00mb10)\n",
            "  l32 \u001b[35;01m=\u001b[39;00m sch\u001b[35;01m.\u001b[39;00mfuse(l30, l31, preserve_unit_iters\u001b[35;01m=\u001b[39;00m\u001b[32;01mTrue\u001b[39;00m)\n",
            "  l33, l34, l35 \u001b[35;01m=\u001b[39;00m sch\u001b[35;01m.\u001b[39;00msplit(loop\u001b[35;01m=\u001b[39;00ml32, factors\u001b[35;01m=\u001b[39;00m[\u001b[32;01mNone\u001b[39;00m, \u001b[92m16\u001b[39m, \u001b[92m16\u001b[39m], preserve_unit_iters\u001b[35;01m=\u001b[39;00m\u001b[32;01mTrue\u001b[39;00m, disable_predication\u001b[35;01m=\u001b[39;00m\u001b[32;01mFalse\u001b[39;00m)\n",
            "  sch\u001b[35;01m.\u001b[39;00mbind(loop\u001b[35;01m=\u001b[39;00ml34, thread_axis\u001b[35;01m=\u001b[39;00m\u001b[33m\"\u001b[39m\u001b[33mthreadIdx.y\u001b[39m\u001b[33m\"\u001b[39m)\n",
            "  sch\u001b[35;01m.\u001b[39;00mbind(loop\u001b[35;01m=\u001b[39;00ml35, thread_axis\u001b[35;01m=\u001b[39;00m\u001b[33m\"\u001b[39m\u001b[33mthreadIdx.x\u001b[39m\u001b[33m\"\u001b[39m)\n",
            "  l36, l37, l38, l39, l40 \u001b[35;01m=\u001b[39;00m sch\u001b[35;01m.\u001b[39;00mget_loops(block\u001b[35;01m=\u001b[39;00mb11)\n",
            "  l41 \u001b[35;01m=\u001b[39;00m sch\u001b[35;01m.\u001b[39;00mfuse(l39, l40, preserve_unit_iters\u001b[35;01m=\u001b[39;00m\u001b[32;01mTrue\u001b[39;00m)\n",
            "  l42, l43, l44 \u001b[35;01m=\u001b[39;00m sch\u001b[35;01m.\u001b[39;00msplit(loop\u001b[35;01m=\u001b[39;00ml41, factors\u001b[35;01m=\u001b[39;00m[\u001b[32;01mNone\u001b[39;00m, \u001b[92m16\u001b[39m, \u001b[92m16\u001b[39m], preserve_unit_iters\u001b[35;01m=\u001b[39;00m\u001b[32;01mTrue\u001b[39;00m, disable_predication\u001b[35;01m=\u001b[39;00m\u001b[32;01mFalse\u001b[39;00m)\n",
            "  sch\u001b[35;01m.\u001b[39;00mbind(loop\u001b[35;01m=\u001b[39;00ml43, thread_axis\u001b[35;01m=\u001b[39;00m\u001b[33m\"\u001b[39m\u001b[33mthreadIdx.y\u001b[39m\u001b[33m\"\u001b[39m)\n",
            "  sch\u001b[35;01m.\u001b[39;00mbind(loop\u001b[35;01m=\u001b[39;00ml44, thread_axis\u001b[35;01m=\u001b[39;00m\u001b[33m\"\u001b[39m\u001b[33mthreadIdx.x\u001b[39m\u001b[33m\"\u001b[39m)\n",
            "  b45 \u001b[35;01m=\u001b[39;00m sch\u001b[35;01m.\u001b[39;00mget_block(name\u001b[35;01m=\u001b[39;00m\u001b[33m\"\u001b[39m\u001b[33mgemm\u001b[39m\u001b[33m\"\u001b[39m, func_name\u001b[35;01m=\u001b[39;00m\u001b[33m\"\u001b[39m\u001b[33mmain\u001b[39m\u001b[33m\"\u001b[39m)\n",
            "  l46, l47, l48, l49, l50, l51, l52, l53, l54 \u001b[35;01m=\u001b[39;00m sch\u001b[35;01m.\u001b[39;00mget_loops(block\u001b[35;01m=\u001b[39;00mb45)\n",
            "  b55 \u001b[35;01m=\u001b[39;00m sch\u001b[35;01m.\u001b[39;00mcache_write(block\u001b[35;01m=\u001b[39;00mb45, write_buffer_index\u001b[35;01m=\u001b[39;00m\u001b[92m0\u001b[39m, storage_scope\u001b[35;01m=\u001b[39;00m\u001b[33m\"\u001b[39m\u001b[33mlocal\u001b[39m\u001b[33m\"\u001b[39m)\n",
            "  sch\u001b[35;01m.\u001b[39;00mreverse_compute_at(block\u001b[35;01m=\u001b[39;00mb55, loop\u001b[35;01m=\u001b[39;00ml50, preserve_unit_loops\u001b[35;01m=\u001b[39;00m\u001b[32;01mFalse\u001b[39;00m, index\u001b[35;01m=\u001b[39;00m\u001b[35;01m-\u001b[39;00m\u001b[92m1\u001b[39m)\n",
            "  b56 \u001b[35;01m=\u001b[39;00m sch\u001b[35;01m.\u001b[39;00mget_block(name\u001b[35;01m=\u001b[39;00m\u001b[33m\"\u001b[39m\u001b[33mrelu\u001b[39m\u001b[33m\"\u001b[39m, func_name\u001b[35;01m=\u001b[39;00m\u001b[33m\"\u001b[39m\u001b[33mmain\u001b[39m\u001b[33m\"\u001b[39m)\n",
            "  b57 \u001b[35;01m=\u001b[39;00m sch\u001b[35;01m.\u001b[39;00mget_block(name\u001b[35;01m=\u001b[39;00m\u001b[33m\"\u001b[39m\u001b[33madd\u001b[39m\u001b[33m\"\u001b[39m, func_name\u001b[35;01m=\u001b[39;00m\u001b[33m\"\u001b[39m\u001b[33mmain\u001b[39m\u001b[33m\"\u001b[39m)\n",
            "  sch\u001b[35;01m.\u001b[39;00mreverse_compute_inline(block\u001b[35;01m=\u001b[39;00mb57)\n",
            "  sch\u001b[35;01m.\u001b[39;00mreverse_compute_inline(block\u001b[35;01m=\u001b[39;00mb56)\n",
            "\n",
            "\u001b[90;03m# from tvm.script import ir as I\u001b[39;00m\n",
            "\u001b[90;03m# from tvm.script import tir as T\u001b[39;00m\n",
            "\n",
            "\u001b[95;03m@I\u001b[39;00m\u001b[35;01m.\u001b[39;00mir_module\n",
            "\u001b[32;01mclass\u001b[39;00m \u001b[34;01mModule\u001b[39;00m:\n",
            "    \u001b[95;03m@T\u001b[39;00m\u001b[35;01m.\u001b[39;00mprim_func\n",
            "    \u001b[32;01mdef\u001b[39;00m \u001b[34;01mmain\u001b[39;00m(A: T\u001b[35;01m.\u001b[39;00mBuffer((\u001b[92m2048\u001b[39m, \u001b[92m2048\u001b[39m), \u001b[33m\"\u001b[39m\u001b[33mfloat32\u001b[39m\u001b[33m\"\u001b[39m), B: T\u001b[35;01m.\u001b[39;00mBuffer((\u001b[92m2048\u001b[39m, \u001b[92m2048\u001b[39m), \u001b[33m\"\u001b[39m\u001b[33mfloat32\u001b[39m\u001b[33m\"\u001b[39m), C: T\u001b[35;01m.\u001b[39;00mBuffer((\u001b[92m2048\u001b[39m, \u001b[92m2048\u001b[39m), \u001b[33m\"\u001b[39m\u001b[33mfloat32\u001b[39m\u001b[33m\"\u001b[39m), D: T\u001b[35;01m.\u001b[39;00mBuffer((\u001b[92m2048\u001b[39m, \u001b[92m2048\u001b[39m), \u001b[33m\"\u001b[39m\u001b[33mfloat32\u001b[39m\u001b[33m\"\u001b[39m)):\n",
            "        T\u001b[35;01m.\u001b[39;00mfunc_attr({\u001b[33m\"\u001b[39m\u001b[33mglobal_symbol\u001b[39m\u001b[33m\"\u001b[39m: \u001b[33m\"\u001b[39m\u001b[33mgemm_relu_add\u001b[39m\u001b[33m\"\u001b[39m})\n",
            "        \u001b[90;03m# with T.block(\"root\"):\u001b[39;00m\n",
            "        A_shared \u001b[35;01m=\u001b[39;00m T\u001b[35;01m.\u001b[39;00malloc_buffer((\u001b[92m2048\u001b[39m, \u001b[92m2048\u001b[39m), scope\u001b[35;01m=\u001b[39;00m\u001b[33m\"\u001b[39m\u001b[33mshared\u001b[39m\u001b[33m\"\u001b[39m)\n",
            "        B_shared \u001b[35;01m=\u001b[39;00m T\u001b[35;01m.\u001b[39;00malloc_buffer((\u001b[92m2048\u001b[39m, \u001b[92m2048\u001b[39m), scope\u001b[35;01m=\u001b[39;00m\u001b[33m\"\u001b[39m\u001b[33mshared\u001b[39m\u001b[33m\"\u001b[39m)\n",
            "        A_shared_local \u001b[35;01m=\u001b[39;00m T\u001b[35;01m.\u001b[39;00malloc_buffer((\u001b[92m2048\u001b[39m, \u001b[92m2048\u001b[39m), scope\u001b[35;01m=\u001b[39;00m\u001b[33m\"\u001b[39m\u001b[33mlocal\u001b[39m\u001b[33m\"\u001b[39m)\n",
            "        B_shared_local \u001b[35;01m=\u001b[39;00m T\u001b[35;01m.\u001b[39;00malloc_buffer((\u001b[92m2048\u001b[39m, \u001b[92m2048\u001b[39m), scope\u001b[35;01m=\u001b[39;00m\u001b[33m\"\u001b[39m\u001b[33mlocal\u001b[39m\u001b[33m\"\u001b[39m)\n",
            "        matmul_local \u001b[35;01m=\u001b[39;00m T\u001b[35;01m.\u001b[39;00malloc_buffer((\u001b[92m2048\u001b[39m, \u001b[92m2048\u001b[39m), scope\u001b[35;01m=\u001b[39;00m\u001b[33m\"\u001b[39m\u001b[33mlocal\u001b[39m\u001b[33m\"\u001b[39m)\n",
            "        \u001b[32;01mfor\u001b[39;00m i_0 \u001b[32;01min\u001b[39;00m T\u001b[35;01m.\u001b[39;00mthread_binding(\u001b[92m32\u001b[39m, thread\u001b[35;01m=\u001b[39;00m\u001b[33m\"\u001b[39m\u001b[33mblockIdx.x\u001b[39m\u001b[33m\"\u001b[39m):\n",
            "            \u001b[32;01mfor\u001b[39;00m j_0 \u001b[32;01min\u001b[39;00m T\u001b[35;01m.\u001b[39;00mthread_binding(\u001b[92m32\u001b[39m, thread\u001b[35;01m=\u001b[39;00m\u001b[33m\"\u001b[39m\u001b[33mblockIdx.y\u001b[39m\u001b[33m\"\u001b[39m):\n",
            "                \u001b[32;01mfor\u001b[39;00m k_0 \u001b[32;01min\u001b[39;00m range(\u001b[92m32\u001b[39m):\n",
            "                    \u001b[32;01mfor\u001b[39;00m ax0_ax1_fused_0 \u001b[32;01min\u001b[39;00m range(\u001b[92m16\u001b[39m):\n",
            "                        \u001b[32;01mfor\u001b[39;00m ax0_ax1_fused_1 \u001b[32;01min\u001b[39;00m T\u001b[35;01m.\u001b[39;00mthread_binding(\u001b[92m16\u001b[39m, thread\u001b[35;01m=\u001b[39;00m\u001b[33m\"\u001b[39m\u001b[33mthreadIdx.y\u001b[39m\u001b[33m\"\u001b[39m):\n",
            "                            \u001b[32;01mfor\u001b[39;00m ax0_ax1_fused_2 \u001b[32;01min\u001b[39;00m T\u001b[35;01m.\u001b[39;00mthread_binding(\u001b[92m16\u001b[39m, thread\u001b[35;01m=\u001b[39;00m\u001b[33m\"\u001b[39m\u001b[33mthreadIdx.x\u001b[39m\u001b[33m\"\u001b[39m):\n",
            "                                \u001b[32;01mwith\u001b[39;00m T\u001b[35;01m.\u001b[39;00mblock(\u001b[33m\"\u001b[39m\u001b[33mA_shared\u001b[39m\u001b[33m\"\u001b[39m):\n",
            "                                    v0 \u001b[35;01m=\u001b[39;00m T\u001b[35;01m.\u001b[39;00maxis\u001b[35;01m.\u001b[39;00mspatial(\u001b[92m2048\u001b[39m, i_0 \u001b[35;01m*\u001b[39;00m \u001b[92m64\u001b[39m \u001b[35;01m+\u001b[39;00m (ax0_ax1_fused_0 \u001b[35;01m*\u001b[39;00m \u001b[92m256\u001b[39m \u001b[35;01m+\u001b[39;00m ax0_ax1_fused_1 \u001b[35;01m*\u001b[39;00m \u001b[92m16\u001b[39m \u001b[35;01m+\u001b[39;00m ax0_ax1_fused_2) \u001b[35;01m/\u001b[39;00m\u001b[35;01m/\u001b[39;00m \u001b[92m64\u001b[39m)\n",
            "                                    v1 \u001b[35;01m=\u001b[39;00m T\u001b[35;01m.\u001b[39;00maxis\u001b[35;01m.\u001b[39;00mspatial(\u001b[92m2048\u001b[39m, k_0 \u001b[35;01m*\u001b[39;00m \u001b[92m64\u001b[39m \u001b[35;01m+\u001b[39;00m (ax0_ax1_fused_0 \u001b[35;01m*\u001b[39;00m \u001b[92m256\u001b[39m \u001b[35;01m+\u001b[39;00m ax0_ax1_fused_1 \u001b[35;01m*\u001b[39;00m \u001b[92m16\u001b[39m \u001b[35;01m+\u001b[39;00m ax0_ax1_fused_2) \u001b[35;01m%\u001b[39;00m \u001b[92m64\u001b[39m)\n",
            "                                    T\u001b[35;01m.\u001b[39;00mreads(A[v0, v1])\n",
            "                                    T\u001b[35;01m.\u001b[39;00mwrites(A_shared[v0, v1])\n",
            "                                    A_shared[v0, v1] \u001b[35;01m=\u001b[39;00m A[v0, v1]\n",
            "                    \u001b[32;01mfor\u001b[39;00m ax0_ax1_fused_0 \u001b[32;01min\u001b[39;00m range(\u001b[92m16\u001b[39m):\n",
            "                        \u001b[32;01mfor\u001b[39;00m ax0_ax1_fused_1 \u001b[32;01min\u001b[39;00m T\u001b[35;01m.\u001b[39;00mthread_binding(\u001b[92m16\u001b[39m, thread\u001b[35;01m=\u001b[39;00m\u001b[33m\"\u001b[39m\u001b[33mthreadIdx.y\u001b[39m\u001b[33m\"\u001b[39m):\n",
            "                            \u001b[32;01mfor\u001b[39;00m ax0_ax1_fused_2 \u001b[32;01min\u001b[39;00m T\u001b[35;01m.\u001b[39;00mthread_binding(\u001b[92m16\u001b[39m, thread\u001b[35;01m=\u001b[39;00m\u001b[33m\"\u001b[39m\u001b[33mthreadIdx.x\u001b[39m\u001b[33m\"\u001b[39m):\n",
            "                                \u001b[32;01mwith\u001b[39;00m T\u001b[35;01m.\u001b[39;00mblock(\u001b[33m\"\u001b[39m\u001b[33mB_shared\u001b[39m\u001b[33m\"\u001b[39m):\n",
            "                                    v0 \u001b[35;01m=\u001b[39;00m T\u001b[35;01m.\u001b[39;00maxis\u001b[35;01m.\u001b[39;00mspatial(\u001b[92m2048\u001b[39m, k_0 \u001b[35;01m*\u001b[39;00m \u001b[92m64\u001b[39m \u001b[35;01m+\u001b[39;00m (ax0_ax1_fused_0 \u001b[35;01m*\u001b[39;00m \u001b[92m256\u001b[39m \u001b[35;01m+\u001b[39;00m ax0_ax1_fused_1 \u001b[35;01m*\u001b[39;00m \u001b[92m16\u001b[39m \u001b[35;01m+\u001b[39;00m ax0_ax1_fused_2) \u001b[35;01m/\u001b[39;00m\u001b[35;01m/\u001b[39;00m \u001b[92m64\u001b[39m)\n",
            "                                    v1 \u001b[35;01m=\u001b[39;00m T\u001b[35;01m.\u001b[39;00maxis\u001b[35;01m.\u001b[39;00mspatial(\u001b[92m2048\u001b[39m, j_0 \u001b[35;01m*\u001b[39;00m \u001b[92m64\u001b[39m \u001b[35;01m+\u001b[39;00m (ax0_ax1_fused_0 \u001b[35;01m*\u001b[39;00m \u001b[92m256\u001b[39m \u001b[35;01m+\u001b[39;00m ax0_ax1_fused_1 \u001b[35;01m*\u001b[39;00m \u001b[92m16\u001b[39m \u001b[35;01m+\u001b[39;00m ax0_ax1_fused_2) \u001b[35;01m%\u001b[39;00m \u001b[92m64\u001b[39m)\n",
            "                                    T\u001b[35;01m.\u001b[39;00mreads(B[v0, v1])\n",
            "                                    T\u001b[35;01m.\u001b[39;00mwrites(B_shared[v0, v1])\n",
            "                                    B_shared[v0, v1] \u001b[35;01m=\u001b[39;00m B[v0, v1]\n",
            "                    \u001b[32;01mfor\u001b[39;00m i_1_0 \u001b[32;01min\u001b[39;00m T\u001b[35;01m.\u001b[39;00mthread_binding(\u001b[92m16\u001b[39m, thread\u001b[35;01m=\u001b[39;00m\u001b[33m\"\u001b[39m\u001b[33mthreadIdx.x\u001b[39m\u001b[33m\"\u001b[39m):\n",
            "                        \u001b[32;01mfor\u001b[39;00m j_1_0 \u001b[32;01min\u001b[39;00m T\u001b[35;01m.\u001b[39;00mthread_binding(\u001b[92m16\u001b[39m, thread\u001b[35;01m=\u001b[39;00m\u001b[33m\"\u001b[39m\u001b[33mthreadIdx.y\u001b[39m\u001b[33m\"\u001b[39m):\n",
            "                            \u001b[32;01mfor\u001b[39;00m k_1_0 \u001b[32;01min\u001b[39;00m range(\u001b[92m64\u001b[39m):\n",
            "                                \u001b[32;01mfor\u001b[39;00m ax0 \u001b[32;01min\u001b[39;00m range(\u001b[92m4\u001b[39m):\n",
            "                                    \u001b[32;01mwith\u001b[39;00m T\u001b[35;01m.\u001b[39;00mblock(\u001b[33m\"\u001b[39m\u001b[33mA_shared_local\u001b[39m\u001b[33m\"\u001b[39m):\n",
            "                                        v0 \u001b[35;01m=\u001b[39;00m T\u001b[35;01m.\u001b[39;00maxis\u001b[35;01m.\u001b[39;00mspatial(\u001b[92m2048\u001b[39m, i_0 \u001b[35;01m*\u001b[39;00m \u001b[92m64\u001b[39m \u001b[35;01m+\u001b[39;00m i_1_0 \u001b[35;01m*\u001b[39;00m \u001b[92m4\u001b[39m \u001b[35;01m+\u001b[39;00m ax0)\n",
            "                                        v1 \u001b[35;01m=\u001b[39;00m T\u001b[35;01m.\u001b[39;00maxis\u001b[35;01m.\u001b[39;00mspatial(\u001b[92m2048\u001b[39m, k_0 \u001b[35;01m*\u001b[39;00m \u001b[92m64\u001b[39m \u001b[35;01m+\u001b[39;00m k_1_0)\n",
            "                                        T\u001b[35;01m.\u001b[39;00mreads(A_shared[v0, v1])\n",
            "                                        T\u001b[35;01m.\u001b[39;00mwrites(A_shared_local[v0, v1])\n",
            "                                        A_shared_local[v0, v1] \u001b[35;01m=\u001b[39;00m A_shared[v0, v1]\n",
            "                                \u001b[32;01mfor\u001b[39;00m ax0 \u001b[32;01min\u001b[39;00m range(\u001b[92m4\u001b[39m):\n",
            "                                    \u001b[32;01mwith\u001b[39;00m T\u001b[35;01m.\u001b[39;00mblock(\u001b[33m\"\u001b[39m\u001b[33mB_shared_local\u001b[39m\u001b[33m\"\u001b[39m):\n",
            "                                        v0 \u001b[35;01m=\u001b[39;00m T\u001b[35;01m.\u001b[39;00maxis\u001b[35;01m.\u001b[39;00mspatial(\u001b[92m2048\u001b[39m, k_0 \u001b[35;01m*\u001b[39;00m \u001b[92m64\u001b[39m \u001b[35;01m+\u001b[39;00m k_1_0)\n",
            "                                        v1 \u001b[35;01m=\u001b[39;00m T\u001b[35;01m.\u001b[39;00maxis\u001b[35;01m.\u001b[39;00mspatial(\u001b[92m2048\u001b[39m, j_0 \u001b[35;01m*\u001b[39;00m \u001b[92m64\u001b[39m \u001b[35;01m+\u001b[39;00m j_1_0 \u001b[35;01m*\u001b[39;00m \u001b[92m4\u001b[39m \u001b[35;01m+\u001b[39;00m ax0)\n",
            "                                        T\u001b[35;01m.\u001b[39;00mreads(B_shared[v0, v1])\n",
            "                                        T\u001b[35;01m.\u001b[39;00mwrites(B_shared_local[v0, v1])\n",
            "                                        B_shared_local[v0, v1] \u001b[35;01m=\u001b[39;00m B_shared[v0, v1]\n",
            "                                \u001b[32;01mfor\u001b[39;00m i_1_1, j_1_1, k_1_1 \u001b[32;01min\u001b[39;00m T\u001b[35;01m.\u001b[39;00mgrid(\u001b[92m4\u001b[39m, \u001b[92m4\u001b[39m, \u001b[92m1\u001b[39m):\n",
            "                                    \u001b[32;01mwith\u001b[39;00m T\u001b[35;01m.\u001b[39;00mblock(\u001b[33m\"\u001b[39m\u001b[33mgemm\u001b[39m\u001b[33m\"\u001b[39m):\n",
            "                                        vi \u001b[35;01m=\u001b[39;00m T\u001b[35;01m.\u001b[39;00maxis\u001b[35;01m.\u001b[39;00mspatial(\u001b[92m2048\u001b[39m, i_0 \u001b[35;01m*\u001b[39;00m \u001b[92m64\u001b[39m \u001b[35;01m+\u001b[39;00m i_1_0 \u001b[35;01m*\u001b[39;00m \u001b[92m4\u001b[39m \u001b[35;01m+\u001b[39;00m i_1_1)\n",
            "                                        vj \u001b[35;01m=\u001b[39;00m T\u001b[35;01m.\u001b[39;00maxis\u001b[35;01m.\u001b[39;00mspatial(\u001b[92m2048\u001b[39m, j_0 \u001b[35;01m*\u001b[39;00m \u001b[92m64\u001b[39m \u001b[35;01m+\u001b[39;00m j_1_0 \u001b[35;01m*\u001b[39;00m \u001b[92m4\u001b[39m \u001b[35;01m+\u001b[39;00m j_1_1)\n",
            "                                        vk \u001b[35;01m=\u001b[39;00m T\u001b[35;01m.\u001b[39;00maxis\u001b[35;01m.\u001b[39;00mreduce(\u001b[92m2048\u001b[39m, k_0 \u001b[35;01m*\u001b[39;00m \u001b[92m64\u001b[39m \u001b[35;01m+\u001b[39;00m k_1_0 \u001b[35;01m+\u001b[39;00m k_1_1)\n",
            "                                        T\u001b[35;01m.\u001b[39;00mreads(A_shared_local[vi, vk], B_shared_local[vk, vj])\n",
            "                                        T\u001b[35;01m.\u001b[39;00mwrites(matmul_local[vi, vj])\n",
            "                                        \u001b[32;01mwith\u001b[39;00m T\u001b[35;01m.\u001b[39;00minit():\n",
            "                                            matmul_local[vi, vj] \u001b[35;01m=\u001b[39;00m T\u001b[35;01m.\u001b[39;00mfloat32(\u001b[92m0.0\u001b[39m)\n",
            "                                        matmul_local[vi, vj] \u001b[35;01m=\u001b[39;00m matmul_local[vi, vj] \u001b[35;01m+\u001b[39;00m A_shared_local[vi, vk] \u001b[35;01m*\u001b[39;00m B_shared_local[vk, vj]\n",
            "                            \u001b[32;01mfor\u001b[39;00m ax0, ax1 \u001b[32;01min\u001b[39;00m T\u001b[35;01m.\u001b[39;00mgrid(\u001b[92m4\u001b[39m, \u001b[92m4\u001b[39m):\n",
            "                                \u001b[32;01mwith\u001b[39;00m T\u001b[35;01m.\u001b[39;00mblock(\u001b[33m\"\u001b[39m\u001b[33mmatmul_local\u001b[39m\u001b[33m\"\u001b[39m):\n",
            "                                    v0 \u001b[35;01m=\u001b[39;00m T\u001b[35;01m.\u001b[39;00maxis\u001b[35;01m.\u001b[39;00mspatial(\u001b[92m2048\u001b[39m, i_0 \u001b[35;01m*\u001b[39;00m \u001b[92m64\u001b[39m \u001b[35;01m+\u001b[39;00m i_1_0 \u001b[35;01m*\u001b[39;00m \u001b[92m4\u001b[39m \u001b[35;01m+\u001b[39;00m ax0)\n",
            "                                    v1 \u001b[35;01m=\u001b[39;00m T\u001b[35;01m.\u001b[39;00maxis\u001b[35;01m.\u001b[39;00mspatial(\u001b[92m2048\u001b[39m, j_0 \u001b[35;01m*\u001b[39;00m \u001b[92m64\u001b[39m \u001b[35;01m+\u001b[39;00m j_1_0 \u001b[35;01m*\u001b[39;00m \u001b[92m4\u001b[39m \u001b[35;01m+\u001b[39;00m ax1)\n",
            "                                    T\u001b[35;01m.\u001b[39;00mreads(matmul_local[v0, v1], C[v0, v1])\n",
            "                                    T\u001b[35;01m.\u001b[39;00mwrites(D[v0, v1])\n",
            "                                    D[v0, v1] \u001b[35;01m=\u001b[39;00m T\u001b[35;01m.\u001b[39;00mmax(matmul_local[v0, v1], T\u001b[35;01m.\u001b[39;00mfloat32(\u001b[92m0.0\u001b[39m)) \u001b[35;01m+\u001b[39;00m C[v0, v1]\n",
            "\n",
            "\u001b[90;03m# from tvm import tir\u001b[39;00m\n",
            "\u001b[32;01mdef\u001b[39;00m \u001b[34;01mapply_trace\u001b[39;00m(sch: tir\u001b[35;01m.\u001b[39;00mSchedule) \u001b[35;01m-\u001b[39;00m\u001b[35;01m>\u001b[39;00m \u001b[32;01mNone\u001b[39;00m:\n",
            "  b0 \u001b[35;01m=\u001b[39;00m sch\u001b[35;01m.\u001b[39;00mget_block(name\u001b[35;01m=\u001b[39;00m\u001b[33m\"\u001b[39m\u001b[33mgemm\u001b[39m\u001b[33m\"\u001b[39m, func_name\u001b[35;01m=\u001b[39;00m\u001b[33m\"\u001b[39m\u001b[33mmain\u001b[39m\u001b[33m\"\u001b[39m)\n",
            "  l1, l2, l3 \u001b[35;01m=\u001b[39;00m sch\u001b[35;01m.\u001b[39;00mget_loops(block\u001b[35;01m=\u001b[39;00mb0)\n",
            "  l4, l5 \u001b[35;01m=\u001b[39;00m sch\u001b[35;01m.\u001b[39;00msplit(loop\u001b[35;01m=\u001b[39;00ml1, factors\u001b[35;01m=\u001b[39;00m[\u001b[32;01mNone\u001b[39;00m, \u001b[92m64\u001b[39m], preserve_unit_iters\u001b[35;01m=\u001b[39;00m\u001b[32;01mTrue\u001b[39;00m, disable_predication\u001b[35;01m=\u001b[39;00m\u001b[32;01mFalse\u001b[39;00m)\n",
            "  l6, l7 \u001b[35;01m=\u001b[39;00m sch\u001b[35;01m.\u001b[39;00msplit(loop\u001b[35;01m=\u001b[39;00ml2, factors\u001b[35;01m=\u001b[39;00m[\u001b[32;01mNone\u001b[39;00m, \u001b[92m64\u001b[39m], preserve_unit_iters\u001b[35;01m=\u001b[39;00m\u001b[32;01mTrue\u001b[39;00m, disable_predication\u001b[35;01m=\u001b[39;00m\u001b[32;01mFalse\u001b[39;00m)\n",
            "  l8, l9 \u001b[35;01m=\u001b[39;00m sch\u001b[35;01m.\u001b[39;00msplit(loop\u001b[35;01m=\u001b[39;00ml3, factors\u001b[35;01m=\u001b[39;00m[\u001b[32;01mNone\u001b[39;00m, \u001b[92m64\u001b[39m], preserve_unit_iters\u001b[35;01m=\u001b[39;00m\u001b[32;01mTrue\u001b[39;00m, disable_predication\u001b[35;01m=\u001b[39;00m\u001b[32;01mFalse\u001b[39;00m)\n",
            "  sch\u001b[35;01m.\u001b[39;00mreorder(l4, l6, l8, l5, l7, l9)\n",
            "  sch\u001b[35;01m.\u001b[39;00mbind(loop\u001b[35;01m=\u001b[39;00ml4, thread_axis\u001b[35;01m=\u001b[39;00m\u001b[33m\"\u001b[39m\u001b[33mblockIdx.x\u001b[39m\u001b[33m\"\u001b[39m)\n",
            "  sch\u001b[35;01m.\u001b[39;00mbind(loop\u001b[35;01m=\u001b[39;00ml6, thread_axis\u001b[35;01m=\u001b[39;00m\u001b[33m\"\u001b[39m\u001b[33mblockIdx.y\u001b[39m\u001b[33m\"\u001b[39m)\n",
            "  b10 \u001b[35;01m=\u001b[39;00m sch\u001b[35;01m.\u001b[39;00mcache_read(block\u001b[35;01m=\u001b[39;00mb0, read_buffer_index\u001b[35;01m=\u001b[39;00m\u001b[92m0\u001b[39m, storage_scope\u001b[35;01m=\u001b[39;00m\u001b[33m\"\u001b[39m\u001b[33mshared\u001b[39m\u001b[33m\"\u001b[39m)\n",
            "  sch\u001b[35;01m.\u001b[39;00mcompute_at(block\u001b[35;01m=\u001b[39;00mb10, loop\u001b[35;01m=\u001b[39;00ml8, preserve_unit_loops\u001b[35;01m=\u001b[39;00m\u001b[32;01mFalse\u001b[39;00m, index\u001b[35;01m=\u001b[39;00m\u001b[35;01m-\u001b[39;00m\u001b[92m1\u001b[39m)\n",
            "  b11 \u001b[35;01m=\u001b[39;00m sch\u001b[35;01m.\u001b[39;00mcache_read(block\u001b[35;01m=\u001b[39;00mb0, read_buffer_index\u001b[35;01m=\u001b[39;00m\u001b[92m1\u001b[39m, storage_scope\u001b[35;01m=\u001b[39;00m\u001b[33m\"\u001b[39m\u001b[33mshared\u001b[39m\u001b[33m\"\u001b[39m)\n",
            "  sch\u001b[35;01m.\u001b[39;00mcompute_at(block\u001b[35;01m=\u001b[39;00mb11, loop\u001b[35;01m=\u001b[39;00ml8, preserve_unit_loops\u001b[35;01m=\u001b[39;00m\u001b[32;01mFalse\u001b[39;00m, index\u001b[35;01m=\u001b[39;00m\u001b[35;01m-\u001b[39;00m\u001b[92m1\u001b[39m)\n",
            "  b12 \u001b[35;01m=\u001b[39;00m sch\u001b[35;01m.\u001b[39;00mget_block(name\u001b[35;01m=\u001b[39;00m\u001b[33m\"\u001b[39m\u001b[33mgemm\u001b[39m\u001b[33m\"\u001b[39m, func_name\u001b[35;01m=\u001b[39;00m\u001b[33m\"\u001b[39m\u001b[33mmain\u001b[39m\u001b[33m\"\u001b[39m)\n",
            "  l13, l14, l15, l16, l17, l18 \u001b[35;01m=\u001b[39;00m sch\u001b[35;01m.\u001b[39;00mget_loops(block\u001b[35;01m=\u001b[39;00mb12)\n",
            "  l19, l20 \u001b[35;01m=\u001b[39;00m sch\u001b[35;01m.\u001b[39;00msplit(loop\u001b[35;01m=\u001b[39;00ml16, factors\u001b[35;01m=\u001b[39;00m[\u001b[32;01mNone\u001b[39;00m, \u001b[92m4\u001b[39m], preserve_unit_iters\u001b[35;01m=\u001b[39;00m\u001b[32;01mTrue\u001b[39;00m, disable_predication\u001b[35;01m=\u001b[39;00m\u001b[32;01mFalse\u001b[39;00m)\n",
            "  l21, l22 \u001b[35;01m=\u001b[39;00m sch\u001b[35;01m.\u001b[39;00msplit(loop\u001b[35;01m=\u001b[39;00ml17, factors\u001b[35;01m=\u001b[39;00m[\u001b[32;01mNone\u001b[39;00m, \u001b[92m4\u001b[39m], preserve_unit_iters\u001b[35;01m=\u001b[39;00m\u001b[32;01mTrue\u001b[39;00m, disable_predication\u001b[35;01m=\u001b[39;00m\u001b[32;01mFalse\u001b[39;00m)\n",
            "  l23, l24 \u001b[35;01m=\u001b[39;00m sch\u001b[35;01m.\u001b[39;00msplit(loop\u001b[35;01m=\u001b[39;00ml18, factors\u001b[35;01m=\u001b[39;00m[\u001b[32;01mNone\u001b[39;00m, \u001b[92m1\u001b[39m], preserve_unit_iters\u001b[35;01m=\u001b[39;00m\u001b[32;01mTrue\u001b[39;00m, disable_predication\u001b[35;01m=\u001b[39;00m\u001b[32;01mFalse\u001b[39;00m)\n",
            "  sch\u001b[35;01m.\u001b[39;00mreorder(l19, l21, l23, l20, l22, l24)\n",
            "  sch\u001b[35;01m.\u001b[39;00mbind(loop\u001b[35;01m=\u001b[39;00ml19, thread_axis\u001b[35;01m=\u001b[39;00m\u001b[33m\"\u001b[39m\u001b[33mthreadIdx.x\u001b[39m\u001b[33m\"\u001b[39m)\n",
            "  sch\u001b[35;01m.\u001b[39;00mbind(loop\u001b[35;01m=\u001b[39;00ml21, thread_axis\u001b[35;01m=\u001b[39;00m\u001b[33m\"\u001b[39m\u001b[33mthreadIdx.y\u001b[39m\u001b[33m\"\u001b[39m)\n",
            "  b25 \u001b[35;01m=\u001b[39;00m sch\u001b[35;01m.\u001b[39;00mcache_read(block\u001b[35;01m=\u001b[39;00mb12, read_buffer_index\u001b[35;01m=\u001b[39;00m\u001b[92m0\u001b[39m, storage_scope\u001b[35;01m=\u001b[39;00m\u001b[33m\"\u001b[39m\u001b[33mlocal\u001b[39m\u001b[33m\"\u001b[39m)\n",
            "  sch\u001b[35;01m.\u001b[39;00mcompute_at(block\u001b[35;01m=\u001b[39;00mb25, loop\u001b[35;01m=\u001b[39;00ml23, preserve_unit_loops\u001b[35;01m=\u001b[39;00m\u001b[32;01mFalse\u001b[39;00m, index\u001b[35;01m=\u001b[39;00m\u001b[35;01m-\u001b[39;00m\u001b[92m1\u001b[39m)\n",
            "  b26 \u001b[35;01m=\u001b[39;00m sch\u001b[35;01m.\u001b[39;00mcache_read(block\u001b[35;01m=\u001b[39;00mb12, read_buffer_index\u001b[35;01m=\u001b[39;00m\u001b[92m1\u001b[39m, storage_scope\u001b[35;01m=\u001b[39;00m\u001b[33m\"\u001b[39m\u001b[33mlocal\u001b[39m\u001b[33m\"\u001b[39m)\n",
            "  sch\u001b[35;01m.\u001b[39;00mcompute_at(block\u001b[35;01m=\u001b[39;00mb26, loop\u001b[35;01m=\u001b[39;00ml23, preserve_unit_loops\u001b[35;01m=\u001b[39;00m\u001b[32;01mFalse\u001b[39;00m, index\u001b[35;01m=\u001b[39;00m\u001b[35;01m-\u001b[39;00m\u001b[92m1\u001b[39m)\n",
            "  l27, l28, l29, l30, l31 \u001b[35;01m=\u001b[39;00m sch\u001b[35;01m.\u001b[39;00mget_loops(block\u001b[35;01m=\u001b[39;00mb10)\n",
            "  l32 \u001b[35;01m=\u001b[39;00m sch\u001b[35;01m.\u001b[39;00mfuse(l30, l31, preserve_unit_iters\u001b[35;01m=\u001b[39;00m\u001b[32;01mTrue\u001b[39;00m)\n",
            "  l33, l34, l35 \u001b[35;01m=\u001b[39;00m sch\u001b[35;01m.\u001b[39;00msplit(loop\u001b[35;01m=\u001b[39;00ml32, factors\u001b[35;01m=\u001b[39;00m[\u001b[32;01mNone\u001b[39;00m, \u001b[92m16\u001b[39m, \u001b[92m16\u001b[39m], preserve_unit_iters\u001b[35;01m=\u001b[39;00m\u001b[32;01mTrue\u001b[39;00m, disable_predication\u001b[35;01m=\u001b[39;00m\u001b[32;01mFalse\u001b[39;00m)\n",
            "  sch\u001b[35;01m.\u001b[39;00mbind(loop\u001b[35;01m=\u001b[39;00ml34, thread_axis\u001b[35;01m=\u001b[39;00m\u001b[33m\"\u001b[39m\u001b[33mthreadIdx.y\u001b[39m\u001b[33m\"\u001b[39m)\n",
            "  sch\u001b[35;01m.\u001b[39;00mbind(loop\u001b[35;01m=\u001b[39;00ml35, thread_axis\u001b[35;01m=\u001b[39;00m\u001b[33m\"\u001b[39m\u001b[33mthreadIdx.x\u001b[39m\u001b[33m\"\u001b[39m)\n",
            "  l36, l37, l38, l39, l40 \u001b[35;01m=\u001b[39;00m sch\u001b[35;01m.\u001b[39;00mget_loops(block\u001b[35;01m=\u001b[39;00mb11)\n",
            "  l41 \u001b[35;01m=\u001b[39;00m sch\u001b[35;01m.\u001b[39;00mfuse(l39, l40, preserve_unit_iters\u001b[35;01m=\u001b[39;00m\u001b[32;01mTrue\u001b[39;00m)\n",
            "  l42, l43, l44 \u001b[35;01m=\u001b[39;00m sch\u001b[35;01m.\u001b[39;00msplit(loop\u001b[35;01m=\u001b[39;00ml41, factors\u001b[35;01m=\u001b[39;00m[\u001b[32;01mNone\u001b[39;00m, \u001b[92m16\u001b[39m, \u001b[92m16\u001b[39m], preserve_unit_iters\u001b[35;01m=\u001b[39;00m\u001b[32;01mTrue\u001b[39;00m, disable_predication\u001b[35;01m=\u001b[39;00m\u001b[32;01mFalse\u001b[39;00m)\n",
            "  sch\u001b[35;01m.\u001b[39;00mbind(loop\u001b[35;01m=\u001b[39;00ml43, thread_axis\u001b[35;01m=\u001b[39;00m\u001b[33m\"\u001b[39m\u001b[33mthreadIdx.y\u001b[39m\u001b[33m\"\u001b[39m)\n",
            "  sch\u001b[35;01m.\u001b[39;00mbind(loop\u001b[35;01m=\u001b[39;00ml44, thread_axis\u001b[35;01m=\u001b[39;00m\u001b[33m\"\u001b[39m\u001b[33mthreadIdx.x\u001b[39m\u001b[33m\"\u001b[39m)\n",
            "  b45 \u001b[35;01m=\u001b[39;00m sch\u001b[35;01m.\u001b[39;00mget_block(name\u001b[35;01m=\u001b[39;00m\u001b[33m\"\u001b[39m\u001b[33mgemm\u001b[39m\u001b[33m\"\u001b[39m, func_name\u001b[35;01m=\u001b[39;00m\u001b[33m\"\u001b[39m\u001b[33mmain\u001b[39m\u001b[33m\"\u001b[39m)\n",
            "  l46, l47, l48, l49, l50, l51, l52, l53, l54 \u001b[35;01m=\u001b[39;00m sch\u001b[35;01m.\u001b[39;00mget_loops(block\u001b[35;01m=\u001b[39;00mb45)\n",
            "  b55 \u001b[35;01m=\u001b[39;00m sch\u001b[35;01m.\u001b[39;00mcache_write(block\u001b[35;01m=\u001b[39;00mb45, write_buffer_index\u001b[35;01m=\u001b[39;00m\u001b[92m0\u001b[39m, storage_scope\u001b[35;01m=\u001b[39;00m\u001b[33m\"\u001b[39m\u001b[33mlocal\u001b[39m\u001b[33m\"\u001b[39m)\n",
            "  sch\u001b[35;01m.\u001b[39;00mreverse_compute_at(block\u001b[35;01m=\u001b[39;00mb55, loop\u001b[35;01m=\u001b[39;00ml50, preserve_unit_loops\u001b[35;01m=\u001b[39;00m\u001b[32;01mFalse\u001b[39;00m, index\u001b[35;01m=\u001b[39;00m\u001b[35;01m-\u001b[39;00m\u001b[92m1\u001b[39m)\n",
            "  b56 \u001b[35;01m=\u001b[39;00m sch\u001b[35;01m.\u001b[39;00mget_block(name\u001b[35;01m=\u001b[39;00m\u001b[33m\"\u001b[39m\u001b[33mrelu\u001b[39m\u001b[33m\"\u001b[39m, func_name\u001b[35;01m=\u001b[39;00m\u001b[33m\"\u001b[39m\u001b[33mmain\u001b[39m\u001b[33m\"\u001b[39m)\n",
            "  b57 \u001b[35;01m=\u001b[39;00m sch\u001b[35;01m.\u001b[39;00mget_block(name\u001b[35;01m=\u001b[39;00m\u001b[33m\"\u001b[39m\u001b[33madd\u001b[39m\u001b[33m\"\u001b[39m, func_name\u001b[35;01m=\u001b[39;00m\u001b[33m\"\u001b[39m\u001b[33mmain\u001b[39m\u001b[33m\"\u001b[39m)\n",
            "  sch\u001b[35;01m.\u001b[39;00mreverse_compute_inline(block\u001b[35;01m=\u001b[39;00mb57)\n",
            "  sch\u001b[35;01m.\u001b[39;00mreverse_compute_inline(block\u001b[35;01m=\u001b[39;00mb56)\n",
            "\n"
          ]
        }
      ],
      "source": [
        "!python3 gemm_relu_add.py"
      ]
    },
    {
      "cell_type": "markdown",
      "metadata": {
        "id": "a9ptLqIb1BAv"
      },
      "source": [
        "---"
      ]
    },
    {
      "cell_type": "markdown",
      "metadata": {
        "id": "geTQYN8c1BAv"
      },
      "source": [
        "### If you are using Google Colab...\n",
        "\n",
        "Now we need to switch to GPU runtime and install the PyPI package with CUDA support before\n",
        "running tests.\n",
        "Please go to \"Runtime - Change runtime type\" in the navigation bar, and select \"T4 GPU\".\n",
        "Then run the cells below to install the PyPI package, verify the installation,\n",
        "and mount the Google Drive again.\n",
        "\n",
        "**Note 1.** Be sure to change runtime type to use T4 GPU.\n",
        "Or otherwise you will see library error when importing TVM in Python below.\n",
        "\n",
        "**Note 2.** Please disconnect the GPU runtime when you are not using it.\n",
        "Otherwise you may hit the Colab GPU usage limit and will be temporarily not able to\n",
        "connect to a GPU in Colab if you are a free Colab user."
      ]
    },
    {
      "cell_type": "code",
      "execution_count": 2,
      "metadata": {
        "colab": {
          "base_uri": "https://localhost:8080/"
        },
        "id": "4LvKizwq1BAw",
        "outputId": "3ba8944f-415e-46f2-9ecd-55e0066981c2"
      },
      "outputs": [
        {
          "output_type": "stream",
          "name": "stdout",
          "text": [
            "Looking in links: https://mlc.ai/wheels\n",
            "Collecting mlc-ai-cu123\n",
            "  Downloading https://github.com/mlc-ai/package/releases/download/v0.9.dev0/mlc_ai_cu123-0.19.0-cp311-cp311-manylinux_2_28_x86_64.whl (1480.2 MB)\n",
            "\u001b[2K     \u001b[90m━━━━━━━━━━━━━━━━━━━━━━━━━━━━━━━━━━━━━━━━\u001b[0m \u001b[32m1.5/1.5 GB\u001b[0m \u001b[31m1.2 MB/s\u001b[0m eta \u001b[36m0:00:00\u001b[0m\n",
            "\u001b[?25hRequirement already satisfied: attrs in /usr/local/lib/python3.11/dist-packages (from mlc-ai-cu123) (25.1.0)\n",
            "Requirement already satisfied: cloudpickle in /usr/local/lib/python3.11/dist-packages (from mlc-ai-cu123) (3.1.1)\n",
            "Requirement already satisfied: decorator in /usr/local/lib/python3.11/dist-packages (from mlc-ai-cu123) (4.4.2)\n",
            "Requirement already satisfied: ml-dtypes in /usr/local/lib/python3.11/dist-packages (from mlc-ai-cu123) (0.4.1)\n",
            "Requirement already satisfied: numpy in /usr/local/lib/python3.11/dist-packages (from mlc-ai-cu123) (1.26.4)\n",
            "Requirement already satisfied: packaging in /usr/local/lib/python3.11/dist-packages (from mlc-ai-cu123) (24.2)\n",
            "Requirement already satisfied: psutil in /usr/local/lib/python3.11/dist-packages (from mlc-ai-cu123) (5.9.5)\n",
            "Requirement already satisfied: scipy in /usr/local/lib/python3.11/dist-packages (from mlc-ai-cu123) (1.13.1)\n",
            "Requirement already satisfied: tornado in /usr/local/lib/python3.11/dist-packages (from mlc-ai-cu123) (6.4.2)\n",
            "Requirement already satisfied: typing-extensions in /usr/local/lib/python3.11/dist-packages (from mlc-ai-cu123) (4.12.2)\n",
            "Installing collected packages: mlc-ai-cu123\n",
            "Successfully installed mlc-ai-cu123-0.19.0\n"
          ]
        }
      ],
      "source": [
        "!python3 -m pip install mlc-ai-cu123 -f https://mlc.ai/wheels"
      ]
    },
    {
      "cell_type": "code",
      "execution_count": 2,
      "metadata": {
        "colab": {
          "base_uri": "https://localhost:8080/"
        },
        "id": "PMZlN9QX1BAw",
        "outputId": "c6911ad7-12a9-4f92-df6c-82f98e21b756"
      },
      "outputs": [
        {
          "output_type": "execute_result",
          "data": {
            "text/plain": [
              "['/usr/local/lib/python3.11/dist-packages/tvm']"
            ]
          },
          "metadata": {},
          "execution_count": 2
        }
      ],
      "source": [
        "import tvm\n",
        "tvm.__path__"
      ]
    },
    {
      "cell_type": "code",
      "execution_count": 1,
      "metadata": {
        "colab": {
          "base_uri": "https://localhost:8080/"
        },
        "id": "ttK0Qtop1BAw",
        "outputId": "7f0c4825-711a-4b0c-cab3-794a69463851"
      },
      "outputs": [
        {
          "output_type": "stream",
          "name": "stdout",
          "text": [
            "Mounted at /content/drive\n",
            "/content/drive/MyDrive/15442/assignment2\n"
          ]
        }
      ],
      "source": [
        "# Code to set up the assignment\n",
        "from google.colab import drive\n",
        "drive.mount('/content/drive')\n",
        "%cd /content/drive/MyDrive/15442/assignment2"
      ]
    },
    {
      "cell_type": "markdown",
      "metadata": {
        "id": "9NAoMGuC1BA7"
      },
      "source": [
        "---"
      ]
    },
    {
      "cell_type": "markdown",
      "metadata": {
        "id": "CotXtPVb1BA9"
      },
      "source": [
        "Now that you have finished implementing all the optimizations,\n",
        "you can test the numerical correctness of your code via running the following."
      ]
    },
    {
      "cell_type": "code",
      "execution_count": 8,
      "metadata": {
        "colab": {
          "base_uri": "https://localhost:8080/"
        },
        "id": "pwSwYEFl1BA9",
        "outputId": "09172569-7011-4725-bb59-c4a557f87ac6"
      },
      "outputs": [
        {
          "output_type": "stream",
          "name": "stdout",
          "text": [
            "Passing test round 0...\n",
            "Passing test round 1...\n",
            "Passing test round 2...\n",
            "Passing test round 3...\n",
            "Passing test round 4...\n",
            "Passed all tests.\n"
          ]
        }
      ],
      "source": [
        "!python3 evaluate.py --test"
      ]
    },
    {
      "cell_type": "markdown",
      "metadata": {
        "id": "HBLKcYS01BA-"
      },
      "source": [
        "You can evaluate the execution time of function after your optimization via running the following:"
      ]
    },
    {
      "cell_type": "code",
      "execution_count": 9,
      "metadata": {
        "colab": {
          "base_uri": "https://localhost:8080/"
        },
        "id": "-znotsOL1BA-",
        "outputId": "ad719342-3de5-4a39-cde7-c56db2d9526d"
      },
      "outputs": [
        {
          "output_type": "stream",
          "name": "stdout",
          "text": [
            "Execution time: 23.88 ms\n"
          ]
        }
      ],
      "source": [
        "!python3 evaluate.py --evaluate-manual"
      ]
    },
    {
      "cell_type": "markdown",
      "metadata": {
        "id": "1iXiuoAN1BA-"
      },
      "source": [
        "To help you get a sense of how much performance your optimization gains,\n",
        "we can evaluate a naive GeMM + ReLU + add function with little optimizations.\n",
        "Ideally, you should find that your optimization is times faster than the naive optimization."
      ]
    },
    {
      "cell_type": "code",
      "execution_count": 10,
      "metadata": {
        "colab": {
          "base_uri": "https://localhost:8080/"
        },
        "id": "-vj0ptcd1BA-",
        "outputId": "2602729a-afde-423c-f0a2-47055cca01bf"
      },
      "outputs": [
        {
          "output_type": "stream",
          "name": "stdout",
          "text": [
            "Naive function execution time: 280.01 ms\n"
          ]
        }
      ],
      "source": [
        "!python3 evaluate.py --evaluate-naive"
      ]
    },
    {
      "cell_type": "markdown",
      "metadata": {
        "id": "hiJ8ZFy01BA_"
      },
      "source": [
        "You can print out the CUDA source code of your scheduled workload that TVM generates,\n",
        "and compare it with the Python script you printed\n",
        "via `sch.show()`.\n",
        "As a practice, try to point out which parts in the CUDA source code\n",
        "are the shared memory, local registers,\n",
        "the main GeMM computation, cooperative fetching, write cache,\n",
        "and the fused epilogue respectively."
      ]
    },
    {
      "cell_type": "code",
      "execution_count": 11,
      "metadata": {
        "colab": {
          "base_uri": "https://localhost:8080/"
        },
        "id": "zOa16AEK1BA_",
        "outputId": "f9ec3919-77e3-44e4-bf63-5c525a3c7bb7"
      },
      "outputs": [
        {
          "output_type": "stream",
          "name": "stdout",
          "text": [
            "\n",
            "#if (((__CUDACC_VER_MAJOR__ == 11) && (__CUDACC_VER_MINOR__ >= 4)) || \\\n",
            "     (__CUDACC_VER_MAJOR__ > 11))\n",
            "#define TVM_ENABLE_L2_PREFETCH 1\n",
            "#else\n",
            "#define TVM_ENABLE_L2_PREFETCH 0\n",
            "#endif\n",
            "\n",
            "#ifdef _WIN32\n",
            "  using uint = unsigned int;\n",
            "  using uchar = unsigned char;\n",
            "  using ushort = unsigned short;\n",
            "  using int64_t = long long;\n",
            "  using uint64_t = unsigned long long;\n",
            "#else\n",
            "  #define uint unsigned int\n",
            "  #define uchar unsigned char\n",
            "  #define ushort unsigned short\n",
            "  #define int64_t long long\n",
            "  #define uint64_t unsigned long long\n",
            "#endif\n",
            "extern \"C\" __global__ void __launch_bounds__(256) gemm_relu_add_kernel(float* __restrict__ A, float* __restrict__ B, float* __restrict__ C, float* __restrict__ D);\n",
            "extern \"C\" __global__ void __launch_bounds__(256) gemm_relu_add_kernel(float* __restrict__ A, float* __restrict__ B, float* __restrict__ C, float* __restrict__ D) {\n",
            "  __shared__ float A_shared[4096];\n",
            "  __shared__ float B_shared[4096];\n",
            "  float matmul_local[16];\n",
            "  float A_shared_local[4];\n",
            "  float B_shared_local[4];\n",
            "  for (int k_0 = 0; k_0 < 32; ++k_0) {\n",
            "    __syncthreads();\n",
            "    for (int ax0_ax1_fused_0 = 0; ax0_ax1_fused_0 < 16; ++ax0_ax1_fused_0) {\n",
            "      A_shared[(((ax0_ax1_fused_0 * 256) + (((int)threadIdx.y) * 16)) + ((int)threadIdx.x))] = A[((((((((int)blockIdx.x) * 131072) + (ax0_ax1_fused_0 * 8192)) + ((((int)threadIdx.y) >> 2) * 2048)) + (k_0 * 64)) + ((((int)threadIdx.y) & 3) * 16)) + ((int)threadIdx.x))];\n",
            "    }\n",
            "    for (int ax0_ax1_fused_0_1 = 0; ax0_ax1_fused_0_1 < 16; ++ax0_ax1_fused_0_1) {\n",
            "      B_shared[(((ax0_ax1_fused_0_1 * 256) + (((int)threadIdx.y) * 16)) + ((int)threadIdx.x))] = B[((((((k_0 * 131072) + (ax0_ax1_fused_0_1 * 8192)) + ((((int)threadIdx.y) >> 2) * 2048)) + (((int)blockIdx.y) * 64)) + ((((int)threadIdx.y) & 3) * 16)) + ((int)threadIdx.x))];\n",
            "    }\n",
            "    __syncthreads();\n",
            "    for (int k_1_0 = 0; k_1_0 < 64; ++k_1_0) {\n",
            "      for (int ax0 = 0; ax0 < 4; ++ax0) {\n",
            "        A_shared_local[ax0] = A_shared[(((((int)threadIdx.x) * 256) + (ax0 * 64)) + k_1_0)];\n",
            "      }\n",
            "      for (int ax0_1 = 0; ax0_1 < 4; ++ax0_1) {\n",
            "        B_shared_local[ax0_1] = B_shared[(((k_1_0 * 64) + (((int)threadIdx.y) * 4)) + ax0_1)];\n",
            "      }\n",
            "      for (int i_1_1 = 0; i_1_1 < 4; ++i_1_1) {\n",
            "        for (int j_1_1 = 0; j_1_1 < 4; ++j_1_1) {\n",
            "          if (((k_0 * 64) + k_1_0) == 0) {\n",
            "            matmul_local[((i_1_1 * 4) + j_1_1)] = 0.000000e+00f;\n",
            "          }\n",
            "          matmul_local[((i_1_1 * 4) + j_1_1)] = (matmul_local[((i_1_1 * 4) + j_1_1)] + (A_shared_local[i_1_1] * B_shared_local[j_1_1]));\n",
            "        }\n",
            "      }\n",
            "    }\n",
            "    for (int ax0_2 = 0; ax0_2 < 4; ++ax0_2) {\n",
            "      for (int ax1 = 0; ax1 < 4; ++ax1) {\n",
            "        D[((((((((int)blockIdx.x) * 131072) + (((int)threadIdx.x) * 8192)) + (ax0_2 * 2048)) + (((int)blockIdx.y) * 64)) + (((int)threadIdx.y) * 4)) + ax1)] = (max(matmul_local[((ax0_2 * 4) + ax1)], 0.000000e+00f) + C[((((((((int)blockIdx.x) * 131072) + (((int)threadIdx.x) * 8192)) + (ax0_2 * 2048)) + (((int)blockIdx.y) * 64)) + (((int)threadIdx.y) * 4)) + ax1)]);\n",
            "      }\n",
            "    }\n",
            "  }\n",
            "}\n",
            "\n",
            "\n"
          ]
        }
      ],
      "source": [
        "!python3 evaluate.py --show-cuda"
      ]
    },
    {
      "cell_type": "markdown",
      "metadata": {
        "id": "JjoGzbfr1BA_"
      },
      "source": [
        "## Part 2. Auto Tuning (20 pt)\n",
        "\n",
        "In this part, you have the chance to step further and apply automatic tuning to\n",
        "our GeMM + ReLU + add workload with some adaptation to your code in part 1,\n",
        "so that the optimized workload can run even faster on GPU.\n",
        "\n",
        "In the previous part, we only implemented one schedule for the workload.\n",
        "However, there are many other ways to schedule and optimize the workload,\n",
        "and the particular schedule in part 1 may not be optimal on GPU.\n",
        "A typical example is the tile size:\n",
        "you can easily get other schedules by tweaking the\n",
        "tile sizes for shared memory tiling and register tiling.\n",
        "\n",
        "To describe the problem we want to tackle with auto tuning --\n",
        "all the possible choices of schedules form a search space,\n",
        "and each schedule choice has a corresponding execution time on GPU.\n",
        "We want to find out the schedule with the shortest execution time.\n",
        "\n",
        "However, the execution time of a schedule is hard to be predictable,\n",
        "especially for complicated workloads such as GeMM and convolution\n",
        "(which we don't cover in this assignment).\n",
        "This is because the execution time of a scheduled program on GPU\n",
        "usually depends on multiple factors, making it challenging to build up\n",
        "analytical model to find the best performant schedule.\n",
        "This motivates us to build auto tuning tools to help find the\n",
        "best schedule within the search space on the target GPU.\n",
        "\n",
        "The problem of auto tuning generally consists of two sub-problems.\n",
        "The first one is to generate the search space (i.e., describing the\n",
        "set of programs/schedules in the search space). And the other one\n",
        "is to find the best performant schedule in the space."
      ]
    },
    {
      "cell_type": "markdown",
      "metadata": {
        "id": "RqSPktNm1BBA"
      },
      "source": [
        "---"
      ]
    },
    {
      "cell_type": "markdown",
      "metadata": {
        "id": "JkGj6mvs1BBA"
      },
      "source": [
        "Your task in this part is to define the search space for our\n",
        "GeMM + ReLU + add workload in the function `auto_tuning_schedule` of `auto_tuning.py`.\n",
        "To make things easier, you can only focus on the different\n",
        "choices of tile size in this assignment, and ideally your implementation of\n",
        "the `auto_tuning_schedule` function is adapted from your code in part 1.\n",
        "\n",
        "Obviously, the most straightforward choice is to directly reuse the schedule in part 1.\n",
        "Doing this gives us a search space which only contains a single schedule.\n",
        "You can also manually adjust the tile sizes to check if different tile sizes\n",
        "offer better performance.\n",
        "\n",
        "If you want to define a search space that goes beyond a single schedule,\n",
        "the primitive [`Schedule.sample_perfect_tile`](https://tvm.apache.org/docs/reference/api/python/tir/schedule.html#tvm.tir.schedule.Schedule.sample_perfect_tile)\n",
        "in `tir.Schedule` helps you to sample the tile sizes from the specified loop.\n",
        "For example, for a given schedule `sch`, a given loop `i` with loop length `length`,\n",
        "```python\n",
        "tile0, tile1, tile2, tile3 = sch.sample_perfect_tile(i, n=4)\n",
        "```\n",
        "returns four integer tile sizes `[tile0, tile1, tile2, tile3]` in a list,\n",
        "such that `tile0 * tile1 * tile2 * tile3 == length`.\n",
        "And you can thereby use these tile sizes in schedule primitives such as\n",
        "`split`:\n",
        "```python\n",
        "i0, i1, i2, i3 = sch.split(i, factors=[tile0, tile1, tile2, tile3])\n",
        "```\n",
        "\n",
        "Now, go ahead and implement function `auto_tuning_schedule`.\n",
        "We do not provide other examples for you in this part.\n",
        "\n",
        "**Note:** if you feel unsure about this part and don't know how to start,\n",
        "just try to copy and paste your part 1 code into this function,\n",
        "proceed and run the auto tuning code below to see if it is runnable\n",
        "and gives you an execution time. Then you can come back to update your\n",
        "`auto_tuning_schedule` implementation.\n",
        "This may help you build confidence.\n"
      ]
    },
    {
      "cell_type": "markdown",
      "metadata": {
        "id": "cuRIuh2N1BBA"
      },
      "source": [
        "---"
      ]
    },
    {
      "cell_type": "markdown",
      "metadata": {
        "id": "IlcxYNp71BBB"
      },
      "source": [
        "After defining the search space, let's take a look at the second\n",
        "sub-problem on how to find the best performance schedule within the search space.\n",
        "\n",
        "The most basic way of auto tuning is simply iterate over the entire search space,\n",
        "and evaluate the performance on GPU for every schedule in the space.\n",
        "As you can imagine, this is effective and straightforward when the\n",
        "search space is not too large. However, it is time-consuming\n",
        "to go through every single choice when the search space is large.\n",
        "\n",
        "Here we use an improved way based on genetic algorithms,\n",
        "so that we do not have to go through the entire search space.\n",
        "We will not expand on the details here.\n",
        "If you are interested, you can refer to the papers of\n",
        "[AutoTVM](https://proceedings.neurips.cc/paper_files/paper/2018/file/8b5700012be65c9da25f49408d959ca0-Paper.pdf)\n",
        "and [Meta Schedule](https://proceedings.neurips.cc/paper_files/paper/2022/file/e894eafae43e68b4c8dfdacf742bcbf3-Paper-Conference.pdf)\n",
        "for more details.\n",
        "\n",
        "You can run the cell below to automatically tune the workload\n",
        "with the search space you defined.\n",
        "**The full auto tuning under the default settings may take at most 5 minutes on Google Colab if you use `sample_perfect_tile`.**"
      ]
    },
    {
      "cell_type": "code",
      "execution_count": 4,
      "metadata": {
        "colab": {
          "base_uri": "https://localhost:8080/"
        },
        "id": "GcrawV6b1BBC",
        "outputId": "379eb939-75f8-4436-e6ac-cbf122ad5913"
      },
      "outputs": [
        {
          "output_type": "stream",
          "name": "stdout",
          "text": [
            "2025-02-23 22:11:50 [INFO] Logging directory: /tmp/tmpw1lptanv/logs\n",
            "2025-02-23 22:12:04 [INFO] LocalBuilder: max_workers = 1\n",
            "2025-02-23 22:12:06 [INFO] LocalRunner: max_workers = 1\n",
            "2025-02-23 22:12:07 [INFO] [task_scheduler.cc:159] Initializing Task #0: \"main\"\n",
            "Traceback (most recent call last):\n",
            "  File \"/content/drive/MyDrive/15442/assignment2/auto_tuning.py\", line 150, in <module>\n",
            "    auto_tune()\n",
            "  File \"/content/drive/MyDrive/15442/assignment2/auto_tuning.py\", line 131, in auto_tune\n",
            "    database = ms.tir_integration.tune_tir(\n",
            "               ^^^^^^^^^^^^^^^^^^^^^^^^^^^^\n",
            "  File \"/usr/local/lib/python3.11/dist-packages/tvm/meta_schedule/tir_integration.py\", line 146, in tune_tir\n",
            "    return tune_tasks(\n",
            "           ^^^^^^^^^^^\n",
            "  File \"/usr/local/lib/python3.11/dist-packages/tvm/meta_schedule/tune.py\", line 122, in tune_tasks\n",
            "    task_scheduler.tune(\n",
            "  File \"/usr/local/lib/python3.11/dist-packages/tvm/meta_schedule/task_scheduler/task_scheduler.py\", line 132, in tune\n",
            "    _ffi_api.TaskSchedulerTune(  # type: ignore # pylint: disable=no-member\n",
            "  File \"tvm/_ffi/_cython/./packed_func.pxi\", line 339, in tvm._ffi._cy3.core.PackedFuncBase.__call__\n",
            "  File \"tvm/_ffi/_cython/./packed_func.pxi\", line 284, in tvm._ffi._cy3.core.FuncCall\n",
            "  File \"tvm/_ffi/_cython/./base.pxi\", line 185, in tvm._ffi._cy3.core.CHECK_CALL\n",
            "  File \"/usr/local/lib/python3.11/dist-packages/tvm/_ffi/base.py\", line 481, in raise_last_ffi_error\n",
            "    raise py_err\n",
            "  File \"tvm/_ffi/_cython/./packed_func.pxi\", line 56, in tvm._ffi._cy3.core.tvm_callback\n",
            "  File \"/content/drive/MyDrive/15442/assignment2/auto_tuning.py\", line 51, in auto_tuning_schedule\n",
            "    cooperative_fetching(A_shared)\n",
            "  File \"/content/drive/MyDrive/15442/assignment2/auto_tuning.py\", line 45, in cooperative_fetching\n",
            "    fused = sch.fuse(*loops[-3:])  # Fuse mid and inner loops\n",
            "            ^^^^^^^^^^^^^^^^^^^^^\n",
            "  File \"/usr/local/lib/python3.11/dist-packages/tvm/tir/schedule/_type_checker.py\", line 340, in wrap\n",
            "    return func(*args, **kwargs)\n",
            "           ^^^^^^^^^^^^^^^^^^^^^\n",
            "  File \"/usr/local/lib/python3.11/dist-packages/tvm/tir/schedule/schedule.py\", line 735, in fuse\n",
            "    return _ffi_api.ScheduleFuse(self, loops, preserve_unit_iters)  # type: ignore\n",
            "           ^^^^^^^^^^^^^^^^^^^^^^^^^^^^^^^^^^^^^^^^^^^^^^^^^^^^^^^\n",
            "  File \"tvm/_ffi/_cython/./packed_func.pxi\", line 339, in tvm._ffi._cy3.core.PackedFuncBase.__call__\n",
            "  File \"tvm/_ffi/_cython/./packed_func.pxi\", line 270, in tvm._ffi._cy3.core.FuncCall\n",
            "  File \"tvm/_ffi/_cython/./packed_func.pxi\", line 259, in tvm._ffi._cy3.core.FuncCall3\n",
            "  File \"tvm/_ffi/_cython/./base.pxi\", line 185, in tvm._ffi._cy3.core.CHECK_CALL\n",
            "  File \"/usr/local/lib/python3.11/dist-packages/tvm/_ffi/base.py\", line 481, in raise_last_ffi_error\n",
            "    raise py_err\n",
            "tvm.tir.schedule.schedule.ScheduleError: Traceback (most recent call last):\n",
            "  3: _ZN3tvm7runtime13PackedFun\n",
            "  2: tvm::runtime::TypedPackedFunc<tvm::tir::LoopRV (tvm::tir::Schedule, tvm::runtime::Array<tvm::tir::LoopRV, void> const&, bool)>::AssignTypedLambda<tvm::runtime::Registry::set_body_method<tvm::tir::Schedule, tvm::tir::ScheduleNode, tvm::tir::LoopRV, tvm::runtime::Array<tvm::tir::LoopRV, void> const&, bool, void>(tvm::tir::LoopRV (tvm::tir::ScheduleNode::*)(tvm::runtime::Array<tvm::tir::LoopRV, void> const&, bool))::{lambda(tvm::tir::Schedule, tvm::runtime::Array<tvm::tir::LoopRV, void> const&, bool)#1}>(tvm::runtime::Registry::set_body_method<tvm::tir::Schedule, tvm::tir::ScheduleNode, tvm::tir::LoopRV, tvm::runtime::Array<tvm::tir::LoopRV, void> const&, bool, void>(tvm::tir::LoopRV (tvm::tir::ScheduleNode::*)(tvm::runtime::Array<tvm::tir::LoopRV, void> const&, bool))::{lambda(tvm::tir::Schedule, tvm::runtime::Array<tvm::tir::LoopRV, void> const&, bool)#1}, std::__cxx11::basic_string<char, std::char_traits<char>, std::allocator<char> >)::{lambda(tvm::runtime::TVMArgs const&, tvm::runtime::TVMRetValue*)#1}::operator()(tvm::runtime::TVMArgs const&, tvm::runtime::TVMRetValue*) const\n",
            "  1: tvm::tir::TracedScheduleNode::Fuse(tvm::runtime::Array<tvm::tir::LoopRV, void> const&, bool)\n",
            "  0: tvm::tir::ConcreteScheduleNode::Fuse(tvm::runtime::Array<tvm::tir::LoopRV, void> const&, bool) [clone .cold]\n",
            "ScheduleError: An error occurred in the schedule primitive 'fuse'.\n",
            "The IR with diagnostic is:\n",
            "# from tvm.script import ir as I\n",
            "# from tvm.script import tir as T\n",
            "\n",
            "@I.ir_module\n",
            "class Module:\n",
            "    @T.prim_func\n",
            "    def main(A_handle: T.handle, B_handle: T.handle, C_handle: T.handle, D_handle: T.handle):\n",
            "        T.func_attr({\"global_symbol\": \"gemm_relu_add\", \"tir.noalias\": T.bool(True)})\n",
            "        A = T.match_buffer(A_handle, (2048, 2048))\n",
            "        B = T.match_buffer(B_handle, (2048, 2048))\n",
            "        C = T.match_buffer(C_handle, (2048, 2048))\n",
            "        D = T.match_buffer(D_handle, (2048, 2048))\n",
            "        with T.block(\"root\"):\n",
            "            T.reads()\n",
            "            T.writes()\n",
            "            matmul = T.alloc_buffer((2048, 2048))\n",
            "            relu = T.alloc_buffer((2048, 2048))\n",
            "            A_shared = T.alloc_buffer((2048, 2048), scope=\"shared\")\n",
            "            B_shared = T.alloc_buffer((2048, 2048), scope=\"shared\")\n",
            "            for i_0 in T.thread_binding(2048, thread=\"blockIdx.x\"):\n",
            "                for j_0 in T.thread_binding(2, thread=\"blockIdx.y\"):\n",
            "                    # tir.For#0\n",
            "                    for k_0 in range(64):\n",
            "                    ^^^^^^^^^^^^^^^^^^^^^\n",
            "                        # tir.For#1\n",
            "                        for ax0 in range(1):\n",
            "                        ^^^^^^^^^^^^^^^^^^^^\n",
            "                            for ax1 in range(32):\n",
            "                            ^^^^^^^^^^^^^^^^^^^^^\n",
            "                                with T.block(\"A_shared\"):\n",
            "                                ^^^^^^^^^^^^^^^^^^^^^^^^^\n",
            "                                    v0 = T.axis.spatial(2048, i_0 + ax0)\n",
            "                                    ^^^^^^^^^^^^^^^^^^^^^^^^^^^^^^^^^^^^\n",
            "                                    v1 = T.axis.spatial(2048, k_0 * 32 + ax1)\n",
            "                                    ^^^^^^^^^^^^^^^^^^^^^^^^^^^^^^^^^^^^^^^^^\n",
            "                                    T.reads(A[v0, v1])\n",
            "                                    ^^^^^^^^^^^^^^^^^^\n",
            "                                    T.writes(A_shared[v0, v1])\n",
            "                                    ^^^^^^^^^^^^^^^^^^^^^^^^^^\n",
            "                                    A_shared[v0, v1] = A[v0, v1]\n",
            "                                    ^^^^^^^^^^^^^^^^^^^^^^^^^^^^\n",
            "                        for ax0 in range(32):\n",
            "                        ^^^^^^^^^^^^^^^^^^^^^\n",
            "                            for ax1 in range(1024):\n",
            "                            ^^^^^^^^^^^^^^^^^^^^^^^\n",
            "                                with T.block(\"B_shared\"):\n",
            "                                ^^^^^^^^^^^^^^^^^^^^^^^^^\n",
            "                                    v0 = T.axis.spatial(2048, k_0 * 32 + ax0)\n",
            "                                    ^^^^^^^^^^^^^^^^^^^^^^^^^^^^^^^^^^^^^^^^^\n",
            "                                    v1 = T.axis.spatial(2048, j_0 * 1024 + ax1)\n",
            "                                    ^^^^^^^^^^^^^^^^^^^^^^^^^^^^^^^^^^^^^^^^^^^\n",
            "                                    T.reads(B[v0, v1])\n",
            "                                    ^^^^^^^^^^^^^^^^^^\n",
            "                                    T.writes(B_shared[v0, v1])\n",
            "                                    ^^^^^^^^^^^^^^^^^^^^^^^^^^\n",
            "                                    B_shared[v0, v1] = B[v0, v1]\n",
            "                                    ^^^^^^^^^^^^^^^^^^^^^^^^^^^^\n",
            "                        for i_1 in range(1):\n",
            "                        ^^^^^^^^^^^^^^^^^^^^\n",
            "                            for j_1 in range(256):\n",
            "                            ^^^^^^^^^^^^^^^^^^^^^^\n",
            "                                for k_1 in range(32):\n",
            "                                ^^^^^^^^^^^^^^^^^^^^^\n",
            "                                    for i_2 in range(1):\n",
            "                                    ^^^^^^^^^^^^^^^^^^^^\n",
            "                                        for j_2 in range(4):\n",
            "                                        ^^^^^^^^^^^^^^^^^^^^\n",
            "                                            for k_2 in range(1):\n",
            "                                            ^^^^^^^^^^^^^^^^^^^^\n",
            "                                                with T.block(\"gemm\"):\n",
            "                                                ^^^^^^^^^^^^^^^^^^^^^\n",
            "                                                    vi = T.axis.spatial(2048, i_0 + i_1 + i_2)\n",
            "                                                    ^^^^^^^^^^^^^^^^^^^^^^^^^^^^^^^^^^^^^^^^^^\n",
            "                                                    vj = T.axis.spatial(2048, j_0 * 1024 + j_1 * 4 + j_2)\n",
            "                                                    ^^^^^^^^^^^^^^^^^^^^^^^^^^^^^^^^^^^^^^^^^^^^^^^^^^^^^\n",
            "                                                    vk = T.axis.reduce(2048, k_0 * 32 + k_1 + k_2)\n",
            "                                                    ^^^^^^^^^^^^^^^^^^^^^^^^^^^^^^^^^^^^^^^^^^^^^^\n",
            "                                                    T.reads(A_shared[vi, vk], B_shared[vk, vj])\n",
            "                                                    ^^^^^^^^^^^^^^^^^^^^^^^^^^^^^^^^^^^^^^^^^^^\n",
            "                                                    T.writes(matmul[vi, vj])\n",
            "                                                    ^^^^^^^^^^^^^^^^^^^^^^^^\n",
            "                                                    with T.init():\n",
            "                                                    ^^^^^^^^^^^^^^\n",
            "                                                        matmul[vi, vj] = T.float32(0.0)\n",
            "                                                        ^^^^^^^^^^^^^^^^^^^^^^^^^^^^^^^\n",
            "                                                    matmul[vi, vj] = matmul[vi, vj] + A_shared[vi, vk] * B_shared[vk, vj]\n",
            "                                                    ^^^^^^^^^^^^^^^^^^^^^^^^^^^^^^^^^^^^^^^^^^^^^^^^^^^^^^^^^^^^^^^^^^^^^\n",
            "            for i in range(2048):\n",
            "                for j in range(2048):\n",
            "                    with T.block(\"relu\"):\n",
            "                        vi = T.axis.spatial(2048, i)\n",
            "                        vj = T.axis.spatial(2048, j)\n",
            "                        T.reads(matmul[vi, vj])\n",
            "                        T.writes(relu[vi, vj])\n",
            "                        relu[vi, vj] = T.max(matmul[vi, vj], T.float32(0.0))\n",
            "            for i in range(2048):\n",
            "                for j in range(2048):\n",
            "                    with T.block(\"add\"):\n",
            "                        vi = T.axis.spatial(2048, i)\n",
            "                        vj = T.axis.spatial(2048, j)\n",
            "                        T.reads(relu[vi, vj], C[vi, vj])\n",
            "                        T.writes(D[vi, vj])\n",
            "                        D[vi, vj] = relu[vi, vj] + C[vi, vj]\n",
            "Error message: The loops can't be fused because the inner loop tir.For#1 is not the only child of outer loop tir.For#0.\n"
          ]
        }
      ],
      "source": [
        "!python3 auto_tuning.py"
      ]
    },
    {
      "cell_type": "markdown",
      "metadata": {
        "id": "1NwO7zH01BBC"
      },
      "source": [
        "After tuning, you are expected to see the table\n",
        "```\n",
        " ID | Name |        FLOP | Weight | Speed (GFLOPS) | Latency (us) | Weighted Latency (us) | Trials | Done\n",
        "----------------------------------------------------------------------------------------------------------\n",
        "  0 | main | 17188257792 |      1 |     xxxxxxxxxx |   xxxxxxxxxx |            xxxxxxxxxx |    xxx |    Y\n",
        "----------------------------------------------------------------------------------------------------------\n",
        "```\n",
        "in the end, and a function `apply_trace` printed out:\n",
        "```python\n",
        "# from tvm import tir\n",
        "def apply_trace(sch: tir.Schedule) -> None:\n",
        "  b0 = sch.get_block(name=\"gemm\", func_name=\"main\")\n",
        "  # ...\n",
        "```\n",
        "\n",
        "Please, **copy the entire `apply_trace` function, and paste it into `trace_submission.py`**.\n",
        "`trace_submission.py` is the only file you will submit for this part."
      ]
    },
    {
      "cell_type": "markdown",
      "metadata": {
        "id": "x1ubs1n31BBD"
      },
      "source": [
        "The column \"Latency\" in the table shows the execution time you get after auto tuning.\n",
        "**When grading, we will manually run the command in the cell below to measure the execution time of the schedule in `trace_submission.py` on Google Colab with NVIDIA T4 GPU.**\n",
        "You can also run the cell below to check the execution time.\n",
        "The time it shows might be slightly longer than the latency shown in the table due to variance,\n",
        "which is normal."
      ]
    },
    {
      "cell_type": "code",
      "execution_count": 13,
      "metadata": {
        "colab": {
          "base_uri": "https://localhost:8080/"
        },
        "id": "F2wYGCUM1BBD",
        "outputId": "65f692aa-6ec4-4802-d54f-d2c37e021a8e"
      },
      "outputs": [
        {
          "output_type": "stream",
          "name": "stdout",
          "text": [
            "Traceback (most recent call last):\n",
            "  File \"/content/drive/MyDrive/15442/assignment2/evaluate.py\", line 110, in <module>\n",
            "    evaluate_execution_time(sch)\n",
            "  File \"/content/drive/MyDrive/15442/assignment2/evaluate.py\", line 40, in evaluate_execution_time\n",
            "    f = build_sch(sch)\n",
            "        ^^^^^^^^^^^^^^\n",
            "  File \"/content/drive/MyDrive/15442/assignment2/evaluate.py\", line 15, in build_sch\n",
            "    return tvm.build(sch.mod, target=\"cuda\")\n",
            "           ^^^^^^^^^^^^^^^^^^^^^^^^^^^^^^^^^\n",
            "  File \"/usr/local/lib/python3.11/dist-packages/tvm/driver/build_module.py\", line 297, in build\n",
            "    rt_mod_host = _driver_ffi.tir_to_runtime(annotated_mods, target_host)\n",
            "                  ^^^^^^^^^^^^^^^^^^^^^^^^^^^^^^^^^^^^^^^^^^^^^^^^^^^^^^^\n",
            "  File \"tvm/_ffi/_cython/./packed_func.pxi\", line 339, in tvm._ffi._cy3.core.PackedFuncBase.__call__\n",
            "  File \"tvm/_ffi/_cython/./packed_func.pxi\", line 270, in tvm._ffi._cy3.core.FuncCall\n",
            "  File \"tvm/_ffi/_cython/./packed_func.pxi\", line 259, in tvm._ffi._cy3.core.FuncCall3\n",
            "  File \"tvm/_ffi/_cython/./base.pxi\", line 185, in tvm._ffi._cy3.core.CHECK_CALL\n",
            "  File \"/usr/local/lib/python3.11/dist-packages/tvm/_ffi/base.py\", line 481, in raise_last_ffi_error\n",
            "    raise py_err\n",
            "tvm._ffi.base.TVMError: Traceback (most recent call last):\n",
            "  11: tvm::runtime::PackedFuncObj::Extractor<tvm::runtime::PackedFuncSubObj<tvm::runtime::TypedPackedFunc<tvm::runtime::Module (tvm::runtime::Map<tvm::Target, tvm::IRModule, void, void> const&, tvm::Target)>::AssignTypedLambda<tvm::__mk_TVM24::{lambda(tvm::runtime::Map<tvm::Target, tvm::IRModule, void, void> const&, tvm::Target)#1}>(tvm::__mk_TVM24::{lambda(tvm::runtime::Map<tvm::Target, tvm::IRModule, void, void> const&, tvm::Target)#1}, std::__cxx11::basic_string<char, std::char_traits<char>, std::allocator<char> >)::{lambda(tvm::runtime::TVMArgs const&, tvm::runtime::TVMRetValue*)#1}> >::Call(tvm::runtime::PackedFuncObj const*, std::__cxx11::basic_string<char, std::char_traits<char>, std::allocator<char> >, tvm::runtime::TVMRetValue)\n",
            "  10: tvm::TIRToRuntime(tvm::runtime::Map<tvm::Target, tvm::IRModule, void, void> const&, tvm::Target const&)\n",
            "  9: tvm::SplitMixedModule(tvm::IRModule, tvm::Target const&, tvm::Target const&)\n",
            "  8: tvm::ApplyPasses(tvm::IRModule, tvm::transform::Sequential)\n",
            "  7: tvm::transform::Pass::operator()(tvm::IRModule) const\n",
            "  6: tvm::transform::Pass::operator()(tvm::IRModule, tvm::transform::PassContext const&) const\n",
            "  5: tvm::transform::SequentialNode::operator()(tvm::IRModule, tvm::transform::PassContext const&) const\n",
            "  4: tvm::transform::Pass::operator()(tvm::IRModule, tvm::transform::PassContext const&) const\n",
            "  3: tvm::transform::ModulePassNode::operator()(tvm::IRModule, tvm::transform::PassContext const&) const\n",
            "  2: _ZN3tvm7runtime13PackedFun\n",
            "  1: tvm::runtime::TypedPackedFunc<tvm::IRModule (tvm::IRModule, tvm::transform::PassContext)>::AssignTypedLambda<tvm::tir::transform::VerifyMemory()::{lambda(tvm::IRModule, tvm::transform::PassContext)#1}>(tvm::tir::transform::VerifyMemory()::{lambda(tvm::IRModule, tvm::transform::PassContext)#1})::{lambda(tvm::runtime::TVMArgs const&, tvm::runtime::TVMRetValue*)#1}::operator()(tvm::runtime::TVMArgs const&, tvm::runtime::TVMRetValue*) const\n",
            "  0: _ZN3tvm7runtime6deta\n",
            "  Did you forget to bind?\n",
            "    Variable `C` is directly accessed by host memory (it is not contained in a thread environment or in the function arguments.\n",
            "    Variable `D` is directly accessed by host memory (it is not contained in a thread environment or in the function arguments.\n",
            "    Variable `B` is directly accessed by host memory (it is not contained in a thread environment or in the function arguments.\n",
            "    Variable `A` is directly accessed by host memory (it is not contained in a thread environment or in the function arguments.\n",
            "  File \"/workspace/tvm/src/tir/analysis/verify_memory.cc\", line 205\n",
            "RuntimeError: Memory verification failed with the following errors:\n",
            "# from tvm.script import tir as T\n",
            "\n",
            "@T.prim_func\n",
            "def gemm_relu_add(A: T.Buffer((2048, 2048), \"float32\"), B: T.Buffer((2048, 2048), \"float32\"), C: T.Buffer((2048, 2048), \"float32\"), D: T.Buffer((2048, 2048), \"float32\")):\n",
            "    T.func_attr({\"target\": T.target({\"arch\": \"sm_75\", \"host\": {\"keys\": [\"cpu\"], \"kind\": \"llvm\", \"mtriple\": \"x86_64-redhat-linux-gnu\", \"tag\": \"\"}, \"keys\": [\"cuda\", \"gpu\"], \"kind\": \"cuda\", \"max_num_threads\": 1024, \"tag\": \"\", \"thread_warp_size\": 32})})\n",
            "    matmul = T.allocate([4194304], \"float32\", \"global\")\n",
            "    matmul_1 = T.Buffer((4194304,), data=matmul)\n",
            "    for i, j, k in T.grid(2048, 2048, 2048):\n",
            "        cse_var_2: T.int32 = i * 2048\n",
            "        cse_var_1: T.int32 = cse_var_2 + j\n",
            "        if k == 0:\n",
            "            matmul_1[cse_var_1] = T.float32(0.0)\n",
            "        A_1 = T.Buffer((4194304,), data=A.data)\n",
            "        B_1 = T.Buffer((4194304,), data=B.data)\n",
            "        matmul_1[cse_var_1] = matmul_1[cse_var_1] + A_1[cse_var_2 + k] * B_1[k * 2048 + j]\n",
            "    matmul_2 = T.Buffer((4194304,), data=matmul)\n",
            "    for i, j in T.grid(2048, 2048):\n",
            "        cse_var_3: T.int32 = i * 2048 + j\n",
            "        matmul_2[cse_var_3] = T.max(matmul_1[cse_var_3], T.float32(0.0))\n",
            "    for i, j in T.grid(2048, 2048):\n",
            "        cse_var_4: T.int32 = i * 2048 + j\n",
            "        D_1 = T.Buffer((4194304,), data=D.data)\n",
            "        C_1 = T.Buffer((4194304,), data=C.data)\n",
            "        D_1[cse_var_4] = matmul_2[cse_var_4] + C_1[cse_var_4]\n"
          ]
        }
      ],
      "source": [
        "!python3 evaluate.py --evaluate-tuned"
      ]
    },
    {
      "cell_type": "markdown",
      "metadata": {
        "id": "t5ff_lIw1BBE"
      },
      "source": [
        "The scores you will get is based on the execution time you can reach.\n",
        "Here is the score table for your reference:\n",
        "\n",
        "| Execution time after tuning (ms) | Scores (pt) |\n",
        "| -: | :-: |\n",
        "| ≤ 20.00 | 20 |\n",
        "| ≤ 40.00 | 15 |\n",
        "| ≤ 80.00 | 10 |\n",
        "| ≤ 160.00 | 5  |"
      ]
    },
    {
      "cell_type": "markdown",
      "metadata": {
        "id": "pTJbXRWc1BBF"
      },
      "source": [
        "## Part 3. Assignment Feedback (0 pt)\n",
        "\n",
        "This is the second time we offer this course, and we appreciate any assignment feedback from you.\n",
        "You can leave your feedback (if any) in `feedback.txt`, and submit it together with the source code.\n",
        "Possible choices can be:\n",
        "\n",
        "- Are the notebooks and instructions clear enough?\n",
        "- How difficult do you think this assignment is?\n",
        "- How much time does the assignment take? Which task takes the most time?\n",
        "- Which part of the assignment do you feel hard to understand?\n",
        "- And any other things you would like to share.\n",
        "\n",
        "Your feedback will be very useful in helping us improve the assignment quality\n",
        "for next years.\n"
      ]
    },
    {
      "cell_type": "markdown",
      "metadata": {
        "id": "k6PPNQsK1BBG"
      },
      "source": [
        "## Code Submission and Grading\n",
        "\n",
        "In the home directory for the assignment, execute the command"
      ]
    },
    {
      "cell_type": "code",
      "execution_count": null,
      "metadata": {
        "id": "x9eyfL_81BBG"
      },
      "outputs": [],
      "source": [
        "!zip handin.zip gemm_relu_add.py trace_submission.py feedback.txt"
      ]
    },
    {
      "cell_type": "markdown",
      "metadata": {
        "id": "8uHOQVkP1BBG"
      },
      "source": [
        "This will create a zip file with `gemm_relu_add.py`, `trace_submission.py` and `feedback.txt`.\n",
        "You can check the contents of `handin.zip` to make sure it contains all the needed files:"
      ]
    },
    {
      "cell_type": "code",
      "execution_count": null,
      "metadata": {
        "id": "SlshM_V41BBG"
      },
      "outputs": [],
      "source": [
        "!zipinfo -1 handin.zip"
      ]
    },
    {
      "cell_type": "markdown",
      "metadata": {
        "id": "BYja_enT1BBH"
      },
      "source": [
        "It is expected to list the three files:\n",
        "```\n",
        "gemm_relu_add.py\n",
        "trace_submission.py\n",
        "feedback.txt\n",
        "```\n",
        "\n",
        "Then, please go to GradeScope at https://www.gradescope.com/courses/951055 and submit the file `handin.zip` to Assignment 2.\n",
        "\n",
        "The assignment will be automatically graded.\n",
        "* For both parts, the autograder checks both the optimization completeness and the numerical correctness. You will not get full scores if the autograder finds your optimization schedule is numerically incorrect.\n",
        "* For `gemm_relu_add.py`, please make sure NOT to change the signatures of `shared_memory_tiling`, `register_tiling`, `cooperative_fetching`, `write_cache` and `epilogue_fusion`, or otherwise the autograder may not process your submission properly.\n",
        "* Please make sure that your submitted `gemm_relu_add.py` and `trace_submission.py` are placed at the root level of the zip file (i.e., they are not in any sub-folder),\n",
        "or **otherwise the autograder may not process your submission properly**.\n",
        "* You can submit multiple times, and the time stamp of the last submission will be used in determining any late penalties.\n",
        "\n",
        "**Any attempt to manipulate or compromise the integrity of the autograder will result in severe penalties.**\n",
        "\n",
        "If you are enrolled in the course (on SIO), but not registered on GradeScope, please let the course staff know in a private post on Piazza.\n"
      ]
    }
  ],
  "metadata": {
    "kernelspec": {
      "display_name": "Python 3",
      "name": "python3"
    },
    "language_info": {
      "codemirror_mode": {
        "name": "ipython",
        "version": 3
      },
      "file_extension": ".py",
      "mimetype": "text/x-python",
      "name": "python",
      "nbconvert_exporter": "python",
      "pygments_lexer": "ipython3",
      "version": "3.10.8"
    },
    "colab": {
      "provenance": [],
      "gpuType": "T4"
    },
    "accelerator": "GPU"
  },
  "nbformat": 4,
  "nbformat_minor": 0
}